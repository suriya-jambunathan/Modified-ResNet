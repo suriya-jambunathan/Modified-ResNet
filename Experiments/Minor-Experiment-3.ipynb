{
  "nbformat": 4,
  "nbformat_minor": 0,
  "metadata": {
    "colab": {
      "provenance": [],
      "gpuType": "T4"
    },
    "kernelspec": {
      "name": "python3",
      "display_name": "Python 3"
    },
    "language_info": {
      "name": "python"
    },
    "accelerator": "GPU",
    "gpuClass": "standard",
    "widgets": {
      "application/vnd.jupyter.widget-state+json": {
        "0f94087da58142559445b8cbfa96c8e3": {
          "model_module": "@jupyter-widgets/controls",
          "model_name": "VBoxModel",
          "model_module_version": "1.5.0",
          "state": {
            "_dom_classes": [],
            "_model_module": "@jupyter-widgets/controls",
            "_model_module_version": "1.5.0",
            "_model_name": "VBoxModel",
            "_view_count": null,
            "_view_module": "@jupyter-widgets/controls",
            "_view_module_version": "1.5.0",
            "_view_name": "VBoxView",
            "box_style": "",
            "children": [
              "IPY_MODEL_f3bfd51292a24a3ab8a5d0f7e7dbd7f7",
              "IPY_MODEL_fa0b5edff9944fde8d4e7f8cef3fdb0c"
            ],
            "layout": "IPY_MODEL_479e0d77c8c543ee8248ab8c186c882a"
          }
        },
        "f3bfd51292a24a3ab8a5d0f7e7dbd7f7": {
          "model_module": "@jupyter-widgets/controls",
          "model_name": "LabelModel",
          "model_module_version": "1.5.0",
          "state": {
            "_dom_classes": [],
            "_model_module": "@jupyter-widgets/controls",
            "_model_module_version": "1.5.0",
            "_model_name": "LabelModel",
            "_view_count": null,
            "_view_module": "@jupyter-widgets/controls",
            "_view_module_version": "1.5.0",
            "_view_name": "LabelView",
            "description": "",
            "description_tooltip": null,
            "layout": "IPY_MODEL_aa2bf994363b4bdbaa28a0c98142ef27",
            "placeholder": "​",
            "style": "IPY_MODEL_30ddac296117423b98a6fec9acd8bea7",
            "value": "0.011 MB of 0.011 MB uploaded (0.000 MB deduped)\r"
          }
        },
        "fa0b5edff9944fde8d4e7f8cef3fdb0c": {
          "model_module": "@jupyter-widgets/controls",
          "model_name": "FloatProgressModel",
          "model_module_version": "1.5.0",
          "state": {
            "_dom_classes": [],
            "_model_module": "@jupyter-widgets/controls",
            "_model_module_version": "1.5.0",
            "_model_name": "FloatProgressModel",
            "_view_count": null,
            "_view_module": "@jupyter-widgets/controls",
            "_view_module_version": "1.5.0",
            "_view_name": "ProgressView",
            "bar_style": "",
            "description": "",
            "description_tooltip": null,
            "layout": "IPY_MODEL_6b2d14acc28042278ff3922c0bcfd903",
            "max": 1,
            "min": 0,
            "orientation": "horizontal",
            "style": "IPY_MODEL_ab75e793a9e241d8ad898540a6389427",
            "value": 1
          }
        },
        "479e0d77c8c543ee8248ab8c186c882a": {
          "model_module": "@jupyter-widgets/base",
          "model_name": "LayoutModel",
          "model_module_version": "1.2.0",
          "state": {
            "_model_module": "@jupyter-widgets/base",
            "_model_module_version": "1.2.0",
            "_model_name": "LayoutModel",
            "_view_count": null,
            "_view_module": "@jupyter-widgets/base",
            "_view_module_version": "1.2.0",
            "_view_name": "LayoutView",
            "align_content": null,
            "align_items": null,
            "align_self": null,
            "border": null,
            "bottom": null,
            "display": null,
            "flex": null,
            "flex_flow": null,
            "grid_area": null,
            "grid_auto_columns": null,
            "grid_auto_flow": null,
            "grid_auto_rows": null,
            "grid_column": null,
            "grid_gap": null,
            "grid_row": null,
            "grid_template_areas": null,
            "grid_template_columns": null,
            "grid_template_rows": null,
            "height": null,
            "justify_content": null,
            "justify_items": null,
            "left": null,
            "margin": null,
            "max_height": null,
            "max_width": null,
            "min_height": null,
            "min_width": null,
            "object_fit": null,
            "object_position": null,
            "order": null,
            "overflow": null,
            "overflow_x": null,
            "overflow_y": null,
            "padding": null,
            "right": null,
            "top": null,
            "visibility": null,
            "width": null
          }
        },
        "aa2bf994363b4bdbaa28a0c98142ef27": {
          "model_module": "@jupyter-widgets/base",
          "model_name": "LayoutModel",
          "model_module_version": "1.2.0",
          "state": {
            "_model_module": "@jupyter-widgets/base",
            "_model_module_version": "1.2.0",
            "_model_name": "LayoutModel",
            "_view_count": null,
            "_view_module": "@jupyter-widgets/base",
            "_view_module_version": "1.2.0",
            "_view_name": "LayoutView",
            "align_content": null,
            "align_items": null,
            "align_self": null,
            "border": null,
            "bottom": null,
            "display": null,
            "flex": null,
            "flex_flow": null,
            "grid_area": null,
            "grid_auto_columns": null,
            "grid_auto_flow": null,
            "grid_auto_rows": null,
            "grid_column": null,
            "grid_gap": null,
            "grid_row": null,
            "grid_template_areas": null,
            "grid_template_columns": null,
            "grid_template_rows": null,
            "height": null,
            "justify_content": null,
            "justify_items": null,
            "left": null,
            "margin": null,
            "max_height": null,
            "max_width": null,
            "min_height": null,
            "min_width": null,
            "object_fit": null,
            "object_position": null,
            "order": null,
            "overflow": null,
            "overflow_x": null,
            "overflow_y": null,
            "padding": null,
            "right": null,
            "top": null,
            "visibility": null,
            "width": null
          }
        },
        "30ddac296117423b98a6fec9acd8bea7": {
          "model_module": "@jupyter-widgets/controls",
          "model_name": "DescriptionStyleModel",
          "model_module_version": "1.5.0",
          "state": {
            "_model_module": "@jupyter-widgets/controls",
            "_model_module_version": "1.5.0",
            "_model_name": "DescriptionStyleModel",
            "_view_count": null,
            "_view_module": "@jupyter-widgets/base",
            "_view_module_version": "1.2.0",
            "_view_name": "StyleView",
            "description_width": ""
          }
        },
        "6b2d14acc28042278ff3922c0bcfd903": {
          "model_module": "@jupyter-widgets/base",
          "model_name": "LayoutModel",
          "model_module_version": "1.2.0",
          "state": {
            "_model_module": "@jupyter-widgets/base",
            "_model_module_version": "1.2.0",
            "_model_name": "LayoutModel",
            "_view_count": null,
            "_view_module": "@jupyter-widgets/base",
            "_view_module_version": "1.2.0",
            "_view_name": "LayoutView",
            "align_content": null,
            "align_items": null,
            "align_self": null,
            "border": null,
            "bottom": null,
            "display": null,
            "flex": null,
            "flex_flow": null,
            "grid_area": null,
            "grid_auto_columns": null,
            "grid_auto_flow": null,
            "grid_auto_rows": null,
            "grid_column": null,
            "grid_gap": null,
            "grid_row": null,
            "grid_template_areas": null,
            "grid_template_columns": null,
            "grid_template_rows": null,
            "height": null,
            "justify_content": null,
            "justify_items": null,
            "left": null,
            "margin": null,
            "max_height": null,
            "max_width": null,
            "min_height": null,
            "min_width": null,
            "object_fit": null,
            "object_position": null,
            "order": null,
            "overflow": null,
            "overflow_x": null,
            "overflow_y": null,
            "padding": null,
            "right": null,
            "top": null,
            "visibility": null,
            "width": null
          }
        },
        "ab75e793a9e241d8ad898540a6389427": {
          "model_module": "@jupyter-widgets/controls",
          "model_name": "ProgressStyleModel",
          "model_module_version": "1.5.0",
          "state": {
            "_model_module": "@jupyter-widgets/controls",
            "_model_module_version": "1.5.0",
            "_model_name": "ProgressStyleModel",
            "_view_count": null,
            "_view_module": "@jupyter-widgets/base",
            "_view_module_version": "1.2.0",
            "_view_name": "StyleView",
            "bar_color": null,
            "description_width": ""
          }
        },
        "f02ab6b6170d4f2a90261177a3fd1869": {
          "model_module": "@jupyter-widgets/controls",
          "model_name": "VBoxModel",
          "model_module_version": "1.5.0",
          "state": {
            "_dom_classes": [],
            "_model_module": "@jupyter-widgets/controls",
            "_model_module_version": "1.5.0",
            "_model_name": "VBoxModel",
            "_view_count": null,
            "_view_module": "@jupyter-widgets/controls",
            "_view_module_version": "1.5.0",
            "_view_name": "VBoxView",
            "box_style": "",
            "children": [
              "IPY_MODEL_5c413fffca3e445d96c1b56015b328fb",
              "IPY_MODEL_bfe4f0f87a9342028a7072604874420a"
            ],
            "layout": "IPY_MODEL_4f5d4d7573814db19f97bea42674160b"
          }
        },
        "5c413fffca3e445d96c1b56015b328fb": {
          "model_module": "@jupyter-widgets/controls",
          "model_name": "LabelModel",
          "model_module_version": "1.5.0",
          "state": {
            "_dom_classes": [],
            "_model_module": "@jupyter-widgets/controls",
            "_model_module_version": "1.5.0",
            "_model_name": "LabelModel",
            "_view_count": null,
            "_view_module": "@jupyter-widgets/controls",
            "_view_module_version": "1.5.0",
            "_view_name": "LabelView",
            "description": "",
            "description_tooltip": null,
            "layout": "IPY_MODEL_7e5637c667d440439ed0e70c1261b95c",
            "placeholder": "​",
            "style": "IPY_MODEL_4c2f48aef4d14a23b5f99e77dedb91b5",
            "value": "0.011 MB of 0.011 MB uploaded (0.000 MB deduped)\r"
          }
        },
        "bfe4f0f87a9342028a7072604874420a": {
          "model_module": "@jupyter-widgets/controls",
          "model_name": "FloatProgressModel",
          "model_module_version": "1.5.0",
          "state": {
            "_dom_classes": [],
            "_model_module": "@jupyter-widgets/controls",
            "_model_module_version": "1.5.0",
            "_model_name": "FloatProgressModel",
            "_view_count": null,
            "_view_module": "@jupyter-widgets/controls",
            "_view_module_version": "1.5.0",
            "_view_name": "ProgressView",
            "bar_style": "",
            "description": "",
            "description_tooltip": null,
            "layout": "IPY_MODEL_25d36dc4e1304c1fabd7b5f2bb6bc3f0",
            "max": 1,
            "min": 0,
            "orientation": "horizontal",
            "style": "IPY_MODEL_178de9243c094c6a87bf442960254f50",
            "value": 1
          }
        },
        "4f5d4d7573814db19f97bea42674160b": {
          "model_module": "@jupyter-widgets/base",
          "model_name": "LayoutModel",
          "model_module_version": "1.2.0",
          "state": {
            "_model_module": "@jupyter-widgets/base",
            "_model_module_version": "1.2.0",
            "_model_name": "LayoutModel",
            "_view_count": null,
            "_view_module": "@jupyter-widgets/base",
            "_view_module_version": "1.2.0",
            "_view_name": "LayoutView",
            "align_content": null,
            "align_items": null,
            "align_self": null,
            "border": null,
            "bottom": null,
            "display": null,
            "flex": null,
            "flex_flow": null,
            "grid_area": null,
            "grid_auto_columns": null,
            "grid_auto_flow": null,
            "grid_auto_rows": null,
            "grid_column": null,
            "grid_gap": null,
            "grid_row": null,
            "grid_template_areas": null,
            "grid_template_columns": null,
            "grid_template_rows": null,
            "height": null,
            "justify_content": null,
            "justify_items": null,
            "left": null,
            "margin": null,
            "max_height": null,
            "max_width": null,
            "min_height": null,
            "min_width": null,
            "object_fit": null,
            "object_position": null,
            "order": null,
            "overflow": null,
            "overflow_x": null,
            "overflow_y": null,
            "padding": null,
            "right": null,
            "top": null,
            "visibility": null,
            "width": null
          }
        },
        "7e5637c667d440439ed0e70c1261b95c": {
          "model_module": "@jupyter-widgets/base",
          "model_name": "LayoutModel",
          "model_module_version": "1.2.0",
          "state": {
            "_model_module": "@jupyter-widgets/base",
            "_model_module_version": "1.2.0",
            "_model_name": "LayoutModel",
            "_view_count": null,
            "_view_module": "@jupyter-widgets/base",
            "_view_module_version": "1.2.0",
            "_view_name": "LayoutView",
            "align_content": null,
            "align_items": null,
            "align_self": null,
            "border": null,
            "bottom": null,
            "display": null,
            "flex": null,
            "flex_flow": null,
            "grid_area": null,
            "grid_auto_columns": null,
            "grid_auto_flow": null,
            "grid_auto_rows": null,
            "grid_column": null,
            "grid_gap": null,
            "grid_row": null,
            "grid_template_areas": null,
            "grid_template_columns": null,
            "grid_template_rows": null,
            "height": null,
            "justify_content": null,
            "justify_items": null,
            "left": null,
            "margin": null,
            "max_height": null,
            "max_width": null,
            "min_height": null,
            "min_width": null,
            "object_fit": null,
            "object_position": null,
            "order": null,
            "overflow": null,
            "overflow_x": null,
            "overflow_y": null,
            "padding": null,
            "right": null,
            "top": null,
            "visibility": null,
            "width": null
          }
        },
        "4c2f48aef4d14a23b5f99e77dedb91b5": {
          "model_module": "@jupyter-widgets/controls",
          "model_name": "DescriptionStyleModel",
          "model_module_version": "1.5.0",
          "state": {
            "_model_module": "@jupyter-widgets/controls",
            "_model_module_version": "1.5.0",
            "_model_name": "DescriptionStyleModel",
            "_view_count": null,
            "_view_module": "@jupyter-widgets/base",
            "_view_module_version": "1.2.0",
            "_view_name": "StyleView",
            "description_width": ""
          }
        },
        "25d36dc4e1304c1fabd7b5f2bb6bc3f0": {
          "model_module": "@jupyter-widgets/base",
          "model_name": "LayoutModel",
          "model_module_version": "1.2.0",
          "state": {
            "_model_module": "@jupyter-widgets/base",
            "_model_module_version": "1.2.0",
            "_model_name": "LayoutModel",
            "_view_count": null,
            "_view_module": "@jupyter-widgets/base",
            "_view_module_version": "1.2.0",
            "_view_name": "LayoutView",
            "align_content": null,
            "align_items": null,
            "align_self": null,
            "border": null,
            "bottom": null,
            "display": null,
            "flex": null,
            "flex_flow": null,
            "grid_area": null,
            "grid_auto_columns": null,
            "grid_auto_flow": null,
            "grid_auto_rows": null,
            "grid_column": null,
            "grid_gap": null,
            "grid_row": null,
            "grid_template_areas": null,
            "grid_template_columns": null,
            "grid_template_rows": null,
            "height": null,
            "justify_content": null,
            "justify_items": null,
            "left": null,
            "margin": null,
            "max_height": null,
            "max_width": null,
            "min_height": null,
            "min_width": null,
            "object_fit": null,
            "object_position": null,
            "order": null,
            "overflow": null,
            "overflow_x": null,
            "overflow_y": null,
            "padding": null,
            "right": null,
            "top": null,
            "visibility": null,
            "width": null
          }
        },
        "178de9243c094c6a87bf442960254f50": {
          "model_module": "@jupyter-widgets/controls",
          "model_name": "ProgressStyleModel",
          "model_module_version": "1.5.0",
          "state": {
            "_model_module": "@jupyter-widgets/controls",
            "_model_module_version": "1.5.0",
            "_model_name": "ProgressStyleModel",
            "_view_count": null,
            "_view_module": "@jupyter-widgets/base",
            "_view_module_version": "1.2.0",
            "_view_name": "StyleView",
            "bar_color": null,
            "description_width": ""
          }
        },
        "2f6572a9c0ad459dbe1955195180d4c8": {
          "model_module": "@jupyter-widgets/controls",
          "model_name": "VBoxModel",
          "model_module_version": "1.5.0",
          "state": {
            "_dom_classes": [],
            "_model_module": "@jupyter-widgets/controls",
            "_model_module_version": "1.5.0",
            "_model_name": "VBoxModel",
            "_view_count": null,
            "_view_module": "@jupyter-widgets/controls",
            "_view_module_version": "1.5.0",
            "_view_name": "VBoxView",
            "box_style": "",
            "children": [
              "IPY_MODEL_1a3ddc50ea9a4bf488135f4f78aec6c8",
              "IPY_MODEL_94a8d25326a04f72bd53254560e1288d"
            ],
            "layout": "IPY_MODEL_f97173198bad487d91b62ee55cac1880"
          }
        },
        "1a3ddc50ea9a4bf488135f4f78aec6c8": {
          "model_module": "@jupyter-widgets/controls",
          "model_name": "LabelModel",
          "model_module_version": "1.5.0",
          "state": {
            "_dom_classes": [],
            "_model_module": "@jupyter-widgets/controls",
            "_model_module_version": "1.5.0",
            "_model_name": "LabelModel",
            "_view_count": null,
            "_view_module": "@jupyter-widgets/controls",
            "_view_module_version": "1.5.0",
            "_view_name": "LabelView",
            "description": "",
            "description_tooltip": null,
            "layout": "IPY_MODEL_c9d5da9a75164e57b9b51c5eda3482a2",
            "placeholder": "​",
            "style": "IPY_MODEL_b92a6902c7fd47e9850cc12c830d1a99",
            "value": "0.001 MB of 0.011 MB uploaded (0.000 MB deduped)\r"
          }
        },
        "94a8d25326a04f72bd53254560e1288d": {
          "model_module": "@jupyter-widgets/controls",
          "model_name": "FloatProgressModel",
          "model_module_version": "1.5.0",
          "state": {
            "_dom_classes": [],
            "_model_module": "@jupyter-widgets/controls",
            "_model_module_version": "1.5.0",
            "_model_name": "FloatProgressModel",
            "_view_count": null,
            "_view_module": "@jupyter-widgets/controls",
            "_view_module_version": "1.5.0",
            "_view_name": "ProgressView",
            "bar_style": "",
            "description": "",
            "description_tooltip": null,
            "layout": "IPY_MODEL_b60a97a56797402f886dc1ed6247f808",
            "max": 1,
            "min": 0,
            "orientation": "horizontal",
            "style": "IPY_MODEL_3827a0f006d04e8ca1a251f01ae3bbbd",
            "value": 0.10315993310448024
          }
        },
        "f97173198bad487d91b62ee55cac1880": {
          "model_module": "@jupyter-widgets/base",
          "model_name": "LayoutModel",
          "model_module_version": "1.2.0",
          "state": {
            "_model_module": "@jupyter-widgets/base",
            "_model_module_version": "1.2.0",
            "_model_name": "LayoutModel",
            "_view_count": null,
            "_view_module": "@jupyter-widgets/base",
            "_view_module_version": "1.2.0",
            "_view_name": "LayoutView",
            "align_content": null,
            "align_items": null,
            "align_self": null,
            "border": null,
            "bottom": null,
            "display": null,
            "flex": null,
            "flex_flow": null,
            "grid_area": null,
            "grid_auto_columns": null,
            "grid_auto_flow": null,
            "grid_auto_rows": null,
            "grid_column": null,
            "grid_gap": null,
            "grid_row": null,
            "grid_template_areas": null,
            "grid_template_columns": null,
            "grid_template_rows": null,
            "height": null,
            "justify_content": null,
            "justify_items": null,
            "left": null,
            "margin": null,
            "max_height": null,
            "max_width": null,
            "min_height": null,
            "min_width": null,
            "object_fit": null,
            "object_position": null,
            "order": null,
            "overflow": null,
            "overflow_x": null,
            "overflow_y": null,
            "padding": null,
            "right": null,
            "top": null,
            "visibility": null,
            "width": null
          }
        },
        "c9d5da9a75164e57b9b51c5eda3482a2": {
          "model_module": "@jupyter-widgets/base",
          "model_name": "LayoutModel",
          "model_module_version": "1.2.0",
          "state": {
            "_model_module": "@jupyter-widgets/base",
            "_model_module_version": "1.2.0",
            "_model_name": "LayoutModel",
            "_view_count": null,
            "_view_module": "@jupyter-widgets/base",
            "_view_module_version": "1.2.0",
            "_view_name": "LayoutView",
            "align_content": null,
            "align_items": null,
            "align_self": null,
            "border": null,
            "bottom": null,
            "display": null,
            "flex": null,
            "flex_flow": null,
            "grid_area": null,
            "grid_auto_columns": null,
            "grid_auto_flow": null,
            "grid_auto_rows": null,
            "grid_column": null,
            "grid_gap": null,
            "grid_row": null,
            "grid_template_areas": null,
            "grid_template_columns": null,
            "grid_template_rows": null,
            "height": null,
            "justify_content": null,
            "justify_items": null,
            "left": null,
            "margin": null,
            "max_height": null,
            "max_width": null,
            "min_height": null,
            "min_width": null,
            "object_fit": null,
            "object_position": null,
            "order": null,
            "overflow": null,
            "overflow_x": null,
            "overflow_y": null,
            "padding": null,
            "right": null,
            "top": null,
            "visibility": null,
            "width": null
          }
        },
        "b92a6902c7fd47e9850cc12c830d1a99": {
          "model_module": "@jupyter-widgets/controls",
          "model_name": "DescriptionStyleModel",
          "model_module_version": "1.5.0",
          "state": {
            "_model_module": "@jupyter-widgets/controls",
            "_model_module_version": "1.5.0",
            "_model_name": "DescriptionStyleModel",
            "_view_count": null,
            "_view_module": "@jupyter-widgets/base",
            "_view_module_version": "1.2.0",
            "_view_name": "StyleView",
            "description_width": ""
          }
        },
        "b60a97a56797402f886dc1ed6247f808": {
          "model_module": "@jupyter-widgets/base",
          "model_name": "LayoutModel",
          "model_module_version": "1.2.0",
          "state": {
            "_model_module": "@jupyter-widgets/base",
            "_model_module_version": "1.2.0",
            "_model_name": "LayoutModel",
            "_view_count": null,
            "_view_module": "@jupyter-widgets/base",
            "_view_module_version": "1.2.0",
            "_view_name": "LayoutView",
            "align_content": null,
            "align_items": null,
            "align_self": null,
            "border": null,
            "bottom": null,
            "display": null,
            "flex": null,
            "flex_flow": null,
            "grid_area": null,
            "grid_auto_columns": null,
            "grid_auto_flow": null,
            "grid_auto_rows": null,
            "grid_column": null,
            "grid_gap": null,
            "grid_row": null,
            "grid_template_areas": null,
            "grid_template_columns": null,
            "grid_template_rows": null,
            "height": null,
            "justify_content": null,
            "justify_items": null,
            "left": null,
            "margin": null,
            "max_height": null,
            "max_width": null,
            "min_height": null,
            "min_width": null,
            "object_fit": null,
            "object_position": null,
            "order": null,
            "overflow": null,
            "overflow_x": null,
            "overflow_y": null,
            "padding": null,
            "right": null,
            "top": null,
            "visibility": null,
            "width": null
          }
        },
        "3827a0f006d04e8ca1a251f01ae3bbbd": {
          "model_module": "@jupyter-widgets/controls",
          "model_name": "ProgressStyleModel",
          "model_module_version": "1.5.0",
          "state": {
            "_model_module": "@jupyter-widgets/controls",
            "_model_module_version": "1.5.0",
            "_model_name": "ProgressStyleModel",
            "_view_count": null,
            "_view_module": "@jupyter-widgets/base",
            "_view_module_version": "1.2.0",
            "_view_name": "StyleView",
            "bar_color": null,
            "description_width": ""
          }
        },
        "dc3079e4cbff4830b7115ac8a102ece0": {
          "model_module": "@jupyter-widgets/controls",
          "model_name": "VBoxModel",
          "model_module_version": "1.5.0",
          "state": {
            "_dom_classes": [],
            "_model_module": "@jupyter-widgets/controls",
            "_model_module_version": "1.5.0",
            "_model_name": "VBoxModel",
            "_view_count": null,
            "_view_module": "@jupyter-widgets/controls",
            "_view_module_version": "1.5.0",
            "_view_name": "VBoxView",
            "box_style": "",
            "children": [
              "IPY_MODEL_bae3347f61e14d96907f25225c0a8abd",
              "IPY_MODEL_59c8068c7cff4968b9c36d6921631b74"
            ],
            "layout": "IPY_MODEL_e90b5d4237654ae7967bee6851278eb7"
          }
        },
        "bae3347f61e14d96907f25225c0a8abd": {
          "model_module": "@jupyter-widgets/controls",
          "model_name": "LabelModel",
          "model_module_version": "1.5.0",
          "state": {
            "_dom_classes": [],
            "_model_module": "@jupyter-widgets/controls",
            "_model_module_version": "1.5.0",
            "_model_name": "LabelModel",
            "_view_count": null,
            "_view_module": "@jupyter-widgets/controls",
            "_view_module_version": "1.5.0",
            "_view_name": "LabelView",
            "description": "",
            "description_tooltip": null,
            "layout": "IPY_MODEL_ec531713a8ee415c8d676beead52a247",
            "placeholder": "​",
            "style": "IPY_MODEL_5d6e97204f444c31b43364da597abd76",
            "value": "0.011 MB of 0.011 MB uploaded (0.000 MB deduped)\r"
          }
        },
        "59c8068c7cff4968b9c36d6921631b74": {
          "model_module": "@jupyter-widgets/controls",
          "model_name": "FloatProgressModel",
          "model_module_version": "1.5.0",
          "state": {
            "_dom_classes": [],
            "_model_module": "@jupyter-widgets/controls",
            "_model_module_version": "1.5.0",
            "_model_name": "FloatProgressModel",
            "_view_count": null,
            "_view_module": "@jupyter-widgets/controls",
            "_view_module_version": "1.5.0",
            "_view_name": "ProgressView",
            "bar_style": "",
            "description": "",
            "description_tooltip": null,
            "layout": "IPY_MODEL_1f1392292009490da31752fee3105454",
            "max": 1,
            "min": 0,
            "orientation": "horizontal",
            "style": "IPY_MODEL_c0bc9fe531134094b079f734d5edabb5",
            "value": 1
          }
        },
        "e90b5d4237654ae7967bee6851278eb7": {
          "model_module": "@jupyter-widgets/base",
          "model_name": "LayoutModel",
          "model_module_version": "1.2.0",
          "state": {
            "_model_module": "@jupyter-widgets/base",
            "_model_module_version": "1.2.0",
            "_model_name": "LayoutModel",
            "_view_count": null,
            "_view_module": "@jupyter-widgets/base",
            "_view_module_version": "1.2.0",
            "_view_name": "LayoutView",
            "align_content": null,
            "align_items": null,
            "align_self": null,
            "border": null,
            "bottom": null,
            "display": null,
            "flex": null,
            "flex_flow": null,
            "grid_area": null,
            "grid_auto_columns": null,
            "grid_auto_flow": null,
            "grid_auto_rows": null,
            "grid_column": null,
            "grid_gap": null,
            "grid_row": null,
            "grid_template_areas": null,
            "grid_template_columns": null,
            "grid_template_rows": null,
            "height": null,
            "justify_content": null,
            "justify_items": null,
            "left": null,
            "margin": null,
            "max_height": null,
            "max_width": null,
            "min_height": null,
            "min_width": null,
            "object_fit": null,
            "object_position": null,
            "order": null,
            "overflow": null,
            "overflow_x": null,
            "overflow_y": null,
            "padding": null,
            "right": null,
            "top": null,
            "visibility": null,
            "width": null
          }
        },
        "ec531713a8ee415c8d676beead52a247": {
          "model_module": "@jupyter-widgets/base",
          "model_name": "LayoutModel",
          "model_module_version": "1.2.0",
          "state": {
            "_model_module": "@jupyter-widgets/base",
            "_model_module_version": "1.2.0",
            "_model_name": "LayoutModel",
            "_view_count": null,
            "_view_module": "@jupyter-widgets/base",
            "_view_module_version": "1.2.0",
            "_view_name": "LayoutView",
            "align_content": null,
            "align_items": null,
            "align_self": null,
            "border": null,
            "bottom": null,
            "display": null,
            "flex": null,
            "flex_flow": null,
            "grid_area": null,
            "grid_auto_columns": null,
            "grid_auto_flow": null,
            "grid_auto_rows": null,
            "grid_column": null,
            "grid_gap": null,
            "grid_row": null,
            "grid_template_areas": null,
            "grid_template_columns": null,
            "grid_template_rows": null,
            "height": null,
            "justify_content": null,
            "justify_items": null,
            "left": null,
            "margin": null,
            "max_height": null,
            "max_width": null,
            "min_height": null,
            "min_width": null,
            "object_fit": null,
            "object_position": null,
            "order": null,
            "overflow": null,
            "overflow_x": null,
            "overflow_y": null,
            "padding": null,
            "right": null,
            "top": null,
            "visibility": null,
            "width": null
          }
        },
        "5d6e97204f444c31b43364da597abd76": {
          "model_module": "@jupyter-widgets/controls",
          "model_name": "DescriptionStyleModel",
          "model_module_version": "1.5.0",
          "state": {
            "_model_module": "@jupyter-widgets/controls",
            "_model_module_version": "1.5.0",
            "_model_name": "DescriptionStyleModel",
            "_view_count": null,
            "_view_module": "@jupyter-widgets/base",
            "_view_module_version": "1.2.0",
            "_view_name": "StyleView",
            "description_width": ""
          }
        },
        "1f1392292009490da31752fee3105454": {
          "model_module": "@jupyter-widgets/base",
          "model_name": "LayoutModel",
          "model_module_version": "1.2.0",
          "state": {
            "_model_module": "@jupyter-widgets/base",
            "_model_module_version": "1.2.0",
            "_model_name": "LayoutModel",
            "_view_count": null,
            "_view_module": "@jupyter-widgets/base",
            "_view_module_version": "1.2.0",
            "_view_name": "LayoutView",
            "align_content": null,
            "align_items": null,
            "align_self": null,
            "border": null,
            "bottom": null,
            "display": null,
            "flex": null,
            "flex_flow": null,
            "grid_area": null,
            "grid_auto_columns": null,
            "grid_auto_flow": null,
            "grid_auto_rows": null,
            "grid_column": null,
            "grid_gap": null,
            "grid_row": null,
            "grid_template_areas": null,
            "grid_template_columns": null,
            "grid_template_rows": null,
            "height": null,
            "justify_content": null,
            "justify_items": null,
            "left": null,
            "margin": null,
            "max_height": null,
            "max_width": null,
            "min_height": null,
            "min_width": null,
            "object_fit": null,
            "object_position": null,
            "order": null,
            "overflow": null,
            "overflow_x": null,
            "overflow_y": null,
            "padding": null,
            "right": null,
            "top": null,
            "visibility": null,
            "width": null
          }
        },
        "c0bc9fe531134094b079f734d5edabb5": {
          "model_module": "@jupyter-widgets/controls",
          "model_name": "ProgressStyleModel",
          "model_module_version": "1.5.0",
          "state": {
            "_model_module": "@jupyter-widgets/controls",
            "_model_module_version": "1.5.0",
            "_model_name": "ProgressStyleModel",
            "_view_count": null,
            "_view_module": "@jupyter-widgets/base",
            "_view_module_version": "1.2.0",
            "_view_name": "StyleView",
            "bar_color": null,
            "description_width": ""
          }
        },
        "3c1900edb60b44709703dc95e0cedbba": {
          "model_module": "@jupyter-widgets/controls",
          "model_name": "VBoxModel",
          "model_module_version": "1.5.0",
          "state": {
            "_dom_classes": [],
            "_model_module": "@jupyter-widgets/controls",
            "_model_module_version": "1.5.0",
            "_model_name": "VBoxModel",
            "_view_count": null,
            "_view_module": "@jupyter-widgets/controls",
            "_view_module_version": "1.5.0",
            "_view_name": "VBoxView",
            "box_style": "",
            "children": [
              "IPY_MODEL_d980da894b6f4bb49a65716d1929fd7f",
              "IPY_MODEL_0f6a4c38e7b34422afeab4f1407f02c8"
            ],
            "layout": "IPY_MODEL_b5083eae965540c1a8045ded7ee935bc"
          }
        },
        "d980da894b6f4bb49a65716d1929fd7f": {
          "model_module": "@jupyter-widgets/controls",
          "model_name": "LabelModel",
          "model_module_version": "1.5.0",
          "state": {
            "_dom_classes": [],
            "_model_module": "@jupyter-widgets/controls",
            "_model_module_version": "1.5.0",
            "_model_name": "LabelModel",
            "_view_count": null,
            "_view_module": "@jupyter-widgets/controls",
            "_view_module_version": "1.5.0",
            "_view_name": "LabelView",
            "description": "",
            "description_tooltip": null,
            "layout": "IPY_MODEL_e345058d24464aa197363e7afbc7df38",
            "placeholder": "​",
            "style": "IPY_MODEL_be2238c12e42492d9cc7437ee7f0d159",
            "value": "0.001 MB of 0.011 MB uploaded (0.000 MB deduped)\r"
          }
        },
        "0f6a4c38e7b34422afeab4f1407f02c8": {
          "model_module": "@jupyter-widgets/controls",
          "model_name": "FloatProgressModel",
          "model_module_version": "1.5.0",
          "state": {
            "_dom_classes": [],
            "_model_module": "@jupyter-widgets/controls",
            "_model_module_version": "1.5.0",
            "_model_name": "FloatProgressModel",
            "_view_count": null,
            "_view_module": "@jupyter-widgets/controls",
            "_view_module_version": "1.5.0",
            "_view_name": "ProgressView",
            "bar_style": "",
            "description": "",
            "description_tooltip": null,
            "layout": "IPY_MODEL_24465d493c2a455787c269ae668c2433",
            "max": 1,
            "min": 0,
            "orientation": "horizontal",
            "style": "IPY_MODEL_e5db98cc5d10471b9a18864062d67560",
            "value": 0.10307191268374263
          }
        },
        "b5083eae965540c1a8045ded7ee935bc": {
          "model_module": "@jupyter-widgets/base",
          "model_name": "LayoutModel",
          "model_module_version": "1.2.0",
          "state": {
            "_model_module": "@jupyter-widgets/base",
            "_model_module_version": "1.2.0",
            "_model_name": "LayoutModel",
            "_view_count": null,
            "_view_module": "@jupyter-widgets/base",
            "_view_module_version": "1.2.0",
            "_view_name": "LayoutView",
            "align_content": null,
            "align_items": null,
            "align_self": null,
            "border": null,
            "bottom": null,
            "display": null,
            "flex": null,
            "flex_flow": null,
            "grid_area": null,
            "grid_auto_columns": null,
            "grid_auto_flow": null,
            "grid_auto_rows": null,
            "grid_column": null,
            "grid_gap": null,
            "grid_row": null,
            "grid_template_areas": null,
            "grid_template_columns": null,
            "grid_template_rows": null,
            "height": null,
            "justify_content": null,
            "justify_items": null,
            "left": null,
            "margin": null,
            "max_height": null,
            "max_width": null,
            "min_height": null,
            "min_width": null,
            "object_fit": null,
            "object_position": null,
            "order": null,
            "overflow": null,
            "overflow_x": null,
            "overflow_y": null,
            "padding": null,
            "right": null,
            "top": null,
            "visibility": null,
            "width": null
          }
        },
        "e345058d24464aa197363e7afbc7df38": {
          "model_module": "@jupyter-widgets/base",
          "model_name": "LayoutModel",
          "model_module_version": "1.2.0",
          "state": {
            "_model_module": "@jupyter-widgets/base",
            "_model_module_version": "1.2.0",
            "_model_name": "LayoutModel",
            "_view_count": null,
            "_view_module": "@jupyter-widgets/base",
            "_view_module_version": "1.2.0",
            "_view_name": "LayoutView",
            "align_content": null,
            "align_items": null,
            "align_self": null,
            "border": null,
            "bottom": null,
            "display": null,
            "flex": null,
            "flex_flow": null,
            "grid_area": null,
            "grid_auto_columns": null,
            "grid_auto_flow": null,
            "grid_auto_rows": null,
            "grid_column": null,
            "grid_gap": null,
            "grid_row": null,
            "grid_template_areas": null,
            "grid_template_columns": null,
            "grid_template_rows": null,
            "height": null,
            "justify_content": null,
            "justify_items": null,
            "left": null,
            "margin": null,
            "max_height": null,
            "max_width": null,
            "min_height": null,
            "min_width": null,
            "object_fit": null,
            "object_position": null,
            "order": null,
            "overflow": null,
            "overflow_x": null,
            "overflow_y": null,
            "padding": null,
            "right": null,
            "top": null,
            "visibility": null,
            "width": null
          }
        },
        "be2238c12e42492d9cc7437ee7f0d159": {
          "model_module": "@jupyter-widgets/controls",
          "model_name": "DescriptionStyleModel",
          "model_module_version": "1.5.0",
          "state": {
            "_model_module": "@jupyter-widgets/controls",
            "_model_module_version": "1.5.0",
            "_model_name": "DescriptionStyleModel",
            "_view_count": null,
            "_view_module": "@jupyter-widgets/base",
            "_view_module_version": "1.2.0",
            "_view_name": "StyleView",
            "description_width": ""
          }
        },
        "24465d493c2a455787c269ae668c2433": {
          "model_module": "@jupyter-widgets/base",
          "model_name": "LayoutModel",
          "model_module_version": "1.2.0",
          "state": {
            "_model_module": "@jupyter-widgets/base",
            "_model_module_version": "1.2.0",
            "_model_name": "LayoutModel",
            "_view_count": null,
            "_view_module": "@jupyter-widgets/base",
            "_view_module_version": "1.2.0",
            "_view_name": "LayoutView",
            "align_content": null,
            "align_items": null,
            "align_self": null,
            "border": null,
            "bottom": null,
            "display": null,
            "flex": null,
            "flex_flow": null,
            "grid_area": null,
            "grid_auto_columns": null,
            "grid_auto_flow": null,
            "grid_auto_rows": null,
            "grid_column": null,
            "grid_gap": null,
            "grid_row": null,
            "grid_template_areas": null,
            "grid_template_columns": null,
            "grid_template_rows": null,
            "height": null,
            "justify_content": null,
            "justify_items": null,
            "left": null,
            "margin": null,
            "max_height": null,
            "max_width": null,
            "min_height": null,
            "min_width": null,
            "object_fit": null,
            "object_position": null,
            "order": null,
            "overflow": null,
            "overflow_x": null,
            "overflow_y": null,
            "padding": null,
            "right": null,
            "top": null,
            "visibility": null,
            "width": null
          }
        },
        "e5db98cc5d10471b9a18864062d67560": {
          "model_module": "@jupyter-widgets/controls",
          "model_name": "ProgressStyleModel",
          "model_module_version": "1.5.0",
          "state": {
            "_model_module": "@jupyter-widgets/controls",
            "_model_module_version": "1.5.0",
            "_model_name": "ProgressStyleModel",
            "_view_count": null,
            "_view_module": "@jupyter-widgets/base",
            "_view_module_version": "1.2.0",
            "_view_name": "StyleView",
            "bar_color": null,
            "description_width": ""
          }
        },
        "31485c0693bf4414bd47ddc1a16adbbb": {
          "model_module": "@jupyter-widgets/controls",
          "model_name": "VBoxModel",
          "model_module_version": "1.5.0",
          "state": {
            "_dom_classes": [],
            "_model_module": "@jupyter-widgets/controls",
            "_model_module_version": "1.5.0",
            "_model_name": "VBoxModel",
            "_view_count": null,
            "_view_module": "@jupyter-widgets/controls",
            "_view_module_version": "1.5.0",
            "_view_name": "VBoxView",
            "box_style": "",
            "children": [
              "IPY_MODEL_a0a78ca711744f418c6af30574b330a8",
              "IPY_MODEL_4bcfca63b6ff4a83ac10645cbdbd458a"
            ],
            "layout": "IPY_MODEL_dd0558849b4b4dad82670bf53bb74d34"
          }
        },
        "a0a78ca711744f418c6af30574b330a8": {
          "model_module": "@jupyter-widgets/controls",
          "model_name": "LabelModel",
          "model_module_version": "1.5.0",
          "state": {
            "_dom_classes": [],
            "_model_module": "@jupyter-widgets/controls",
            "_model_module_version": "1.5.0",
            "_model_name": "LabelModel",
            "_view_count": null,
            "_view_module": "@jupyter-widgets/controls",
            "_view_module_version": "1.5.0",
            "_view_name": "LabelView",
            "description": "",
            "description_tooltip": null,
            "layout": "IPY_MODEL_0588dd9ad6744bf0bff38292d0982cb6",
            "placeholder": "​",
            "style": "IPY_MODEL_db9faf2c84d149488a9a5842b532bf47",
            "value": "0.001 MB of 0.001 MB uploaded (0.000 MB deduped)\r"
          }
        },
        "4bcfca63b6ff4a83ac10645cbdbd458a": {
          "model_module": "@jupyter-widgets/controls",
          "model_name": "FloatProgressModel",
          "model_module_version": "1.5.0",
          "state": {
            "_dom_classes": [],
            "_model_module": "@jupyter-widgets/controls",
            "_model_module_version": "1.5.0",
            "_model_name": "FloatProgressModel",
            "_view_count": null,
            "_view_module": "@jupyter-widgets/controls",
            "_view_module_version": "1.5.0",
            "_view_name": "ProgressView",
            "bar_style": "",
            "description": "",
            "description_tooltip": null,
            "layout": "IPY_MODEL_ccfb0f00749d49c8b9f3bddc2ca03b65",
            "max": 1,
            "min": 0,
            "orientation": "horizontal",
            "style": "IPY_MODEL_59adbcc9b5b345e1a49488423d42f1e6",
            "value": 1
          }
        },
        "dd0558849b4b4dad82670bf53bb74d34": {
          "model_module": "@jupyter-widgets/base",
          "model_name": "LayoutModel",
          "model_module_version": "1.2.0",
          "state": {
            "_model_module": "@jupyter-widgets/base",
            "_model_module_version": "1.2.0",
            "_model_name": "LayoutModel",
            "_view_count": null,
            "_view_module": "@jupyter-widgets/base",
            "_view_module_version": "1.2.0",
            "_view_name": "LayoutView",
            "align_content": null,
            "align_items": null,
            "align_self": null,
            "border": null,
            "bottom": null,
            "display": null,
            "flex": null,
            "flex_flow": null,
            "grid_area": null,
            "grid_auto_columns": null,
            "grid_auto_flow": null,
            "grid_auto_rows": null,
            "grid_column": null,
            "grid_gap": null,
            "grid_row": null,
            "grid_template_areas": null,
            "grid_template_columns": null,
            "grid_template_rows": null,
            "height": null,
            "justify_content": null,
            "justify_items": null,
            "left": null,
            "margin": null,
            "max_height": null,
            "max_width": null,
            "min_height": null,
            "min_width": null,
            "object_fit": null,
            "object_position": null,
            "order": null,
            "overflow": null,
            "overflow_x": null,
            "overflow_y": null,
            "padding": null,
            "right": null,
            "top": null,
            "visibility": null,
            "width": null
          }
        },
        "0588dd9ad6744bf0bff38292d0982cb6": {
          "model_module": "@jupyter-widgets/base",
          "model_name": "LayoutModel",
          "model_module_version": "1.2.0",
          "state": {
            "_model_module": "@jupyter-widgets/base",
            "_model_module_version": "1.2.0",
            "_model_name": "LayoutModel",
            "_view_count": null,
            "_view_module": "@jupyter-widgets/base",
            "_view_module_version": "1.2.0",
            "_view_name": "LayoutView",
            "align_content": null,
            "align_items": null,
            "align_self": null,
            "border": null,
            "bottom": null,
            "display": null,
            "flex": null,
            "flex_flow": null,
            "grid_area": null,
            "grid_auto_columns": null,
            "grid_auto_flow": null,
            "grid_auto_rows": null,
            "grid_column": null,
            "grid_gap": null,
            "grid_row": null,
            "grid_template_areas": null,
            "grid_template_columns": null,
            "grid_template_rows": null,
            "height": null,
            "justify_content": null,
            "justify_items": null,
            "left": null,
            "margin": null,
            "max_height": null,
            "max_width": null,
            "min_height": null,
            "min_width": null,
            "object_fit": null,
            "object_position": null,
            "order": null,
            "overflow": null,
            "overflow_x": null,
            "overflow_y": null,
            "padding": null,
            "right": null,
            "top": null,
            "visibility": null,
            "width": null
          }
        },
        "db9faf2c84d149488a9a5842b532bf47": {
          "model_module": "@jupyter-widgets/controls",
          "model_name": "DescriptionStyleModel",
          "model_module_version": "1.5.0",
          "state": {
            "_model_module": "@jupyter-widgets/controls",
            "_model_module_version": "1.5.0",
            "_model_name": "DescriptionStyleModel",
            "_view_count": null,
            "_view_module": "@jupyter-widgets/base",
            "_view_module_version": "1.2.0",
            "_view_name": "StyleView",
            "description_width": ""
          }
        },
        "ccfb0f00749d49c8b9f3bddc2ca03b65": {
          "model_module": "@jupyter-widgets/base",
          "model_name": "LayoutModel",
          "model_module_version": "1.2.0",
          "state": {
            "_model_module": "@jupyter-widgets/base",
            "_model_module_version": "1.2.0",
            "_model_name": "LayoutModel",
            "_view_count": null,
            "_view_module": "@jupyter-widgets/base",
            "_view_module_version": "1.2.0",
            "_view_name": "LayoutView",
            "align_content": null,
            "align_items": null,
            "align_self": null,
            "border": null,
            "bottom": null,
            "display": null,
            "flex": null,
            "flex_flow": null,
            "grid_area": null,
            "grid_auto_columns": null,
            "grid_auto_flow": null,
            "grid_auto_rows": null,
            "grid_column": null,
            "grid_gap": null,
            "grid_row": null,
            "grid_template_areas": null,
            "grid_template_columns": null,
            "grid_template_rows": null,
            "height": null,
            "justify_content": null,
            "justify_items": null,
            "left": null,
            "margin": null,
            "max_height": null,
            "max_width": null,
            "min_height": null,
            "min_width": null,
            "object_fit": null,
            "object_position": null,
            "order": null,
            "overflow": null,
            "overflow_x": null,
            "overflow_y": null,
            "padding": null,
            "right": null,
            "top": null,
            "visibility": null,
            "width": null
          }
        },
        "59adbcc9b5b345e1a49488423d42f1e6": {
          "model_module": "@jupyter-widgets/controls",
          "model_name": "ProgressStyleModel",
          "model_module_version": "1.5.0",
          "state": {
            "_model_module": "@jupyter-widgets/controls",
            "_model_module_version": "1.5.0",
            "_model_name": "ProgressStyleModel",
            "_view_count": null,
            "_view_module": "@jupyter-widgets/base",
            "_view_module_version": "1.2.0",
            "_view_name": "StyleView",
            "bar_color": null,
            "description_width": ""
          }
        },
        "4821e38431d94dd88fa0c011a45acf7b": {
          "model_module": "@jupyter-widgets/controls",
          "model_name": "VBoxModel",
          "model_module_version": "1.5.0",
          "state": {
            "_dom_classes": [],
            "_model_module": "@jupyter-widgets/controls",
            "_model_module_version": "1.5.0",
            "_model_name": "VBoxModel",
            "_view_count": null,
            "_view_module": "@jupyter-widgets/controls",
            "_view_module_version": "1.5.0",
            "_view_name": "VBoxView",
            "box_style": "",
            "children": [
              "IPY_MODEL_c9350eed8998467085a2926cdace0246",
              "IPY_MODEL_6a2d49ec6e574346ab2cc805290f3900"
            ],
            "layout": "IPY_MODEL_f7647b129b56478880ce0b4623454209"
          }
        },
        "c9350eed8998467085a2926cdace0246": {
          "model_module": "@jupyter-widgets/controls",
          "model_name": "LabelModel",
          "model_module_version": "1.5.0",
          "state": {
            "_dom_classes": [],
            "_model_module": "@jupyter-widgets/controls",
            "_model_module_version": "1.5.0",
            "_model_name": "LabelModel",
            "_view_count": null,
            "_view_module": "@jupyter-widgets/controls",
            "_view_module_version": "1.5.0",
            "_view_name": "LabelView",
            "description": "",
            "description_tooltip": null,
            "layout": "IPY_MODEL_4b900ea16d9546639c8fc6d715280b27",
            "placeholder": "​",
            "style": "IPY_MODEL_da4b770ab28a4dc28999d43c88844682",
            "value": "0.011 MB of 0.011 MB uploaded (0.000 MB deduped)\r"
          }
        },
        "6a2d49ec6e574346ab2cc805290f3900": {
          "model_module": "@jupyter-widgets/controls",
          "model_name": "FloatProgressModel",
          "model_module_version": "1.5.0",
          "state": {
            "_dom_classes": [],
            "_model_module": "@jupyter-widgets/controls",
            "_model_module_version": "1.5.0",
            "_model_name": "FloatProgressModel",
            "_view_count": null,
            "_view_module": "@jupyter-widgets/controls",
            "_view_module_version": "1.5.0",
            "_view_name": "ProgressView",
            "bar_style": "",
            "description": "",
            "description_tooltip": null,
            "layout": "IPY_MODEL_a57035ed20a5492092b5f24945ba2afe",
            "max": 1,
            "min": 0,
            "orientation": "horizontal",
            "style": "IPY_MODEL_068c1d56c434435297a76a2fb8805341",
            "value": 1
          }
        },
        "f7647b129b56478880ce0b4623454209": {
          "model_module": "@jupyter-widgets/base",
          "model_name": "LayoutModel",
          "model_module_version": "1.2.0",
          "state": {
            "_model_module": "@jupyter-widgets/base",
            "_model_module_version": "1.2.0",
            "_model_name": "LayoutModel",
            "_view_count": null,
            "_view_module": "@jupyter-widgets/base",
            "_view_module_version": "1.2.0",
            "_view_name": "LayoutView",
            "align_content": null,
            "align_items": null,
            "align_self": null,
            "border": null,
            "bottom": null,
            "display": null,
            "flex": null,
            "flex_flow": null,
            "grid_area": null,
            "grid_auto_columns": null,
            "grid_auto_flow": null,
            "grid_auto_rows": null,
            "grid_column": null,
            "grid_gap": null,
            "grid_row": null,
            "grid_template_areas": null,
            "grid_template_columns": null,
            "grid_template_rows": null,
            "height": null,
            "justify_content": null,
            "justify_items": null,
            "left": null,
            "margin": null,
            "max_height": null,
            "max_width": null,
            "min_height": null,
            "min_width": null,
            "object_fit": null,
            "object_position": null,
            "order": null,
            "overflow": null,
            "overflow_x": null,
            "overflow_y": null,
            "padding": null,
            "right": null,
            "top": null,
            "visibility": null,
            "width": null
          }
        },
        "4b900ea16d9546639c8fc6d715280b27": {
          "model_module": "@jupyter-widgets/base",
          "model_name": "LayoutModel",
          "model_module_version": "1.2.0",
          "state": {
            "_model_module": "@jupyter-widgets/base",
            "_model_module_version": "1.2.0",
            "_model_name": "LayoutModel",
            "_view_count": null,
            "_view_module": "@jupyter-widgets/base",
            "_view_module_version": "1.2.0",
            "_view_name": "LayoutView",
            "align_content": null,
            "align_items": null,
            "align_self": null,
            "border": null,
            "bottom": null,
            "display": null,
            "flex": null,
            "flex_flow": null,
            "grid_area": null,
            "grid_auto_columns": null,
            "grid_auto_flow": null,
            "grid_auto_rows": null,
            "grid_column": null,
            "grid_gap": null,
            "grid_row": null,
            "grid_template_areas": null,
            "grid_template_columns": null,
            "grid_template_rows": null,
            "height": null,
            "justify_content": null,
            "justify_items": null,
            "left": null,
            "margin": null,
            "max_height": null,
            "max_width": null,
            "min_height": null,
            "min_width": null,
            "object_fit": null,
            "object_position": null,
            "order": null,
            "overflow": null,
            "overflow_x": null,
            "overflow_y": null,
            "padding": null,
            "right": null,
            "top": null,
            "visibility": null,
            "width": null
          }
        },
        "da4b770ab28a4dc28999d43c88844682": {
          "model_module": "@jupyter-widgets/controls",
          "model_name": "DescriptionStyleModel",
          "model_module_version": "1.5.0",
          "state": {
            "_model_module": "@jupyter-widgets/controls",
            "_model_module_version": "1.5.0",
            "_model_name": "DescriptionStyleModel",
            "_view_count": null,
            "_view_module": "@jupyter-widgets/base",
            "_view_module_version": "1.2.0",
            "_view_name": "StyleView",
            "description_width": ""
          }
        },
        "a57035ed20a5492092b5f24945ba2afe": {
          "model_module": "@jupyter-widgets/base",
          "model_name": "LayoutModel",
          "model_module_version": "1.2.0",
          "state": {
            "_model_module": "@jupyter-widgets/base",
            "_model_module_version": "1.2.0",
            "_model_name": "LayoutModel",
            "_view_count": null,
            "_view_module": "@jupyter-widgets/base",
            "_view_module_version": "1.2.0",
            "_view_name": "LayoutView",
            "align_content": null,
            "align_items": null,
            "align_self": null,
            "border": null,
            "bottom": null,
            "display": null,
            "flex": null,
            "flex_flow": null,
            "grid_area": null,
            "grid_auto_columns": null,
            "grid_auto_flow": null,
            "grid_auto_rows": null,
            "grid_column": null,
            "grid_gap": null,
            "grid_row": null,
            "grid_template_areas": null,
            "grid_template_columns": null,
            "grid_template_rows": null,
            "height": null,
            "justify_content": null,
            "justify_items": null,
            "left": null,
            "margin": null,
            "max_height": null,
            "max_width": null,
            "min_height": null,
            "min_width": null,
            "object_fit": null,
            "object_position": null,
            "order": null,
            "overflow": null,
            "overflow_x": null,
            "overflow_y": null,
            "padding": null,
            "right": null,
            "top": null,
            "visibility": null,
            "width": null
          }
        },
        "068c1d56c434435297a76a2fb8805341": {
          "model_module": "@jupyter-widgets/controls",
          "model_name": "ProgressStyleModel",
          "model_module_version": "1.5.0",
          "state": {
            "_model_module": "@jupyter-widgets/controls",
            "_model_module_version": "1.5.0",
            "_model_name": "ProgressStyleModel",
            "_view_count": null,
            "_view_module": "@jupyter-widgets/base",
            "_view_module_version": "1.2.0",
            "_view_name": "StyleView",
            "bar_color": null,
            "description_width": ""
          }
        },
        "74ac18038a7c465591332ecce87bed8d": {
          "model_module": "@jupyter-widgets/controls",
          "model_name": "VBoxModel",
          "model_module_version": "1.5.0",
          "state": {
            "_dom_classes": [],
            "_model_module": "@jupyter-widgets/controls",
            "_model_module_version": "1.5.0",
            "_model_name": "VBoxModel",
            "_view_count": null,
            "_view_module": "@jupyter-widgets/controls",
            "_view_module_version": "1.5.0",
            "_view_name": "VBoxView",
            "box_style": "",
            "children": [
              "IPY_MODEL_1a2654c98621422a9e2c4e3fd3213bab",
              "IPY_MODEL_e2d2733dbd6b43de8e9e4369ce09acd8"
            ],
            "layout": "IPY_MODEL_960ec45680c840f8aea53d61b1ccc304"
          }
        },
        "1a2654c98621422a9e2c4e3fd3213bab": {
          "model_module": "@jupyter-widgets/controls",
          "model_name": "LabelModel",
          "model_module_version": "1.5.0",
          "state": {
            "_dom_classes": [],
            "_model_module": "@jupyter-widgets/controls",
            "_model_module_version": "1.5.0",
            "_model_name": "LabelModel",
            "_view_count": null,
            "_view_module": "@jupyter-widgets/controls",
            "_view_module_version": "1.5.0",
            "_view_name": "LabelView",
            "description": "",
            "description_tooltip": null,
            "layout": "IPY_MODEL_23c6d7ea1c754e8185d32979a1a73a5f",
            "placeholder": "​",
            "style": "IPY_MODEL_76d313ad364e4652bf48ca5afa09215c",
            "value": "0.001 MB of 0.011 MB uploaded (0.000 MB deduped)\r"
          }
        },
        "e2d2733dbd6b43de8e9e4369ce09acd8": {
          "model_module": "@jupyter-widgets/controls",
          "model_name": "FloatProgressModel",
          "model_module_version": "1.5.0",
          "state": {
            "_dom_classes": [],
            "_model_module": "@jupyter-widgets/controls",
            "_model_module_version": "1.5.0",
            "_model_name": "FloatProgressModel",
            "_view_count": null,
            "_view_module": "@jupyter-widgets/controls",
            "_view_module_version": "1.5.0",
            "_view_name": "ProgressView",
            "bar_style": "",
            "description": "",
            "description_tooltip": null,
            "layout": "IPY_MODEL_1bee920a417347e9af26b78a458b7ac4",
            "max": 1,
            "min": 0,
            "orientation": "horizontal",
            "style": "IPY_MODEL_31d4b007c99e4746b09b0f7c5338ac9c",
            "value": 0.10328431804173638
          }
        },
        "960ec45680c840f8aea53d61b1ccc304": {
          "model_module": "@jupyter-widgets/base",
          "model_name": "LayoutModel",
          "model_module_version": "1.2.0",
          "state": {
            "_model_module": "@jupyter-widgets/base",
            "_model_module_version": "1.2.0",
            "_model_name": "LayoutModel",
            "_view_count": null,
            "_view_module": "@jupyter-widgets/base",
            "_view_module_version": "1.2.0",
            "_view_name": "LayoutView",
            "align_content": null,
            "align_items": null,
            "align_self": null,
            "border": null,
            "bottom": null,
            "display": null,
            "flex": null,
            "flex_flow": null,
            "grid_area": null,
            "grid_auto_columns": null,
            "grid_auto_flow": null,
            "grid_auto_rows": null,
            "grid_column": null,
            "grid_gap": null,
            "grid_row": null,
            "grid_template_areas": null,
            "grid_template_columns": null,
            "grid_template_rows": null,
            "height": null,
            "justify_content": null,
            "justify_items": null,
            "left": null,
            "margin": null,
            "max_height": null,
            "max_width": null,
            "min_height": null,
            "min_width": null,
            "object_fit": null,
            "object_position": null,
            "order": null,
            "overflow": null,
            "overflow_x": null,
            "overflow_y": null,
            "padding": null,
            "right": null,
            "top": null,
            "visibility": null,
            "width": null
          }
        },
        "23c6d7ea1c754e8185d32979a1a73a5f": {
          "model_module": "@jupyter-widgets/base",
          "model_name": "LayoutModel",
          "model_module_version": "1.2.0",
          "state": {
            "_model_module": "@jupyter-widgets/base",
            "_model_module_version": "1.2.0",
            "_model_name": "LayoutModel",
            "_view_count": null,
            "_view_module": "@jupyter-widgets/base",
            "_view_module_version": "1.2.0",
            "_view_name": "LayoutView",
            "align_content": null,
            "align_items": null,
            "align_self": null,
            "border": null,
            "bottom": null,
            "display": null,
            "flex": null,
            "flex_flow": null,
            "grid_area": null,
            "grid_auto_columns": null,
            "grid_auto_flow": null,
            "grid_auto_rows": null,
            "grid_column": null,
            "grid_gap": null,
            "grid_row": null,
            "grid_template_areas": null,
            "grid_template_columns": null,
            "grid_template_rows": null,
            "height": null,
            "justify_content": null,
            "justify_items": null,
            "left": null,
            "margin": null,
            "max_height": null,
            "max_width": null,
            "min_height": null,
            "min_width": null,
            "object_fit": null,
            "object_position": null,
            "order": null,
            "overflow": null,
            "overflow_x": null,
            "overflow_y": null,
            "padding": null,
            "right": null,
            "top": null,
            "visibility": null,
            "width": null
          }
        },
        "76d313ad364e4652bf48ca5afa09215c": {
          "model_module": "@jupyter-widgets/controls",
          "model_name": "DescriptionStyleModel",
          "model_module_version": "1.5.0",
          "state": {
            "_model_module": "@jupyter-widgets/controls",
            "_model_module_version": "1.5.0",
            "_model_name": "DescriptionStyleModel",
            "_view_count": null,
            "_view_module": "@jupyter-widgets/base",
            "_view_module_version": "1.2.0",
            "_view_name": "StyleView",
            "description_width": ""
          }
        },
        "1bee920a417347e9af26b78a458b7ac4": {
          "model_module": "@jupyter-widgets/base",
          "model_name": "LayoutModel",
          "model_module_version": "1.2.0",
          "state": {
            "_model_module": "@jupyter-widgets/base",
            "_model_module_version": "1.2.0",
            "_model_name": "LayoutModel",
            "_view_count": null,
            "_view_module": "@jupyter-widgets/base",
            "_view_module_version": "1.2.0",
            "_view_name": "LayoutView",
            "align_content": null,
            "align_items": null,
            "align_self": null,
            "border": null,
            "bottom": null,
            "display": null,
            "flex": null,
            "flex_flow": null,
            "grid_area": null,
            "grid_auto_columns": null,
            "grid_auto_flow": null,
            "grid_auto_rows": null,
            "grid_column": null,
            "grid_gap": null,
            "grid_row": null,
            "grid_template_areas": null,
            "grid_template_columns": null,
            "grid_template_rows": null,
            "height": null,
            "justify_content": null,
            "justify_items": null,
            "left": null,
            "margin": null,
            "max_height": null,
            "max_width": null,
            "min_height": null,
            "min_width": null,
            "object_fit": null,
            "object_position": null,
            "order": null,
            "overflow": null,
            "overflow_x": null,
            "overflow_y": null,
            "padding": null,
            "right": null,
            "top": null,
            "visibility": null,
            "width": null
          }
        },
        "31d4b007c99e4746b09b0f7c5338ac9c": {
          "model_module": "@jupyter-widgets/controls",
          "model_name": "ProgressStyleModel",
          "model_module_version": "1.5.0",
          "state": {
            "_model_module": "@jupyter-widgets/controls",
            "_model_module_version": "1.5.0",
            "_model_name": "ProgressStyleModel",
            "_view_count": null,
            "_view_module": "@jupyter-widgets/base",
            "_view_module_version": "1.2.0",
            "_view_name": "StyleView",
            "bar_color": null,
            "description_width": ""
          }
        }
      }
    }
  },
  "cells": [
    {
      "cell_type": "code",
      "execution_count": null,
      "metadata": {
        "id": "-rE6nTJC5-Di"
      },
      "outputs": [],
      "source": [
        "import torch\n",
        "import torchvision\n",
        "import torch.nn as nn\n",
        "import torch.nn.functional as F"
      ]
    },
    {
      "cell_type": "code",
      "source": [
        "device = \"cuda\" if torch.cuda.is_available() else \"cpu\"\n",
        "print(f\"Using device: {device}\")"
      ],
      "metadata": {
        "colab": {
          "base_uri": "https://localhost:8080/"
        },
        "id": "7ihkHV7O6GDI",
        "outputId": "4a7fdd19-64e4-422d-b64a-f9ca71b72a90"
      },
      "execution_count": null,
      "outputs": [
        {
          "output_type": "stream",
          "name": "stdout",
          "text": [
            "Using device: cuda\n"
          ]
        }
      ]
    },
    {
      "cell_type": "code",
      "source": [
        "class Deep_Narrow_ResNet(nn.Module):\n",
        "    def __init__(self, block, num_blocks, num_classes=10):\n",
        "        super(Deep_Narrow_ResNet, self).__init__()\n",
        "        self.in_planes = 32\n",
        "\n",
        "        self.conv1 = nn.Conv2d(3, 32, kernel_size=3,\n",
        "                               stride=1, padding=1, bias=False)\n",
        "        self.bn1 = nn.BatchNorm2d(32)\n",
        "        self.layer1 = self._make_layer(block, 32, num_blocks[0], stride=1)\n",
        "        self.layer2 = self._make_layer(block, 64, num_blocks[1], stride=2)\n",
        "        self.layer3 = self._make_layer(block, 128, num_blocks[2], stride=2)\n",
        "        self.layer4 = self._make_layer(block, 256, num_blocks[2], stride=2)\n",
        "        self.linear = nn.Linear(256*block.expansion, num_classes)\n",
        "\n",
        "    def _make_layer(self, block, planes, num_blocks, stride):\n",
        "        strides = [stride] + [1]*(num_blocks-1)\n",
        "        layers = []\n",
        "        for stride in strides:\n",
        "            layers.append(block(self.in_planes, planes, stride))\n",
        "            self.in_planes = planes * block.expansion\n",
        "        return nn.Sequential(*layers)\n",
        "\n",
        "    def forward(self, x):\n",
        "        out = F.relu(self.bn1(self.conv1(x)))\n",
        "        out = self.layer1(out)\n",
        "        out = self.layer2(out)\n",
        "        out = self.layer3(out)\n",
        "        out = self.layer4(out)\n",
        "        out = F.avg_pool2d(out, 4)\n",
        "        out = out.view(out.size(0), -1)\n",
        "        out = self.linear(out)\n",
        "        return out\n",
        "    \n",
        "dn_model = Deep_Narrow_ResNet(BasicBlock, [13, 9, 3, 5])\n",
        "num_params = sum(p.numel() for p in dn_model.parameters() if p.requires_grad)\n",
        "print(f\"Num Params: {num_params}\\n\")"
      ],
      "metadata": {
        "colab": {
          "base_uri": "https://localhost:8080/"
        },
        "id": "MgtTc_b66IMP",
        "outputId": "3db46a42-46b5-4b5b-f798-d04afd0c69a3"
      },
      "execution_count": null,
      "outputs": [
        {
          "output_type": "stream",
          "name": "stdout",
          "text": [
            "Num Params: 4891338\n",
            "\n"
          ]
        }
      ]
    },
    {
      "cell_type": "code",
      "source": [
        "def train_val(model, criterion, optimizer, train_loader, val_loader, device, scheduler = None, use_scheduler = True):\n",
        "    model.train()\n",
        "    train_loss = 0\n",
        "    correct = 0\n",
        "    count = 0\n",
        "    total = 0\n",
        "    for i, data in enumerate(train_loader, 0):\n",
        "        image, label = data\n",
        "        image = image.to(device)\n",
        "        label = label.to(device)\n",
        "    \n",
        "        optimizer.zero_grad()\n",
        "        output = model(image)\n",
        "        loss = criterion(output, label)\n",
        "\n",
        "        train_loss += loss.item()\n",
        "\n",
        "        pred = torch.max(output.data, 1)[1]\n",
        "        cur_correct = (pred == label).sum().item()\n",
        "        cur_loss = loss.item()\n",
        "\n",
        "        loss.backward()\n",
        "\n",
        "        optimizer.step()\n",
        "        \n",
        "        total += label.size(0)\n",
        "        correct += cur_correct\n",
        "        train_loss += cur_loss\n",
        "\n",
        "    train_accuracy = correct/total\n",
        "    train_loss = train_loss/len(train_loader)\n",
        "    \n",
        "    model.eval()\n",
        "    valid_loss = 0\n",
        "    correct = 0\n",
        "    count = 0\n",
        "    total = 0\n",
        "    for i, data in enumerate(val_loader, 0):\n",
        "        image, label = data\n",
        "        image = image.to(device)\n",
        "        label = label.to(device)\n",
        "                \n",
        "        output = model(image)\n",
        "        loss = criterion(output, label)\n",
        "\n",
        "        pred = torch.max(output.data, 1)[1]\n",
        "        cur_correct = (pred == label).sum().item()\n",
        "        cur_loss = loss.item()\n",
        "            \n",
        "        total += label.size(0)\n",
        "        correct += cur_correct\n",
        "        valid_loss += cur_loss\n",
        "\n",
        "    valid_accuracy = correct/total\n",
        "    valid_loss = valid_loss/len(val_loader)\n",
        "    \n",
        "    if use_scheduler:\n",
        "        scheduler.step(valid_accuracy)\n",
        "\n",
        "    return train_loss, train_accuracy, valid_loss, valid_accuracy\n",
        "\n",
        "def test(model, criterion, dataloader, device):\n",
        "    model.eval()\n",
        "    test_loss = 0\n",
        "    correct = 0\n",
        "    count = 0\n",
        "    total = 0\n",
        "    for i, data in enumerate(dataloader, 0):\n",
        "        image, label = data\n",
        "        image = image.to(device)\n",
        "        label = label.to(device)\n",
        "                \n",
        "        output = model(image)\n",
        "        loss = criterion(output, label)\n",
        "\n",
        "        pred = torch.max(output.data, 1)[1]\n",
        "        cur_correct = (pred == label).sum().item()\n",
        "        cur_loss = loss.item()\n",
        "            \n",
        "        total += label.size(0)\n",
        "        correct += cur_correct\n",
        "        test_loss += cur_loss\n",
        "\n",
        "    accuracy = correct/total\n",
        "    test_loss = test_loss/len(dataloader)\n",
        "\n",
        "    return test_loss, accuracy"
      ],
      "metadata": {
        "id": "HxV1DKr86IzK"
      },
      "execution_count": null,
      "outputs": []
    },
    {
      "cell_type": "code",
      "source": [
        "!pip install wandb --upgrade"
      ],
      "metadata": {
        "colab": {
          "base_uri": "https://localhost:8080/"
        },
        "id": "v9aJ3r_zJ_AF",
        "outputId": "3916895a-456d-4b6e-9010-9ed63d0a34a7"
      },
      "execution_count": null,
      "outputs": [
        {
          "output_type": "stream",
          "name": "stdout",
          "text": [
            "Looking in indexes: https://pypi.org/simple, https://us-python.pkg.dev/colab-wheels/public/simple/\n",
            "Requirement already satisfied: wandb in /usr/local/lib/python3.9/dist-packages (0.14.2)\n",
            "Requirement already satisfied: requests<3,>=2.0.0 in /usr/local/lib/python3.9/dist-packages (from wandb) (2.27.1)\n",
            "Requirement already satisfied: psutil>=5.0.0 in /usr/local/lib/python3.9/dist-packages (from wandb) (5.9.4)\n",
            "Requirement already satisfied: appdirs>=1.4.3 in /usr/local/lib/python3.9/dist-packages (from wandb) (1.4.4)\n",
            "Requirement already satisfied: docker-pycreds>=0.4.0 in /usr/local/lib/python3.9/dist-packages (from wandb) (0.4.0)\n",
            "Requirement already satisfied: setproctitle in /usr/local/lib/python3.9/dist-packages (from wandb) (1.3.2)\n",
            "Requirement already satisfied: setuptools in /usr/local/lib/python3.9/dist-packages (from wandb) (67.6.1)\n",
            "Requirement already satisfied: PyYAML in /usr/local/lib/python3.9/dist-packages (from wandb) (6.0)\n",
            "Requirement already satisfied: sentry-sdk>=1.0.0 in /usr/local/lib/python3.9/dist-packages (from wandb) (1.19.1)\n",
            "Requirement already satisfied: GitPython!=3.1.29,>=1.0.0 in /usr/local/lib/python3.9/dist-packages (from wandb) (3.1.31)\n",
            "Requirement already satisfied: Click!=8.0.0,>=7.0 in /usr/local/lib/python3.9/dist-packages (from wandb) (8.1.3)\n",
            "Requirement already satisfied: pathtools in /usr/local/lib/python3.9/dist-packages (from wandb) (0.1.2)\n",
            "Requirement already satisfied: protobuf!=4.21.0,<5,>=3.15.0 in /usr/local/lib/python3.9/dist-packages (from wandb) (3.20.3)\n",
            "Requirement already satisfied: typing-extensions in /usr/local/lib/python3.9/dist-packages (from wandb) (4.5.0)\n",
            "Requirement already satisfied: six>=1.4.0 in /usr/local/lib/python3.9/dist-packages (from docker-pycreds>=0.4.0->wandb) (1.16.0)\n",
            "Requirement already satisfied: gitdb<5,>=4.0.1 in /usr/local/lib/python3.9/dist-packages (from GitPython!=3.1.29,>=1.0.0->wandb) (4.0.10)\n",
            "Requirement already satisfied: certifi>=2017.4.17 in /usr/local/lib/python3.9/dist-packages (from requests<3,>=2.0.0->wandb) (2022.12.7)\n",
            "Requirement already satisfied: urllib3<1.27,>=1.21.1 in /usr/local/lib/python3.9/dist-packages (from requests<3,>=2.0.0->wandb) (1.26.15)\n",
            "Requirement already satisfied: idna<4,>=2.5 in /usr/local/lib/python3.9/dist-packages (from requests<3,>=2.0.0->wandb) (3.4)\n",
            "Requirement already satisfied: charset-normalizer~=2.0.0 in /usr/local/lib/python3.9/dist-packages (from requests<3,>=2.0.0->wandb) (2.0.12)\n",
            "Requirement already satisfied: smmap<6,>=3.0.1 in /usr/local/lib/python3.9/dist-packages (from gitdb<5,>=4.0.1->GitPython!=3.1.29,>=1.0.0->wandb) (5.0.0)\n"
          ]
        }
      ]
    },
    {
      "cell_type": "code",
      "source": [
        "import wandb\n",
        "import os\n",
        "os.environ['WANDB_API_KEY'] = '072efef628ab06093f6625992e6a35809cd22154'\n",
        "wandb.login()"
      ],
      "metadata": {
        "colab": {
          "base_uri": "https://localhost:8080/"
        },
        "id": "-SCAunFaKBhl",
        "outputId": "c3583063-d397-4fcd-8a3c-d3cc51c4f281"
      },
      "execution_count": null,
      "outputs": [
        {
          "output_type": "stream",
          "name": "stderr",
          "text": [
            "\u001b[34m\u001b[1mwandb\u001b[0m: Currently logged in as: \u001b[33mashwathb24\u001b[0m (\u001b[33mnyu-tandon\u001b[0m). Use \u001b[1m`wandb login --relogin`\u001b[0m to force relogin\n"
          ]
        },
        {
          "output_type": "execute_result",
          "data": {
            "text/plain": [
              "True"
            ]
          },
          "metadata": {},
          "execution_count": 7
        }
      ]
    },
    {
      "cell_type": "code",
      "source": [
        "sweep_config = {\n",
        "    \"name\": \"hyperparameter_sweep\",\n",
        "    'metric': {'goal': 'maximize', 'name': 'test_accuracy'},\n",
        "    \"method\": \"random\",\n",
        "    \"parameters\": {\n",
        "\n",
        "        \"learning_rate\": {\n",
        "            \"values\": [0.01]\n",
        "        },\n",
        "        \"scheduler\": {\n",
        "            \"values\": [\"ReduceLROnPlateau\"]\n",
        "        },\n",
        "        \"optimizer\":{\n",
        "            \"values\":[\"sgd\"]\n",
        "        },\n",
        "        \"momentum\": {\n",
        "            \"values\": [0.7, 0.8, 0.9, 0.99]\n",
        "        },\n",
        "        \"weight_decay\": {\n",
        "            \"values\": [1e-4, 5e-4, 1e-3, 5e-3]\n",
        "        }\n",
        "    }\n",
        "}"
      ],
      "metadata": {
        "id": "QPHdF0kB6nUL"
      },
      "execution_count": null,
      "outputs": []
    },
    {
      "cell_type": "code",
      "source": [
        "import pprint\n",
        "\n",
        "pprint.pprint(sweep_config)"
      ],
      "metadata": {
        "colab": {
          "base_uri": "https://localhost:8080/"
        },
        "id": "XLOrTzdR-y9-",
        "outputId": "daa196ef-3ba9-4806-e90f-81e7c37ec6af"
      },
      "execution_count": null,
      "outputs": [
        {
          "output_type": "stream",
          "name": "stdout",
          "text": [
            "{'method': 'random',\n",
            " 'metric': {'goal': 'maximize', 'name': 'test_accuracy'},\n",
            " 'name': 'hyperparameter_sweep',\n",
            " 'parameters': {'learning_rate': {'values': [0.01]},\n",
            "                'momentum': {'values': [0.7, 0.8, 0.9, 0.99]},\n",
            "                'optimizer': {'values': ['sgd']},\n",
            "                'scheduler': {'values': ['ReduceLROnPlateau']},\n",
            "                'weight_decay': {'values': [0.0001, 0.0005, 0.001, 0.005]}}}\n"
          ]
        }
      ]
    },
    {
      "cell_type": "code",
      "source": [
        "def train_sweep():\n",
        "\n",
        "  batch_size = 32\n",
        "  wandb.init()\n",
        "  config = wandb.config\n",
        "  config.learning_rate = sweep_config['parameters']['learning_rate']\n",
        "  config.optimizer = sweep_config['parameters']['optimizer']\n",
        "  config.scheduler = sweep_config['parameters']['scheduler']\n",
        "  config.momentum = sweep_config['parameters']['momentum']\n",
        "  config.weight_decay = sweep_config['parameters']['weight_decay']\n",
        "\n",
        "\n",
        "  transform_train = torchvision.transforms.Compose([\n",
        "      torchvision.transforms.RandomCrop(32, padding=4),\n",
        "      torchvision.transforms.RandomHorizontalFlip(),\n",
        "      torchvision.transforms.RandomResizedCrop(32, scale=(0.8, 1.0), ratio=(0.8, 1.2)),\n",
        "      torchvision.transforms.ToTensor(),\n",
        "      torchvision.transforms.Normalize((0.4914, 0.4822, 0.4465), (0.2023, 0.1994, 0.2010))\n",
        "  ])\n",
        "\n",
        "  transform_test = torchvision.transforms.Compose([\n",
        "                      torchvision.transforms.ToTensor(), \n",
        "                      torchvision.transforms.Normalize((0.4914, 0.4822, 0.4465), (0.2023, 0.1994, 0.2010))])\n",
        "\n",
        "  trainset = torchvision.datasets.CIFAR10(root = './data', train = True, download = True, transform = transform_train)\n",
        "\n",
        "  # Split the train data into train and validation sets\n",
        "  train_size = int(0.8 * len(trainset))\n",
        "  val_size = len(trainset) - train_size\n",
        "  trainset, valset = torch.utils.data.random_split(trainset, [train_size, val_size])\n",
        "\n",
        "  testset = torchvision.datasets.CIFAR10(root = './data', train = False, download = True, transform = transform_test)\n",
        "\n",
        "  train_loader = torch.utils.data.DataLoader(trainset, batch_size = batch_size, shuffle = True)\n",
        "  val_loader   = torch.utils.data.DataLoader(valset, batch_size = batch_size, shuffle = True)\n",
        "  test_loader  = torch.utils.data.DataLoader(testset, batch_size = batch_size, shuffle = False)\n",
        "\n",
        "  classes = ('plane', 'car', 'bird', 'cat', 'deer', 'dog', 'frog', 'horse', 'ship', 'truck')\n",
        "\n",
        "  best_test_acc = 0\n",
        "\n",
        "  torch.cuda.empty_cache()\n",
        "  dn_model = Deep_Narrow_ResNet(BasicBlock, [13, 9, 3, 5])\n",
        "  num_params = sum(p.numel() for p in model.parameters() if p.requires_grad)\n",
        "  print(f\"Num Params: {num_params}\\n\")\n",
        "  model.to(device)\n",
        "  criterion = nn.CrossEntropyLoss()\n",
        "  if config.optimizer == 'sgd':\n",
        "    optimizer = torch.optim.SGD(model.parameters(), config.learning_rate, momentum = config.momentum, weight_decay = config.weight_decay , nesterov=True)\n",
        "  \n",
        "  if config.scheduler == 'ReduceLROnPlateau':\n",
        "    scheduler = torch.optim.lr_scheduler.ReduceLROnPlateau(optimizer, mode='max', factor=0.5, patience=0)\n",
        "\n",
        "  train_losses_ = []\n",
        "  train_accuracies_ = []\n",
        "  valid_losses_ = []\n",
        "  valid_accuracies_ = []\n",
        "\n",
        "  epochs = 10\n",
        "\n",
        "  for epoch in range(epochs):\n",
        "      print(f\"\\n\\tEpoch: {epoch}\")\n",
        "\n",
        "      train_loss, train_accuracy, val_loss, val_accuracy = train_val(model, criterion, optimizer, \n",
        "                                                                    train_loader, val_loader, device,\n",
        "                                                                    scheduler = scheduler, use_scheduler = True)\n",
        "      train_losses_.append(train_loss)\n",
        "      train_accuracies_.append(train_accuracy)\n",
        "      valid_losses_.append(val_loss)\n",
        "      valid_accuracies_.append(val_accuracy)\n",
        "      print(f\"\\tTraining Loss: {round(train_loss, 4)}; Training Accuracy: {round(train_accuracy*100, 4)}%\")\n",
        "      print(f\"\\tValidation Loss: {round(val_loss, 4)}; Validation Accuracy: {round(val_accuracy*100, 4)}%\")\n",
        "\n",
        "  test_loss, test_accuracy = test(model, criterion, test_loader, device)\n",
        "  print(f\"\\n\\tTesting Loss: {round(test_loss, 4)}; Testing Accuracy: {round(test_accuracy*100, 4)}%\")\n",
        "\n",
        "  if test_accuracy > best_test_acc:\n",
        "      best_test_acc = test_accuracy\n",
        "\n",
        "      torch.save(model.state_dict(), 'zigzag_resnet_7blocks.pth')\n",
        "\n",
        "      metrics_dict = {'train_loss': train_losses_, 'train_accuracy': train_accuracies_, \n",
        "                      'valid_loss': valid_losses_, 'valid_accuracy': valid_accuracies_,\n",
        "                      'test_loss': test_loss, 'test_accuracy': test_accuracy}\n",
        "  wandb.log({'test_accuracy': test_accuracy})\n",
        "  wandb.finish()"
      ],
      "metadata": {
        "id": "kQ48EzBb6Kb6"
      },
      "execution_count": null,
      "outputs": []
    },
    {
      "cell_type": "code",
      "source": [
        "sweep_id = wandb.sweep(sweep_config, project = \"Modified-Resnet\")"
      ],
      "metadata": {
        "colab": {
          "base_uri": "https://localhost:8080/"
        },
        "id": "0cHibPsZGLcs",
        "outputId": "c9131e59-bf08-4209-b27f-911889b08d5f"
      },
      "execution_count": null,
      "outputs": [
        {
          "output_type": "stream",
          "name": "stdout",
          "text": [
            "Create sweep with ID: dqtdxs3j\n",
            "Sweep URL: https://wandb.ai/nyu-tandon/Modified-Resnet/sweeps/dqtdxs3j\n"
          ]
        }
      ]
    },
    {
      "cell_type": "code",
      "source": [
        "wandb.agent(sweep_id,train_sweep, count = 16)"
      ],
      "metadata": {
        "colab": {
          "base_uri": "https://localhost:8080/",
          "height": 1000,
          "referenced_widgets": [
            "0f94087da58142559445b8cbfa96c8e3",
            "f3bfd51292a24a3ab8a5d0f7e7dbd7f7",
            "fa0b5edff9944fde8d4e7f8cef3fdb0c",
            "479e0d77c8c543ee8248ab8c186c882a",
            "aa2bf994363b4bdbaa28a0c98142ef27",
            "30ddac296117423b98a6fec9acd8bea7",
            "6b2d14acc28042278ff3922c0bcfd903",
            "ab75e793a9e241d8ad898540a6389427",
            "f02ab6b6170d4f2a90261177a3fd1869",
            "5c413fffca3e445d96c1b56015b328fb",
            "bfe4f0f87a9342028a7072604874420a",
            "4f5d4d7573814db19f97bea42674160b",
            "7e5637c667d440439ed0e70c1261b95c",
            "4c2f48aef4d14a23b5f99e77dedb91b5",
            "25d36dc4e1304c1fabd7b5f2bb6bc3f0",
            "178de9243c094c6a87bf442960254f50",
            "2f6572a9c0ad459dbe1955195180d4c8",
            "1a3ddc50ea9a4bf488135f4f78aec6c8",
            "94a8d25326a04f72bd53254560e1288d",
            "f97173198bad487d91b62ee55cac1880",
            "c9d5da9a75164e57b9b51c5eda3482a2",
            "b92a6902c7fd47e9850cc12c830d1a99",
            "b60a97a56797402f886dc1ed6247f808",
            "3827a0f006d04e8ca1a251f01ae3bbbd",
            "dc3079e4cbff4830b7115ac8a102ece0",
            "bae3347f61e14d96907f25225c0a8abd",
            "59c8068c7cff4968b9c36d6921631b74",
            "e90b5d4237654ae7967bee6851278eb7",
            "ec531713a8ee415c8d676beead52a247",
            "5d6e97204f444c31b43364da597abd76",
            "1f1392292009490da31752fee3105454",
            "c0bc9fe531134094b079f734d5edabb5",
            "3c1900edb60b44709703dc95e0cedbba",
            "d980da894b6f4bb49a65716d1929fd7f",
            "0f6a4c38e7b34422afeab4f1407f02c8",
            "b5083eae965540c1a8045ded7ee935bc",
            "e345058d24464aa197363e7afbc7df38",
            "be2238c12e42492d9cc7437ee7f0d159",
            "24465d493c2a455787c269ae668c2433",
            "e5db98cc5d10471b9a18864062d67560",
            "31485c0693bf4414bd47ddc1a16adbbb",
            "a0a78ca711744f418c6af30574b330a8",
            "4bcfca63b6ff4a83ac10645cbdbd458a",
            "dd0558849b4b4dad82670bf53bb74d34",
            "0588dd9ad6744bf0bff38292d0982cb6",
            "db9faf2c84d149488a9a5842b532bf47",
            "ccfb0f00749d49c8b9f3bddc2ca03b65",
            "59adbcc9b5b345e1a49488423d42f1e6",
            "4821e38431d94dd88fa0c011a45acf7b",
            "c9350eed8998467085a2926cdace0246",
            "6a2d49ec6e574346ab2cc805290f3900",
            "f7647b129b56478880ce0b4623454209",
            "4b900ea16d9546639c8fc6d715280b27",
            "da4b770ab28a4dc28999d43c88844682",
            "a57035ed20a5492092b5f24945ba2afe",
            "068c1d56c434435297a76a2fb8805341",
            "b2a3ec049e1744e39f93d98ba9a24512",
            "74ac18038a7c465591332ecce87bed8d",
            "1a2654c98621422a9e2c4e3fd3213bab",
            "e2d2733dbd6b43de8e9e4369ce09acd8",
            "960ec45680c840f8aea53d61b1ccc304",
            "23c6d7ea1c754e8185d32979a1a73a5f",
            "76d313ad364e4652bf48ca5afa09215c",
            "1bee920a417347e9af26b78a458b7ac4",
            "31d4b007c99e4746b09b0f7c5338ac9c"
          ]
        },
        "id": "HOf9uAf4Jws2",
        "outputId": "28f3a401-9b49-4f3b-b185-f85d039a5533"
      },
      "execution_count": null,
      "outputs": [
        {
          "metadata": {
            "tags": null
          },
          "name": "stderr",
          "output_type": "stream",
          "text": [
            "\u001b[34m\u001b[1mwandb\u001b[0m: Agent Starting Run: o4iorbdu with config:\n",
            "\u001b[34m\u001b[1mwandb\u001b[0m: \tlearning_rate: 0.01\n",
            "\u001b[34m\u001b[1mwandb\u001b[0m: \tmomentum: 0.8\n",
            "\u001b[34m\u001b[1mwandb\u001b[0m: \toptimizer: sgd\n",
            "\u001b[34m\u001b[1mwandb\u001b[0m: \tscheduler: ReduceLROnPlateau\n",
            "\u001b[34m\u001b[1mwandb\u001b[0m: \tweight_decay: 0.0005\n"
          ]
        },
        {
          "data": {
            "text/html": [
              "Tracking run with wandb version 0.14.2"
            ],
            "text/plain": [
              "<IPython.core.display.HTML object>"
            ]
          },
          "metadata": {},
          "output_type": "display_data"
        },
        {
          "data": {
            "text/html": [
              "Run data is saved locally in <code>/content/wandb/run-20230412_003655-o4iorbdu</code>"
            ],
            "text/plain": [
              "<IPython.core.display.HTML object>"
            ]
          },
          "metadata": {},
          "output_type": "display_data"
        },
        {
          "data": {
            "text/html": [
              "Syncing run <strong><a href='https://wandb.ai/nyu-tandon/Modified-Resnet/runs/o4iorbdu' target=\"_blank\">jumping-sweep-1</a></strong> to <a href='https://wandb.ai/nyu-tandon/Modified-Resnet' target=\"_blank\">Weights & Biases</a> (<a href='https://wandb.me/run' target=\"_blank\">docs</a>)<br/>Sweep page: <a href='https://wandb.ai/nyu-tandon/Modified-Resnet/sweeps/dqtdxs3j' target=\"_blank\">https://wandb.ai/nyu-tandon/Modified-Resnet/sweeps/dqtdxs3j</a>"
            ],
            "text/plain": [
              "<IPython.core.display.HTML object>"
            ]
          },
          "metadata": {},
          "output_type": "display_data"
        },
        {
          "data": {
            "text/html": [
              " View project at <a href='https://wandb.ai/nyu-tandon/Modified-Resnet' target=\"_blank\">https://wandb.ai/nyu-tandon/Modified-Resnet</a>"
            ],
            "text/plain": [
              "<IPython.core.display.HTML object>"
            ]
          },
          "metadata": {},
          "output_type": "display_data"
        },
        {
          "data": {
            "text/html": [
              " View sweep at <a href='https://wandb.ai/nyu-tandon/Modified-Resnet/sweeps/dqtdxs3j' target=\"_blank\">https://wandb.ai/nyu-tandon/Modified-Resnet/sweeps/dqtdxs3j</a>"
            ],
            "text/plain": [
              "<IPython.core.display.HTML object>"
            ]
          },
          "metadata": {},
          "output_type": "display_data"
        },
        {
          "data": {
            "text/html": [
              " View run at <a href='https://wandb.ai/nyu-tandon/Modified-Resnet/runs/o4iorbdu' target=\"_blank\">https://wandb.ai/nyu-tandon/Modified-Resnet/runs/o4iorbdu</a>"
            ],
            "text/plain": [
              "<IPython.core.display.HTML object>"
            ]
          },
          "metadata": {},
          "output_type": "display_data"
        },
        {
          "metadata": {
            "tags": null
          },
          "name": "stderr",
          "output_type": "stream",
          "text": [
            "\u001b[34m\u001b[1mwandb\u001b[0m: \u001b[33mWARNING\u001b[0m Config item 'learning_rate' was locked by 'sweep' (ignored update).\n",
            "\u001b[34m\u001b[1mwandb\u001b[0m: \u001b[33mWARNING\u001b[0m Config item 'optimizer' was locked by 'sweep' (ignored update).\n",
            "\u001b[34m\u001b[1mwandb\u001b[0m: \u001b[33mWARNING\u001b[0m Config item 'scheduler' was locked by 'sweep' (ignored update).\n",
            "\u001b[34m\u001b[1mwandb\u001b[0m: \u001b[33mWARNING\u001b[0m Config item 'momentum' was locked by 'sweep' (ignored update).\n",
            "\u001b[34m\u001b[1mwandb\u001b[0m: \u001b[33mWARNING\u001b[0m Config item 'weight_decay' was locked by 'sweep' (ignored update).\n"
          ]
        },
        {
          "metadata": {
            "tags": null
          },
          "name": "stdout",
          "output_type": "stream",
          "text": [
            "Downloading https://www.cs.toronto.edu/~kriz/cifar-10-python.tar.gz to ./data/cifar-10-python.tar.gz\n"
          ]
        },
        {
          "metadata": {
            "tags": null
          },
          "name": "stderr",
          "output_type": "stream",
          "text": [
            "100%|██████████| 170498071/170498071 [00:13<00:00, 13102397.91it/s]\n"
          ]
        },
        {
          "metadata": {
            "tags": null
          },
          "name": "stdout",
          "output_type": "stream",
          "text": [
            "Extracting ./data/cifar-10-python.tar.gz to ./data\n",
            "Files already downloaded and verified\n",
            "Num Params: 4891338\n",
            "\n",
            "\n",
            "\tEpoch: 0\n",
            "\tTraining Loss: 3.5343; Training Accuracy: 34.63%\n",
            "\tValidation Loss: 1.5133; Validation Accuracy: 43.81%\n",
            "\n",
            "\tEpoch: 1\n",
            "\tTraining Loss: 2.802; Training Accuracy: 49.3525%\n",
            "\tValidation Loss: 1.2686; Validation Accuracy: 53.65%\n",
            "\n",
            "\tEpoch: 2\n",
            "\tTraining Loss: 2.2898; Training Accuracy: 59.355%\n",
            "\tValidation Loss: 1.1099; Validation Accuracy: 60.75%\n",
            "\n",
            "\tEpoch: 3\n",
            "\tTraining Loss: 1.914; Training Accuracy: 66.49%\n",
            "\tValidation Loss: 0.9072; Validation Accuracy: 68.39%\n",
            "\n",
            "\tEpoch: 4\n",
            "\tTraining Loss: 1.6823; Training Accuracy: 70.93%\n",
            "\tValidation Loss: 0.8148; Validation Accuracy: 71.32%\n",
            "\n",
            "\tEpoch: 5\n",
            "\tTraining Loss: 1.5205; Training Accuracy: 73.5675%\n",
            "\tValidation Loss: 0.7617; Validation Accuracy: 73.64%\n",
            "\n",
            "\tEpoch: 6\n",
            "\tTraining Loss: 1.3922; Training Accuracy: 76.09%\n",
            "\tValidation Loss: 0.6937; Validation Accuracy: 75.6%\n",
            "\n",
            "\tEpoch: 7\n",
            "\tTraining Loss: 1.2924; Training Accuracy: 77.9375%\n",
            "\tValidation Loss: 0.6503; Validation Accuracy: 77.15%\n",
            "\n",
            "\tEpoch: 8\n",
            "\tTraining Loss: 1.2079; Training Accuracy: 79.555%\n",
            "\tValidation Loss: 0.6289; Validation Accuracy: 78.46%\n",
            "\n",
            "\tEpoch: 9\n",
            "\tTraining Loss: 1.13; Training Accuracy: 80.6025%\n",
            "\tValidation Loss: 0.558; Validation Accuracy: 80.63%\n",
            "\n",
            "\tTesting Loss: 0.5479; Testing Accuracy: 81.32%\n"
          ]
        },
        {
          "data": {
            "text/html": [
              "Waiting for W&B process to finish... <strong style=\"color:green\">(success).</strong>"
            ],
            "text/plain": [
              "<IPython.core.display.HTML object>"
            ]
          },
          "metadata": {},
          "output_type": "display_data"
        },
        {
          "data": {
            "text/html": [
              "<style>\n",
              "    table.wandb td:nth-child(1) { padding: 0 10px; text-align: left ; width: auto;} td:nth-child(2) {text-align: left ; width: 100%}\n",
              "    .wandb-row { display: flex; flex-direction: row; flex-wrap: wrap; justify-content: flex-start; width: 100% }\n",
              "    .wandb-col { display: flex; flex-direction: column; flex-basis: 100%; flex: 1; padding: 10px; }\n",
              "    </style>\n",
              "<div class=\"wandb-row\"><div class=\"wandb-col\"><h3>Run history:</h3><br/><table class=\"wandb\"><tr><td>test_accuracy</td><td>▁</td></tr></table><br/></div><div class=\"wandb-col\"><h3>Run summary:</h3><br/><table class=\"wandb\"><tr><td>test_accuracy</td><td>0.8132</td></tr></table><br/></div></div>"
            ],
            "text/plain": [
              "<IPython.core.display.HTML object>"
            ]
          },
          "metadata": {},
          "output_type": "display_data"
        },
        {
          "data": {
            "text/html": [
              " View run <strong style=\"color:#cdcd00\">jumping-sweep-1</strong> at: <a href='https://wandb.ai/nyu-tandon/Modified-Resnet/runs/o4iorbdu' target=\"_blank\">https://wandb.ai/nyu-tandon/Modified-Resnet/runs/o4iorbdu</a><br/>Synced 5 W&B file(s), 0 media file(s), 0 artifact file(s) and 0 other file(s)"
            ],
            "text/plain": [
              "<IPython.core.display.HTML object>"
            ]
          },
          "metadata": {},
          "output_type": "display_data"
        },
        {
          "data": {
            "text/html": [
              "Find logs at: <code>./wandb/run-20230412_003655-o4iorbdu/logs</code>"
            ],
            "text/plain": [
              "<IPython.core.display.HTML object>"
            ]
          },
          "metadata": {},
          "output_type": "display_data"
        },
        {
          "metadata": {
            "tags": null
          },
          "name": "stderr",
          "output_type": "stream",
          "text": [
            "\u001b[34m\u001b[1mwandb\u001b[0m: Sweep Agent: Waiting for job.\n",
            "\u001b[34m\u001b[1mwandb\u001b[0m: Job received.\n",
            "\u001b[34m\u001b[1mwandb\u001b[0m: Agent Starting Run: ggrghv7z with config:\n",
            "\u001b[34m\u001b[1mwandb\u001b[0m: \tlearning_rate: 0.01\n",
            "\u001b[34m\u001b[1mwandb\u001b[0m: \tmomentum: 0.99\n",
            "\u001b[34m\u001b[1mwandb\u001b[0m: \toptimizer: sgd\n",
            "\u001b[34m\u001b[1mwandb\u001b[0m: \tscheduler: ReduceLROnPlateau\n",
            "\u001b[34m\u001b[1mwandb\u001b[0m: \tweight_decay: 0.001\n"
          ]
        },
        {
          "data": {
            "text/html": [
              "Tracking run with wandb version 0.14.2"
            ],
            "text/plain": [
              "<IPython.core.display.HTML object>"
            ]
          },
          "metadata": {},
          "output_type": "display_data"
        },
        {
          "data": {
            "text/html": [
              "Run data is saved locally in <code>/content/wandb/run-20230412_004704-ggrghv7z</code>"
            ],
            "text/plain": [
              "<IPython.core.display.HTML object>"
            ]
          },
          "metadata": {},
          "output_type": "display_data"
        },
        {
          "data": {
            "text/html": [
              "Syncing run <strong><a href='https://wandb.ai/nyu-tandon/Modified-Resnet/runs/ggrghv7z' target=\"_blank\">autumn-sweep-2</a></strong> to <a href='https://wandb.ai/nyu-tandon/Modified-Resnet' target=\"_blank\">Weights & Biases</a> (<a href='https://wandb.me/run' target=\"_blank\">docs</a>)<br/>Sweep page: <a href='https://wandb.ai/nyu-tandon/Modified-Resnet/sweeps/dqtdxs3j' target=\"_blank\">https://wandb.ai/nyu-tandon/Modified-Resnet/sweeps/dqtdxs3j</a>"
            ],
            "text/plain": [
              "<IPython.core.display.HTML object>"
            ]
          },
          "metadata": {},
          "output_type": "display_data"
        },
        {
          "data": {
            "text/html": [
              " View project at <a href='https://wandb.ai/nyu-tandon/Modified-Resnet' target=\"_blank\">https://wandb.ai/nyu-tandon/Modified-Resnet</a>"
            ],
            "text/plain": [
              "<IPython.core.display.HTML object>"
            ]
          },
          "metadata": {},
          "output_type": "display_data"
        },
        {
          "data": {
            "text/html": [
              " View sweep at <a href='https://wandb.ai/nyu-tandon/Modified-Resnet/sweeps/dqtdxs3j' target=\"_blank\">https://wandb.ai/nyu-tandon/Modified-Resnet/sweeps/dqtdxs3j</a>"
            ],
            "text/plain": [
              "<IPython.core.display.HTML object>"
            ]
          },
          "metadata": {},
          "output_type": "display_data"
        },
        {
          "data": {
            "text/html": [
              " View run at <a href='https://wandb.ai/nyu-tandon/Modified-Resnet/runs/ggrghv7z' target=\"_blank\">https://wandb.ai/nyu-tandon/Modified-Resnet/runs/ggrghv7z</a>"
            ],
            "text/plain": [
              "<IPython.core.display.HTML object>"
            ]
          },
          "metadata": {},
          "output_type": "display_data"
        },
        {
          "metadata": {
            "tags": null
          },
          "name": "stderr",
          "output_type": "stream",
          "text": [
            "\u001b[34m\u001b[1mwandb\u001b[0m: \u001b[33mWARNING\u001b[0m Config item 'learning_rate' was locked by 'sweep' (ignored update).\n",
            "\u001b[34m\u001b[1mwandb\u001b[0m: \u001b[33mWARNING\u001b[0m Config item 'optimizer' was locked by 'sweep' (ignored update).\n",
            "\u001b[34m\u001b[1mwandb\u001b[0m: \u001b[33mWARNING\u001b[0m Config item 'scheduler' was locked by 'sweep' (ignored update).\n",
            "\u001b[34m\u001b[1mwandb\u001b[0m: \u001b[33mWARNING\u001b[0m Config item 'momentum' was locked by 'sweep' (ignored update).\n",
            "\u001b[34m\u001b[1mwandb\u001b[0m: \u001b[33mWARNING\u001b[0m Config item 'weight_decay' was locked by 'sweep' (ignored update).\n"
          ]
        },
        {
          "metadata": {
            "tags": null
          },
          "name": "stdout",
          "output_type": "stream",
          "text": [
            "Files already downloaded and verified\n",
            "Files already downloaded and verified\n",
            "Num Params: 4891338\n",
            "\n",
            "\n",
            "\tEpoch: 0\n",
            "\tTraining Loss: 4.1235; Training Accuracy: 20.8225%\n",
            "\tValidation Loss: 1.9529; Validation Accuracy: 23.79%\n",
            "\n",
            "\tEpoch: 1\n",
            "\tTraining Loss: 3.6916; Training Accuracy: 30.1925%\n",
            "\tValidation Loss: 1.7653; Validation Accuracy: 35.76%\n",
            "\n",
            "\tEpoch: 2\n",
            "\tTraining Loss: 3.3906; Training Accuracy: 37.135%\n",
            "\tValidation Loss: 1.5653; Validation Accuracy: 42.61%\n",
            "\n",
            "\tEpoch: 3\n",
            "\tTraining Loss: 3.1408; Training Accuracy: 42.62%\n",
            "\tValidation Loss: 1.543; Validation Accuracy: 43.12%\n",
            "\n",
            "\tEpoch: 4\n",
            "\tTraining Loss: 2.9858; Training Accuracy: 46.205%\n",
            "\tValidation Loss: 1.4632; Validation Accuracy: 46.98%\n",
            "\n",
            "\tEpoch: 5\n",
            "\tTraining Loss: 2.8732; Training Accuracy: 48.555%\n",
            "\tValidation Loss: 1.5559; Validation Accuracy: 45.93%\n",
            "\n",
            "\tEpoch: 6\n",
            "\tTraining Loss: 2.474; Training Accuracy: 56.1625%\n",
            "\tValidation Loss: 1.1492; Validation Accuracy: 59.54%\n",
            "\n",
            "\tEpoch: 7\n",
            "\tTraining Loss: 2.3719; Training Accuracy: 58.055%\n",
            "\tValidation Loss: 1.1742; Validation Accuracy: 58.61%\n",
            "\n",
            "\tEpoch: 8\n",
            "\tTraining Loss: 2.0186; Training Accuracy: 64.96%\n",
            "\tValidation Loss: 0.9232; Validation Accuracy: 67.56%\n",
            "\n",
            "\tEpoch: 9\n",
            "\tTraining Loss: 1.9363; Training Accuracy: 66.3525%\n",
            "\tValidation Loss: 0.937; Validation Accuracy: 68.29%\n",
            "\n",
            "\tTesting Loss: 0.9758; Testing Accuracy: 67.44%\n"
          ]
        },
        {
          "data": {
            "text/html": [
              "Waiting for W&B process to finish... <strong style=\"color:green\">(success).</strong>"
            ],
            "text/plain": [
              "<IPython.core.display.HTML object>"
            ]
          },
          "metadata": {},
          "output_type": "display_data"
        },
        {
          "data": {
            "application/vnd.jupyter.widget-view+json": {
              "model_id": "0f94087da58142559445b8cbfa96c8e3",
              "version_major": 2,
              "version_minor": 0
            },
            "text/plain": [
              "VBox(children=(Label(value='0.001 MB of 0.001 MB uploaded (0.000 MB deduped)\\r'), FloatProgress(value=1.0, max…"
            ]
          },
          "metadata": {},
          "output_type": "display_data"
        },
        {
          "data": {
            "text/html": [
              "<style>\n",
              "    table.wandb td:nth-child(1) { padding: 0 10px; text-align: left ; width: auto;} td:nth-child(2) {text-align: left ; width: 100%}\n",
              "    .wandb-row { display: flex; flex-direction: row; flex-wrap: wrap; justify-content: flex-start; width: 100% }\n",
              "    .wandb-col { display: flex; flex-direction: column; flex-basis: 100%; flex: 1; padding: 10px; }\n",
              "    </style>\n",
              "<div class=\"wandb-row\"><div class=\"wandb-col\"><h3>Run history:</h3><br/><table class=\"wandb\"><tr><td>test_accuracy</td><td>▁</td></tr></table><br/></div><div class=\"wandb-col\"><h3>Run summary:</h3><br/><table class=\"wandb\"><tr><td>test_accuracy</td><td>0.6744</td></tr></table><br/></div></div>"
            ],
            "text/plain": [
              "<IPython.core.display.HTML object>"
            ]
          },
          "metadata": {},
          "output_type": "display_data"
        },
        {
          "data": {
            "text/html": [
              " View run <strong style=\"color:#cdcd00\">autumn-sweep-2</strong> at: <a href='https://wandb.ai/nyu-tandon/Modified-Resnet/runs/ggrghv7z' target=\"_blank\">https://wandb.ai/nyu-tandon/Modified-Resnet/runs/ggrghv7z</a><br/>Synced 5 W&B file(s), 0 media file(s), 0 artifact file(s) and 0 other file(s)"
            ],
            "text/plain": [
              "<IPython.core.display.HTML object>"
            ]
          },
          "metadata": {},
          "output_type": "display_data"
        },
        {
          "data": {
            "text/html": [
              "Find logs at: <code>./wandb/run-20230412_004704-ggrghv7z/logs</code>"
            ],
            "text/plain": [
              "<IPython.core.display.HTML object>"
            ]
          },
          "metadata": {},
          "output_type": "display_data"
        },
        {
          "metadata": {
            "tags": null
          },
          "name": "stderr",
          "output_type": "stream",
          "text": [
            "\u001b[34m\u001b[1mwandb\u001b[0m: Agent Starting Run: dxezs5by with config:\n",
            "\u001b[34m\u001b[1mwandb\u001b[0m: \tlearning_rate: 0.01\n",
            "\u001b[34m\u001b[1mwandb\u001b[0m: \tmomentum: 0.7\n",
            "\u001b[34m\u001b[1mwandb\u001b[0m: \toptimizer: sgd\n",
            "\u001b[34m\u001b[1mwandb\u001b[0m: \tscheduler: ReduceLROnPlateau\n",
            "\u001b[34m\u001b[1mwandb\u001b[0m: \tweight_decay: 0.005\n"
          ]
        },
        {
          "data": {
            "text/html": [
              "Tracking run with wandb version 0.14.2"
            ],
            "text/plain": [
              "<IPython.core.display.HTML object>"
            ]
          },
          "metadata": {},
          "output_type": "display_data"
        },
        {
          "data": {
            "text/html": [
              "Run data is saved locally in <code>/content/wandb/run-20230412_005613-dxezs5by</code>"
            ],
            "text/plain": [
              "<IPython.core.display.HTML object>"
            ]
          },
          "metadata": {},
          "output_type": "display_data"
        },
        {
          "data": {
            "text/html": [
              "Syncing run <strong><a href='https://wandb.ai/nyu-tandon/Modified-Resnet/runs/dxezs5by' target=\"_blank\">happy-sweep-4</a></strong> to <a href='https://wandb.ai/nyu-tandon/Modified-Resnet' target=\"_blank\">Weights & Biases</a> (<a href='https://wandb.me/run' target=\"_blank\">docs</a>)<br/>Sweep page: <a href='https://wandb.ai/nyu-tandon/Modified-Resnet/sweeps/dqtdxs3j' target=\"_blank\">https://wandb.ai/nyu-tandon/Modified-Resnet/sweeps/dqtdxs3j</a>"
            ],
            "text/plain": [
              "<IPython.core.display.HTML object>"
            ]
          },
          "metadata": {},
          "output_type": "display_data"
        },
        {
          "data": {
            "text/html": [
              " View project at <a href='https://wandb.ai/nyu-tandon/Modified-Resnet' target=\"_blank\">https://wandb.ai/nyu-tandon/Modified-Resnet</a>"
            ],
            "text/plain": [
              "<IPython.core.display.HTML object>"
            ]
          },
          "metadata": {},
          "output_type": "display_data"
        },
        {
          "data": {
            "text/html": [
              " View sweep at <a href='https://wandb.ai/nyu-tandon/Modified-Resnet/sweeps/dqtdxs3j' target=\"_blank\">https://wandb.ai/nyu-tandon/Modified-Resnet/sweeps/dqtdxs3j</a>"
            ],
            "text/plain": [
              "<IPython.core.display.HTML object>"
            ]
          },
          "metadata": {},
          "output_type": "display_data"
        },
        {
          "data": {
            "text/html": [
              " View run at <a href='https://wandb.ai/nyu-tandon/Modified-Resnet/runs/dxezs5by' target=\"_blank\">https://wandb.ai/nyu-tandon/Modified-Resnet/runs/dxezs5by</a>"
            ],
            "text/plain": [
              "<IPython.core.display.HTML object>"
            ]
          },
          "metadata": {},
          "output_type": "display_data"
        },
        {
          "metadata": {
            "tags": null
          },
          "name": "stderr",
          "output_type": "stream",
          "text": [
            "\u001b[34m\u001b[1mwandb\u001b[0m: \u001b[33mWARNING\u001b[0m Config item 'learning_rate' was locked by 'sweep' (ignored update).\n",
            "\u001b[34m\u001b[1mwandb\u001b[0m: \u001b[33mWARNING\u001b[0m Config item 'optimizer' was locked by 'sweep' (ignored update).\n",
            "\u001b[34m\u001b[1mwandb\u001b[0m: \u001b[33mWARNING\u001b[0m Config item 'scheduler' was locked by 'sweep' (ignored update).\n",
            "\u001b[34m\u001b[1mwandb\u001b[0m: \u001b[33mWARNING\u001b[0m Config item 'momentum' was locked by 'sweep' (ignored update).\n",
            "\u001b[34m\u001b[1mwandb\u001b[0m: \u001b[33mWARNING\u001b[0m Config item 'weight_decay' was locked by 'sweep' (ignored update).\n"
          ]
        },
        {
          "metadata": {
            "tags": null
          },
          "name": "stdout",
          "output_type": "stream",
          "text": [
            "Files already downloaded and verified\n",
            "Files already downloaded and verified\n",
            "Num Params: 4891338\n",
            "\n",
            "\n",
            "\tEpoch: 0\n",
            "\tTraining Loss: 3.4737; Training Accuracy: 36.0375%\n",
            "\tValidation Loss: 1.4281; Validation Accuracy: 48.11%\n",
            "\n",
            "\tEpoch: 1\n",
            "\tTraining Loss: 2.699; Training Accuracy: 51.37%\n",
            "\tValidation Loss: 1.1899; Validation Accuracy: 57.2%\n",
            "\n",
            "\tEpoch: 2\n",
            "\tTraining Loss: 2.2474; Training Accuracy: 60.375%\n",
            "\tValidation Loss: 1.0381; Validation Accuracy: 63.49%\n",
            "\n",
            "\tEpoch: 3\n",
            "\tTraining Loss: 1.9548; Training Accuracy: 65.9025%\n",
            "\tValidation Loss: 0.9328; Validation Accuracy: 67.25%\n",
            "\n",
            "\tEpoch: 4\n",
            "\tTraining Loss: 1.7895; Training Accuracy: 69.43%\n",
            "\tValidation Loss: 0.8631; Validation Accuracy: 69.54%\n",
            "\n",
            "\tEpoch: 5\n",
            "\tTraining Loss: 1.6738; Training Accuracy: 71.7275%\n",
            "\tValidation Loss: 0.8351; Validation Accuracy: 71.27%\n",
            "\n",
            "\tEpoch: 6\n",
            "\tTraining Loss: 1.5739; Training Accuracy: 73.6825%\n",
            "\tValidation Loss: 0.7432; Validation Accuracy: 74.53%\n",
            "\n",
            "\tEpoch: 7\n",
            "\tTraining Loss: 1.5012; Training Accuracy: 74.725%\n",
            "\tValidation Loss: 0.7192; Validation Accuracy: 75.62%\n",
            "\n",
            "\tEpoch: 8\n",
            "\tTraining Loss: 1.4376; Training Accuracy: 75.885%\n",
            "\tValidation Loss: 0.7351; Validation Accuracy: 74.58%\n",
            "\n",
            "\tEpoch: 9\n",
            "\tTraining Loss: 1.1509; Training Accuracy: 80.915%\n",
            "\tValidation Loss: 0.5537; Validation Accuracy: 81.98%\n",
            "\n",
            "\tTesting Loss: 0.5554; Testing Accuracy: 81.58%\n"
          ]
        },
        {
          "data": {
            "text/html": [
              "Waiting for W&B process to finish... <strong style=\"color:green\">(success).</strong>"
            ],
            "text/plain": [
              "<IPython.core.display.HTML object>"
            ]
          },
          "metadata": {},
          "output_type": "display_data"
        },
        {
          "data": {
            "text/html": [
              "<style>\n",
              "    table.wandb td:nth-child(1) { padding: 0 10px; text-align: left ; width: auto;} td:nth-child(2) {text-align: left ; width: 100%}\n",
              "    .wandb-row { display: flex; flex-direction: row; flex-wrap: wrap; justify-content: flex-start; width: 100% }\n",
              "    .wandb-col { display: flex; flex-direction: column; flex-basis: 100%; flex: 1; padding: 10px; }\n",
              "    </style>\n",
              "<div class=\"wandb-row\"><div class=\"wandb-col\"><h3>Run history:</h3><br/><table class=\"wandb\"><tr><td>test_accuracy</td><td>▁</td></tr></table><br/></div><div class=\"wandb-col\"><h3>Run summary:</h3><br/><table class=\"wandb\"><tr><td>test_accuracy</td><td>0.8158</td></tr></table><br/></div></div>"
            ],
            "text/plain": [
              "<IPython.core.display.HTML object>"
            ]
          },
          "metadata": {},
          "output_type": "display_data"
        },
        {
          "data": {
            "text/html": [
              " View run <strong style=\"color:#cdcd00\">happy-sweep-4</strong> at: <a href='https://wandb.ai/nyu-tandon/Modified-Resnet/runs/dxezs5by' target=\"_blank\">https://wandb.ai/nyu-tandon/Modified-Resnet/runs/dxezs5by</a><br/>Synced 5 W&B file(s), 0 media file(s), 0 artifact file(s) and 0 other file(s)"
            ],
            "text/plain": [
              "<IPython.core.display.HTML object>"
            ]
          },
          "metadata": {},
          "output_type": "display_data"
        },
        {
          "data": {
            "text/html": [
              "Find logs at: <code>./wandb/run-20230412_005613-dxezs5by/logs</code>"
            ],
            "text/plain": [
              "<IPython.core.display.HTML object>"
            ]
          },
          "metadata": {},
          "output_type": "display_data"
        },
        {
          "metadata": {
            "tags": null
          },
          "name": "stderr",
          "output_type": "stream",
          "text": [
            "\u001b[34m\u001b[1mwandb\u001b[0m: Agent Starting Run: f45naarc with config:\n",
            "\u001b[34m\u001b[1mwandb\u001b[0m: \tlearning_rate: 0.01\n",
            "\u001b[34m\u001b[1mwandb\u001b[0m: \tmomentum: 0.7\n",
            "\u001b[34m\u001b[1mwandb\u001b[0m: \toptimizer: sgd\n",
            "\u001b[34m\u001b[1mwandb\u001b[0m: \tscheduler: ReduceLROnPlateau\n",
            "\u001b[34m\u001b[1mwandb\u001b[0m: \tweight_decay: 0.0001\n"
          ]
        },
        {
          "data": {
            "text/html": [
              "Tracking run with wandb version 0.14.2"
            ],
            "text/plain": [
              "<IPython.core.display.HTML object>"
            ]
          },
          "metadata": {},
          "output_type": "display_data"
        },
        {
          "data": {
            "text/html": [
              "Run data is saved locally in <code>/content/wandb/run-20230412_010530-f45naarc</code>"
            ],
            "text/plain": [
              "<IPython.core.display.HTML object>"
            ]
          },
          "metadata": {},
          "output_type": "display_data"
        },
        {
          "data": {
            "text/html": [
              "Syncing run <strong><a href='https://wandb.ai/nyu-tandon/Modified-Resnet/runs/f45naarc' target=\"_blank\">wobbly-sweep-6</a></strong> to <a href='https://wandb.ai/nyu-tandon/Modified-Resnet' target=\"_blank\">Weights & Biases</a> (<a href='https://wandb.me/run' target=\"_blank\">docs</a>)<br/>Sweep page: <a href='https://wandb.ai/nyu-tandon/Modified-Resnet/sweeps/dqtdxs3j' target=\"_blank\">https://wandb.ai/nyu-tandon/Modified-Resnet/sweeps/dqtdxs3j</a>"
            ],
            "text/plain": [
              "<IPython.core.display.HTML object>"
            ]
          },
          "metadata": {},
          "output_type": "display_data"
        },
        {
          "data": {
            "text/html": [
              " View project at <a href='https://wandb.ai/nyu-tandon/Modified-Resnet' target=\"_blank\">https://wandb.ai/nyu-tandon/Modified-Resnet</a>"
            ],
            "text/plain": [
              "<IPython.core.display.HTML object>"
            ]
          },
          "metadata": {},
          "output_type": "display_data"
        },
        {
          "data": {
            "text/html": [
              " View sweep at <a href='https://wandb.ai/nyu-tandon/Modified-Resnet/sweeps/dqtdxs3j' target=\"_blank\">https://wandb.ai/nyu-tandon/Modified-Resnet/sweeps/dqtdxs3j</a>"
            ],
            "text/plain": [
              "<IPython.core.display.HTML object>"
            ]
          },
          "metadata": {},
          "output_type": "display_data"
        },
        {
          "data": {
            "text/html": [
              " View run at <a href='https://wandb.ai/nyu-tandon/Modified-Resnet/runs/f45naarc' target=\"_blank\">https://wandb.ai/nyu-tandon/Modified-Resnet/runs/f45naarc</a>"
            ],
            "text/plain": [
              "<IPython.core.display.HTML object>"
            ]
          },
          "metadata": {},
          "output_type": "display_data"
        },
        {
          "metadata": {
            "tags": null
          },
          "name": "stderr",
          "output_type": "stream",
          "text": [
            "\u001b[34m\u001b[1mwandb\u001b[0m: \u001b[33mWARNING\u001b[0m Config item 'learning_rate' was locked by 'sweep' (ignored update).\n",
            "\u001b[34m\u001b[1mwandb\u001b[0m: \u001b[33mWARNING\u001b[0m Config item 'optimizer' was locked by 'sweep' (ignored update).\n",
            "\u001b[34m\u001b[1mwandb\u001b[0m: \u001b[33mWARNING\u001b[0m Config item 'scheduler' was locked by 'sweep' (ignored update).\n",
            "\u001b[34m\u001b[1mwandb\u001b[0m: \u001b[33mWARNING\u001b[0m Config item 'momentum' was locked by 'sweep' (ignored update).\n",
            "\u001b[34m\u001b[1mwandb\u001b[0m: \u001b[33mWARNING\u001b[0m Config item 'weight_decay' was locked by 'sweep' (ignored update).\n"
          ]
        },
        {
          "metadata": {
            "tags": null
          },
          "name": "stdout",
          "output_type": "stream",
          "text": [
            "Files already downloaded and verified\n",
            "Files already downloaded and verified\n",
            "Num Params: 4891338\n",
            "\n",
            "\n",
            "\tEpoch: 0\n",
            "\tTraining Loss: 3.3801; Training Accuracy: 37.7575%\n",
            "\tValidation Loss: 1.4517; Validation Accuracy: 46.24%\n",
            "\n",
            "\tEpoch: 1\n",
            "\tTraining Loss: 2.6148; Training Accuracy: 52.8225%\n",
            "\tValidation Loss: 1.0858; Validation Accuracy: 61.35%\n",
            "\n",
            "\tEpoch: 2\n",
            "\tTraining Loss: 2.0947; Training Accuracy: 62.85%\n",
            "\tValidation Loss: 0.9835; Validation Accuracy: 65.13%\n",
            "\n",
            "\tEpoch: 3\n",
            "\tTraining Loss: 1.8086; Training Accuracy: 68.3375%\n",
            "\tValidation Loss: 0.8328; Validation Accuracy: 71.45%\n",
            "\n",
            "\tEpoch: 4\n",
            "\tTraining Loss: 1.5964; Training Accuracy: 72.1275%\n",
            "\tValidation Loss: 0.8139; Validation Accuracy: 71.54%\n",
            "\n",
            "\tEpoch: 5\n",
            "\tTraining Loss: 1.4329; Training Accuracy: 75.085%\n",
            "\tValidation Loss: 0.7325; Validation Accuracy: 74.45%\n",
            "\n",
            "\tEpoch: 6\n",
            "\tTraining Loss: 1.3095; Training Accuracy: 77.46%\n",
            "\tValidation Loss: 0.6299; Validation Accuracy: 78.9%\n",
            "\n",
            "\tEpoch: 7\n",
            "\tTraining Loss: 1.2148; Training Accuracy: 79.125%\n",
            "\tValidation Loss: 0.6065; Validation Accuracy: 79.28%\n",
            "\n",
            "\tEpoch: 8\n",
            "\tTraining Loss: 1.1323; Training Accuracy: 80.605%\n",
            "\tValidation Loss: 0.5945; Validation Accuracy: 79.77%\n",
            "\n",
            "\tEpoch: 9\n",
            "\tTraining Loss: 1.0674; Training Accuracy: 81.75%\n",
            "\tValidation Loss: 0.5614; Validation Accuracy: 80.69%\n",
            "\n",
            "\tTesting Loss: 0.5775; Testing Accuracy: 80.88%\n"
          ]
        },
        {
          "data": {
            "text/html": [
              "Waiting for W&B process to finish... <strong style=\"color:green\">(success).</strong>"
            ],
            "text/plain": [
              "<IPython.core.display.HTML object>"
            ]
          },
          "metadata": {},
          "output_type": "display_data"
        },
        {
          "data": {
            "application/vnd.jupyter.widget-view+json": {
              "model_id": "f02ab6b6170d4f2a90261177a3fd1869",
              "version_major": 2,
              "version_minor": 0
            },
            "text/plain": [
              "VBox(children=(Label(value='0.001 MB of 0.001 MB uploaded (0.000 MB deduped)\\r'), FloatProgress(value=1.0, max…"
            ]
          },
          "metadata": {},
          "output_type": "display_data"
        },
        {
          "data": {
            "text/html": [
              "<style>\n",
              "    table.wandb td:nth-child(1) { padding: 0 10px; text-align: left ; width: auto;} td:nth-child(2) {text-align: left ; width: 100%}\n",
              "    .wandb-row { display: flex; flex-direction: row; flex-wrap: wrap; justify-content: flex-start; width: 100% }\n",
              "    .wandb-col { display: flex; flex-direction: column; flex-basis: 100%; flex: 1; padding: 10px; }\n",
              "    </style>\n",
              "<div class=\"wandb-row\"><div class=\"wandb-col\"><h3>Run history:</h3><br/><table class=\"wandb\"><tr><td>test_accuracy</td><td>▁</td></tr></table><br/></div><div class=\"wandb-col\"><h3>Run summary:</h3><br/><table class=\"wandb\"><tr><td>test_accuracy</td><td>0.8088</td></tr></table><br/></div></div>"
            ],
            "text/plain": [
              "<IPython.core.display.HTML object>"
            ]
          },
          "metadata": {},
          "output_type": "display_data"
        },
        {
          "data": {
            "text/html": [
              " View run <strong style=\"color:#cdcd00\">wobbly-sweep-6</strong> at: <a href='https://wandb.ai/nyu-tandon/Modified-Resnet/runs/f45naarc' target=\"_blank\">https://wandb.ai/nyu-tandon/Modified-Resnet/runs/f45naarc</a><br/>Synced 5 W&B file(s), 0 media file(s), 0 artifact file(s) and 0 other file(s)"
            ],
            "text/plain": [
              "<IPython.core.display.HTML object>"
            ]
          },
          "metadata": {},
          "output_type": "display_data"
        },
        {
          "data": {
            "text/html": [
              "Find logs at: <code>./wandb/run-20230412_010530-f45naarc/logs</code>"
            ],
            "text/plain": [
              "<IPython.core.display.HTML object>"
            ]
          },
          "metadata": {},
          "output_type": "display_data"
        },
        {
          "metadata": {
            "tags": null
          },
          "name": "stderr",
          "output_type": "stream",
          "text": [
            "\u001b[34m\u001b[1mwandb\u001b[0m: Agent Starting Run: 88fzbh2u with config:\n",
            "\u001b[34m\u001b[1mwandb\u001b[0m: \tlearning_rate: 0.01\n",
            "\u001b[34m\u001b[1mwandb\u001b[0m: \tmomentum: 0.7\n",
            "\u001b[34m\u001b[1mwandb\u001b[0m: \toptimizer: sgd\n",
            "\u001b[34m\u001b[1mwandb\u001b[0m: \tscheduler: ReduceLROnPlateau\n",
            "\u001b[34m\u001b[1mwandb\u001b[0m: \tweight_decay: 0.001\n"
          ]
        },
        {
          "data": {
            "text/html": [
              "Tracking run with wandb version 0.14.2"
            ],
            "text/plain": [
              "<IPython.core.display.HTML object>"
            ]
          },
          "metadata": {},
          "output_type": "display_data"
        },
        {
          "data": {
            "text/html": [
              "Run data is saved locally in <code>/content/wandb/run-20230412_011441-88fzbh2u</code>"
            ],
            "text/plain": [
              "<IPython.core.display.HTML object>"
            ]
          },
          "metadata": {},
          "output_type": "display_data"
        },
        {
          "data": {
            "text/html": [
              "Syncing run <strong><a href='https://wandb.ai/nyu-tandon/Modified-Resnet/runs/88fzbh2u' target=\"_blank\">dark-sweep-8</a></strong> to <a href='https://wandb.ai/nyu-tandon/Modified-Resnet' target=\"_blank\">Weights & Biases</a> (<a href='https://wandb.me/run' target=\"_blank\">docs</a>)<br/>Sweep page: <a href='https://wandb.ai/nyu-tandon/Modified-Resnet/sweeps/dqtdxs3j' target=\"_blank\">https://wandb.ai/nyu-tandon/Modified-Resnet/sweeps/dqtdxs3j</a>"
            ],
            "text/plain": [
              "<IPython.core.display.HTML object>"
            ]
          },
          "metadata": {},
          "output_type": "display_data"
        },
        {
          "data": {
            "text/html": [
              " View project at <a href='https://wandb.ai/nyu-tandon/Modified-Resnet' target=\"_blank\">https://wandb.ai/nyu-tandon/Modified-Resnet</a>"
            ],
            "text/plain": [
              "<IPython.core.display.HTML object>"
            ]
          },
          "metadata": {},
          "output_type": "display_data"
        },
        {
          "data": {
            "text/html": [
              " View sweep at <a href='https://wandb.ai/nyu-tandon/Modified-Resnet/sweeps/dqtdxs3j' target=\"_blank\">https://wandb.ai/nyu-tandon/Modified-Resnet/sweeps/dqtdxs3j</a>"
            ],
            "text/plain": [
              "<IPython.core.display.HTML object>"
            ]
          },
          "metadata": {},
          "output_type": "display_data"
        },
        {
          "data": {
            "text/html": [
              " View run at <a href='https://wandb.ai/nyu-tandon/Modified-Resnet/runs/88fzbh2u' target=\"_blank\">https://wandb.ai/nyu-tandon/Modified-Resnet/runs/88fzbh2u</a>"
            ],
            "text/plain": [
              "<IPython.core.display.HTML object>"
            ]
          },
          "metadata": {},
          "output_type": "display_data"
        },
        {
          "metadata": {
            "tags": null
          },
          "name": "stderr",
          "output_type": "stream",
          "text": [
            "\u001b[34m\u001b[1mwandb\u001b[0m: \u001b[33mWARNING\u001b[0m Config item 'learning_rate' was locked by 'sweep' (ignored update).\n",
            "\u001b[34m\u001b[1mwandb\u001b[0m: \u001b[33mWARNING\u001b[0m Config item 'optimizer' was locked by 'sweep' (ignored update).\n",
            "\u001b[34m\u001b[1mwandb\u001b[0m: \u001b[33mWARNING\u001b[0m Config item 'scheduler' was locked by 'sweep' (ignored update).\n",
            "\u001b[34m\u001b[1mwandb\u001b[0m: \u001b[33mWARNING\u001b[0m Config item 'momentum' was locked by 'sweep' (ignored update).\n",
            "\u001b[34m\u001b[1mwandb\u001b[0m: \u001b[33mWARNING\u001b[0m Config item 'weight_decay' was locked by 'sweep' (ignored update).\n"
          ]
        },
        {
          "metadata": {
            "tags": null
          },
          "name": "stdout",
          "output_type": "stream",
          "text": [
            "Files already downloaded and verified\n",
            "Files already downloaded and verified\n",
            "Num Params: 4891338\n",
            "\n",
            "\n",
            "\tEpoch: 0\n",
            "\tTraining Loss: 3.4837; Training Accuracy: 35.6275%\n",
            "\tValidation Loss: 1.5308; Validation Accuracy: 43.75%\n",
            "\n",
            "\tEpoch: 1\n",
            "\tTraining Loss: 2.7722; Training Accuracy: 49.77%\n",
            "\tValidation Loss: 1.1996; Validation Accuracy: 56.33%\n",
            "\n",
            "\tEpoch: 2\n",
            "\tTraining Loss: 2.259; Training Accuracy: 59.8725%\n",
            "\tValidation Loss: 1.09; Validation Accuracy: 60.84%\n",
            "\n",
            "\tEpoch: 3\n",
            "\tTraining Loss: 1.9184; Training Accuracy: 66.395%\n",
            "\tValidation Loss: 0.9453; Validation Accuracy: 66.83%\n",
            "\n",
            "\tEpoch: 4\n",
            "\tTraining Loss: 1.6967; Training Accuracy: 70.7525%\n",
            "\tValidation Loss: 0.8491; Validation Accuracy: 70.48%\n",
            "\n",
            "\tEpoch: 5\n",
            "\tTraining Loss: 1.5242; Training Accuracy: 73.8375%\n",
            "\tValidation Loss: 0.7212; Validation Accuracy: 75.31%\n",
            "\n",
            "\tEpoch: 6\n",
            "\tTraining Loss: 1.4093; Training Accuracy: 75.7075%\n",
            "\tValidation Loss: 0.6681; Validation Accuracy: 77.14%\n",
            "\n",
            "\tEpoch: 7\n",
            "\tTraining Loss: 1.3102; Training Accuracy: 77.7125%\n",
            "\tValidation Loss: 0.6544; Validation Accuracy: 77.43%\n",
            "\n",
            "\tEpoch: 8\n",
            "\tTraining Loss: 1.2213; Training Accuracy: 79.0125%\n",
            "\tValidation Loss: 0.659; Validation Accuracy: 77.54%\n",
            "\n",
            "\tEpoch: 9\n",
            "\tTraining Loss: 1.1596; Training Accuracy: 80.3375%\n",
            "\tValidation Loss: 0.5672; Validation Accuracy: 80.61%\n",
            "\n",
            "\tTesting Loss: 0.5863; Testing Accuracy: 79.97%\n"
          ]
        },
        {
          "data": {
            "text/html": [
              "Waiting for W&B process to finish... <strong style=\"color:green\">(success).</strong>"
            ],
            "text/plain": [
              "<IPython.core.display.HTML object>"
            ]
          },
          "metadata": {},
          "output_type": "display_data"
        },
        {
          "data": {
            "application/vnd.jupyter.widget-view+json": {
              "model_id": "2f6572a9c0ad459dbe1955195180d4c8",
              "version_major": 2,
              "version_minor": 0
            },
            "text/plain": [
              "VBox(children=(Label(value='0.001 MB of 0.001 MB uploaded (0.000 MB deduped)\\r'), FloatProgress(value=1.0, max…"
            ]
          },
          "metadata": {},
          "output_type": "display_data"
        },
        {
          "data": {
            "text/html": [
              "<style>\n",
              "    table.wandb td:nth-child(1) { padding: 0 10px; text-align: left ; width: auto;} td:nth-child(2) {text-align: left ; width: 100%}\n",
              "    .wandb-row { display: flex; flex-direction: row; flex-wrap: wrap; justify-content: flex-start; width: 100% }\n",
              "    .wandb-col { display: flex; flex-direction: column; flex-basis: 100%; flex: 1; padding: 10px; }\n",
              "    </style>\n",
              "<div class=\"wandb-row\"><div class=\"wandb-col\"><h3>Run history:</h3><br/><table class=\"wandb\"><tr><td>test_accuracy</td><td>▁</td></tr></table><br/></div><div class=\"wandb-col\"><h3>Run summary:</h3><br/><table class=\"wandb\"><tr><td>test_accuracy</td><td>0.7997</td></tr></table><br/></div></div>"
            ],
            "text/plain": [
              "<IPython.core.display.HTML object>"
            ]
          },
          "metadata": {},
          "output_type": "display_data"
        },
        {
          "data": {
            "text/html": [
              " View run <strong style=\"color:#cdcd00\">dark-sweep-8</strong> at: <a href='https://wandb.ai/nyu-tandon/Modified-Resnet/runs/88fzbh2u' target=\"_blank\">https://wandb.ai/nyu-tandon/Modified-Resnet/runs/88fzbh2u</a><br/>Synced 5 W&B file(s), 0 media file(s), 0 artifact file(s) and 0 other file(s)"
            ],
            "text/plain": [
              "<IPython.core.display.HTML object>"
            ]
          },
          "metadata": {},
          "output_type": "display_data"
        },
        {
          "data": {
            "text/html": [
              "Find logs at: <code>./wandb/run-20230412_011441-88fzbh2u/logs</code>"
            ],
            "text/plain": [
              "<IPython.core.display.HTML object>"
            ]
          },
          "metadata": {},
          "output_type": "display_data"
        },
        {
          "metadata": {
            "tags": null
          },
          "name": "stderr",
          "output_type": "stream",
          "text": [
            "\u001b[34m\u001b[1mwandb\u001b[0m: Agent Starting Run: pewcxmpy with config:\n",
            "\u001b[34m\u001b[1mwandb\u001b[0m: \tlearning_rate: 0.01\n",
            "\u001b[34m\u001b[1mwandb\u001b[0m: \tmomentum: 0.7\n",
            "\u001b[34m\u001b[1mwandb\u001b[0m: \toptimizer: sgd\n",
            "\u001b[34m\u001b[1mwandb\u001b[0m: \tscheduler: ReduceLROnPlateau\n",
            "\u001b[34m\u001b[1mwandb\u001b[0m: \tweight_decay: 0.0001\n"
          ]
        },
        {
          "data": {
            "text/html": [
              "Tracking run with wandb version 0.14.2"
            ],
            "text/plain": [
              "<IPython.core.display.HTML object>"
            ]
          },
          "metadata": {},
          "output_type": "display_data"
        },
        {
          "data": {
            "text/html": [
              "Run data is saved locally in <code>/content/wandb/run-20230412_012345-pewcxmpy</code>"
            ],
            "text/plain": [
              "<IPython.core.display.HTML object>"
            ]
          },
          "metadata": {},
          "output_type": "display_data"
        },
        {
          "data": {
            "text/html": [
              "Syncing run <strong><a href='https://wandb.ai/nyu-tandon/Modified-Resnet/runs/pewcxmpy' target=\"_blank\">faithful-sweep-10</a></strong> to <a href='https://wandb.ai/nyu-tandon/Modified-Resnet' target=\"_blank\">Weights & Biases</a> (<a href='https://wandb.me/run' target=\"_blank\">docs</a>)<br/>Sweep page: <a href='https://wandb.ai/nyu-tandon/Modified-Resnet/sweeps/dqtdxs3j' target=\"_blank\">https://wandb.ai/nyu-tandon/Modified-Resnet/sweeps/dqtdxs3j</a>"
            ],
            "text/plain": [
              "<IPython.core.display.HTML object>"
            ]
          },
          "metadata": {},
          "output_type": "display_data"
        },
        {
          "data": {
            "text/html": [
              " View project at <a href='https://wandb.ai/nyu-tandon/Modified-Resnet' target=\"_blank\">https://wandb.ai/nyu-tandon/Modified-Resnet</a>"
            ],
            "text/plain": [
              "<IPython.core.display.HTML object>"
            ]
          },
          "metadata": {},
          "output_type": "display_data"
        },
        {
          "data": {
            "text/html": [
              " View sweep at <a href='https://wandb.ai/nyu-tandon/Modified-Resnet/sweeps/dqtdxs3j' target=\"_blank\">https://wandb.ai/nyu-tandon/Modified-Resnet/sweeps/dqtdxs3j</a>"
            ],
            "text/plain": [
              "<IPython.core.display.HTML object>"
            ]
          },
          "metadata": {},
          "output_type": "display_data"
        },
        {
          "data": {
            "text/html": [
              " View run at <a href='https://wandb.ai/nyu-tandon/Modified-Resnet/runs/pewcxmpy' target=\"_blank\">https://wandb.ai/nyu-tandon/Modified-Resnet/runs/pewcxmpy</a>"
            ],
            "text/plain": [
              "<IPython.core.display.HTML object>"
            ]
          },
          "metadata": {},
          "output_type": "display_data"
        },
        {
          "metadata": {
            "tags": null
          },
          "name": "stderr",
          "output_type": "stream",
          "text": [
            "\u001b[34m\u001b[1mwandb\u001b[0m: \u001b[33mWARNING\u001b[0m Config item 'learning_rate' was locked by 'sweep' (ignored update).\n",
            "\u001b[34m\u001b[1mwandb\u001b[0m: \u001b[33mWARNING\u001b[0m Config item 'optimizer' was locked by 'sweep' (ignored update).\n",
            "\u001b[34m\u001b[1mwandb\u001b[0m: \u001b[33mWARNING\u001b[0m Config item 'scheduler' was locked by 'sweep' (ignored update).\n",
            "\u001b[34m\u001b[1mwandb\u001b[0m: \u001b[33mWARNING\u001b[0m Config item 'momentum' was locked by 'sweep' (ignored update).\n",
            "\u001b[34m\u001b[1mwandb\u001b[0m: \u001b[33mWARNING\u001b[0m Config item 'weight_decay' was locked by 'sweep' (ignored update).\n"
          ]
        },
        {
          "metadata": {
            "tags": null
          },
          "name": "stdout",
          "output_type": "stream",
          "text": [
            "Files already downloaded and verified\n",
            "Files already downloaded and verified\n",
            "Num Params: 4891338\n",
            "\n",
            "\n",
            "\tEpoch: 0\n",
            "\tTraining Loss: 3.4604; Training Accuracy: 36.0625%\n",
            "\tValidation Loss: 1.4385; Validation Accuracy: 47.14%\n",
            "\n",
            "\tEpoch: 1\n",
            "\tTraining Loss: 2.7532; Training Accuracy: 50.2425%\n",
            "\tValidation Loss: 1.1713; Validation Accuracy: 57.95%\n",
            "\n",
            "\tEpoch: 2\n",
            "\tTraining Loss: 2.2452; Training Accuracy: 60.4975%\n",
            "\tValidation Loss: 0.9696; Validation Accuracy: 65.36%\n",
            "\n",
            "\tEpoch: 3\n",
            "\tTraining Loss: 1.8992; Training Accuracy: 66.735%\n",
            "\tValidation Loss: 0.8903; Validation Accuracy: 68.3%\n",
            "\n",
            "\tEpoch: 4\n",
            "\tTraining Loss: 1.6626; Training Accuracy: 71.38%\n",
            "\tValidation Loss: 0.7692; Validation Accuracy: 72.56%\n",
            "\n",
            "\tEpoch: 5\n",
            "\tTraining Loss: 1.4949; Training Accuracy: 74.215%\n",
            "\tValidation Loss: 0.6957; Validation Accuracy: 76.1%\n",
            "\n",
            "\tEpoch: 6\n",
            "\tTraining Loss: 1.3699; Training Accuracy: 76.425%\n",
            "\tValidation Loss: 0.7014; Validation Accuracy: 75.87%\n",
            "\n",
            "\tEpoch: 7\n",
            "\tTraining Loss: 1.1148; Training Accuracy: 80.8525%\n",
            "\tValidation Loss: 0.5649; Validation Accuracy: 80.49%\n",
            "\n",
            "\tEpoch: 8\n",
            "\tTraining Loss: 1.0482; Training Accuracy: 82.1075%\n",
            "\tValidation Loss: 0.5641; Validation Accuracy: 80.67%\n",
            "\n",
            "\tEpoch: 9\n",
            "\tTraining Loss: 0.9859; Training Accuracy: 82.8675%\n",
            "\tValidation Loss: 0.5249; Validation Accuracy: 81.58%\n",
            "\n",
            "\tTesting Loss: 0.526; Testing Accuracy: 81.99%\n"
          ]
        },
        {
          "data": {
            "text/html": [
              "Waiting for W&B process to finish... <strong style=\"color:green\">(success).</strong>"
            ],
            "text/plain": [
              "<IPython.core.display.HTML object>"
            ]
          },
          "metadata": {},
          "output_type": "display_data"
        },
        {
          "data": {
            "application/vnd.jupyter.widget-view+json": {
              "model_id": "dc3079e4cbff4830b7115ac8a102ece0",
              "version_major": 2,
              "version_minor": 0
            },
            "text/plain": [
              "VBox(children=(Label(value='0.001 MB of 0.001 MB uploaded (0.000 MB deduped)\\r'), FloatProgress(value=1.0, max…"
            ]
          },
          "metadata": {},
          "output_type": "display_data"
        },
        {
          "data": {
            "text/html": [
              "<style>\n",
              "    table.wandb td:nth-child(1) { padding: 0 10px; text-align: left ; width: auto;} td:nth-child(2) {text-align: left ; width: 100%}\n",
              "    .wandb-row { display: flex; flex-direction: row; flex-wrap: wrap; justify-content: flex-start; width: 100% }\n",
              "    .wandb-col { display: flex; flex-direction: column; flex-basis: 100%; flex: 1; padding: 10px; }\n",
              "    </style>\n",
              "<div class=\"wandb-row\"><div class=\"wandb-col\"><h3>Run history:</h3><br/><table class=\"wandb\"><tr><td>test_accuracy</td><td>▁</td></tr></table><br/></div><div class=\"wandb-col\"><h3>Run summary:</h3><br/><table class=\"wandb\"><tr><td>test_accuracy</td><td>0.8199</td></tr></table><br/></div></div>"
            ],
            "text/plain": [
              "<IPython.core.display.HTML object>"
            ]
          },
          "metadata": {},
          "output_type": "display_data"
        },
        {
          "data": {
            "text/html": [
              " View run <strong style=\"color:#cdcd00\">faithful-sweep-10</strong> at: <a href='https://wandb.ai/nyu-tandon/Modified-Resnet/runs/pewcxmpy' target=\"_blank\">https://wandb.ai/nyu-tandon/Modified-Resnet/runs/pewcxmpy</a><br/>Synced 5 W&B file(s), 0 media file(s), 0 artifact file(s) and 0 other file(s)"
            ],
            "text/plain": [
              "<IPython.core.display.HTML object>"
            ]
          },
          "metadata": {},
          "output_type": "display_data"
        },
        {
          "data": {
            "text/html": [
              "Find logs at: <code>./wandb/run-20230412_012345-pewcxmpy/logs</code>"
            ],
            "text/plain": [
              "<IPython.core.display.HTML object>"
            ]
          },
          "metadata": {},
          "output_type": "display_data"
        },
        {
          "metadata": {
            "tags": null
          },
          "name": "stderr",
          "output_type": "stream",
          "text": [
            "\u001b[34m\u001b[1mwandb\u001b[0m: Agent Starting Run: u6lzh3fm with config:\n",
            "\u001b[34m\u001b[1mwandb\u001b[0m: \tlearning_rate: 0.01\n",
            "\u001b[34m\u001b[1mwandb\u001b[0m: \tmomentum: 0.99\n",
            "\u001b[34m\u001b[1mwandb\u001b[0m: \toptimizer: sgd\n",
            "\u001b[34m\u001b[1mwandb\u001b[0m: \tscheduler: ReduceLROnPlateau\n",
            "\u001b[34m\u001b[1mwandb\u001b[0m: \tweight_decay: 0.005\n"
          ]
        },
        {
          "data": {
            "text/html": [
              "Tracking run with wandb version 0.14.2"
            ],
            "text/plain": [
              "<IPython.core.display.HTML object>"
            ]
          },
          "metadata": {},
          "output_type": "display_data"
        },
        {
          "data": {
            "text/html": [
              "Run data is saved locally in <code>/content/wandb/run-20230412_013256-u6lzh3fm</code>"
            ],
            "text/plain": [
              "<IPython.core.display.HTML object>"
            ]
          },
          "metadata": {},
          "output_type": "display_data"
        },
        {
          "data": {
            "text/html": [
              "Syncing run <strong><a href='https://wandb.ai/nyu-tandon/Modified-Resnet/runs/u6lzh3fm' target=\"_blank\">treasured-sweep-12</a></strong> to <a href='https://wandb.ai/nyu-tandon/Modified-Resnet' target=\"_blank\">Weights & Biases</a> (<a href='https://wandb.me/run' target=\"_blank\">docs</a>)<br/>Sweep page: <a href='https://wandb.ai/nyu-tandon/Modified-Resnet/sweeps/dqtdxs3j' target=\"_blank\">https://wandb.ai/nyu-tandon/Modified-Resnet/sweeps/dqtdxs3j</a>"
            ],
            "text/plain": [
              "<IPython.core.display.HTML object>"
            ]
          },
          "metadata": {},
          "output_type": "display_data"
        },
        {
          "data": {
            "text/html": [
              " View project at <a href='https://wandb.ai/nyu-tandon/Modified-Resnet' target=\"_blank\">https://wandb.ai/nyu-tandon/Modified-Resnet</a>"
            ],
            "text/plain": [
              "<IPython.core.display.HTML object>"
            ]
          },
          "metadata": {},
          "output_type": "display_data"
        },
        {
          "data": {
            "text/html": [
              " View sweep at <a href='https://wandb.ai/nyu-tandon/Modified-Resnet/sweeps/dqtdxs3j' target=\"_blank\">https://wandb.ai/nyu-tandon/Modified-Resnet/sweeps/dqtdxs3j</a>"
            ],
            "text/plain": [
              "<IPython.core.display.HTML object>"
            ]
          },
          "metadata": {},
          "output_type": "display_data"
        },
        {
          "data": {
            "text/html": [
              " View run at <a href='https://wandb.ai/nyu-tandon/Modified-Resnet/runs/u6lzh3fm' target=\"_blank\">https://wandb.ai/nyu-tandon/Modified-Resnet/runs/u6lzh3fm</a>"
            ],
            "text/plain": [
              "<IPython.core.display.HTML object>"
            ]
          },
          "metadata": {},
          "output_type": "display_data"
        },
        {
          "metadata": {
            "tags": null
          },
          "name": "stderr",
          "output_type": "stream",
          "text": [
            "\u001b[34m\u001b[1mwandb\u001b[0m: \u001b[33mWARNING\u001b[0m Config item 'learning_rate' was locked by 'sweep' (ignored update).\n",
            "\u001b[34m\u001b[1mwandb\u001b[0m: \u001b[33mWARNING\u001b[0m Config item 'optimizer' was locked by 'sweep' (ignored update).\n",
            "\u001b[34m\u001b[1mwandb\u001b[0m: \u001b[33mWARNING\u001b[0m Config item 'scheduler' was locked by 'sweep' (ignored update).\n",
            "\u001b[34m\u001b[1mwandb\u001b[0m: \u001b[33mWARNING\u001b[0m Config item 'momentum' was locked by 'sweep' (ignored update).\n",
            "\u001b[34m\u001b[1mwandb\u001b[0m: \u001b[33mWARNING\u001b[0m Config item 'weight_decay' was locked by 'sweep' (ignored update).\n"
          ]
        },
        {
          "metadata": {
            "tags": null
          },
          "name": "stdout",
          "output_type": "stream",
          "text": [
            "Files already downloaded and verified\n",
            "Files already downloaded and verified\n",
            "Num Params: 4891338\n",
            "\n",
            "\n",
            "\tEpoch: 0\n",
            "\tTraining Loss: 4.0778; Training Accuracy: 22.37%\n",
            "\tValidation Loss: 2.0867; Validation Accuracy: 25.76%\n",
            "\n",
            "\tEpoch: 1\n",
            "\tTraining Loss: 3.8765; Training Accuracy: 25.82%\n",
            "\tValidation Loss: 2.0091; Validation Accuracy: 22.86%\n",
            "\n",
            "\tEpoch: 2\n",
            "\tTraining Loss: 3.7562; Training Accuracy: 28.125%\n",
            "\tValidation Loss: 1.9666; Validation Accuracy: 25.91%\n",
            "\n",
            "\tEpoch: 3\n",
            "\tTraining Loss: 3.7046; Training Accuracy: 29.0325%\n",
            "\tValidation Loss: 1.8904; Validation Accuracy: 27.47%\n",
            "\n",
            "\tEpoch: 4\n",
            "\tTraining Loss: 3.6861; Training Accuracy: 29.9575%\n",
            "\tValidation Loss: 1.8674; Validation Accuracy: 27.96%\n",
            "\n",
            "\tEpoch: 5\n",
            "\tTraining Loss: 3.6628; Training Accuracy: 30.355%\n",
            "\tValidation Loss: 1.8992; Validation Accuracy: 27.85%\n",
            "\n",
            "\tEpoch: 6\n",
            "\tTraining Loss: 3.4411; Training Accuracy: 34.7975%\n",
            "\tValidation Loss: 1.7586; Validation Accuracy: 32.66%\n",
            "\n",
            "\tEpoch: 7\n",
            "\tTraining Loss: 3.3376; Training Accuracy: 37.165%\n",
            "\tValidation Loss: 1.5981; Validation Accuracy: 39.58%\n",
            "\n",
            "\tEpoch: 8\n",
            "\tTraining Loss: 3.2543; Training Accuracy: 38.925%\n",
            "\tValidation Loss: 1.6564; Validation Accuracy: 38.33%\n",
            "\n",
            "\tEpoch: 9\n",
            "\tTraining Loss: 3.0471; Training Accuracy: 43.4825%\n",
            "\tValidation Loss: 1.4971; Validation Accuracy: 45.09%\n",
            "\n",
            "\tTesting Loss: 1.4433; Testing Accuracy: 47.06%\n"
          ]
        },
        {
          "data": {
            "text/html": [
              "Waiting for W&B process to finish... <strong style=\"color:green\">(success).</strong>"
            ],
            "text/plain": [
              "<IPython.core.display.HTML object>"
            ]
          },
          "metadata": {},
          "output_type": "display_data"
        },
        {
          "data": {
            "application/vnd.jupyter.widget-view+json": {
              "model_id": "3c1900edb60b44709703dc95e0cedbba",
              "version_major": 2,
              "version_minor": 0
            },
            "text/plain": [
              "VBox(children=(Label(value='0.001 MB of 0.001 MB uploaded (0.000 MB deduped)\\r'), FloatProgress(value=1.0, max…"
            ]
          },
          "metadata": {},
          "output_type": "display_data"
        },
        {
          "data": {
            "text/html": [
              "<style>\n",
              "    table.wandb td:nth-child(1) { padding: 0 10px; text-align: left ; width: auto;} td:nth-child(2) {text-align: left ; width: 100%}\n",
              "    .wandb-row { display: flex; flex-direction: row; flex-wrap: wrap; justify-content: flex-start; width: 100% }\n",
              "    .wandb-col { display: flex; flex-direction: column; flex-basis: 100%; flex: 1; padding: 10px; }\n",
              "    </style>\n",
              "<div class=\"wandb-row\"><div class=\"wandb-col\"><h3>Run history:</h3><br/><table class=\"wandb\"><tr><td>test_accuracy</td><td>▁</td></tr></table><br/></div><div class=\"wandb-col\"><h3>Run summary:</h3><br/><table class=\"wandb\"><tr><td>test_accuracy</td><td>0.4706</td></tr></table><br/></div></div>"
            ],
            "text/plain": [
              "<IPython.core.display.HTML object>"
            ]
          },
          "metadata": {},
          "output_type": "display_data"
        },
        {
          "data": {
            "text/html": [
              " View run <strong style=\"color:#cdcd00\">treasured-sweep-12</strong> at: <a href='https://wandb.ai/nyu-tandon/Modified-Resnet/runs/u6lzh3fm' target=\"_blank\">https://wandb.ai/nyu-tandon/Modified-Resnet/runs/u6lzh3fm</a><br/>Synced 5 W&B file(s), 0 media file(s), 0 artifact file(s) and 0 other file(s)"
            ],
            "text/plain": [
              "<IPython.core.display.HTML object>"
            ]
          },
          "metadata": {},
          "output_type": "display_data"
        },
        {
          "data": {
            "text/html": [
              "Find logs at: <code>./wandb/run-20230412_013256-u6lzh3fm/logs</code>"
            ],
            "text/plain": [
              "<IPython.core.display.HTML object>"
            ]
          },
          "metadata": {},
          "output_type": "display_data"
        },
        {
          "metadata": {
            "tags": null
          },
          "name": "stderr",
          "output_type": "stream",
          "text": [
            "\u001b[34m\u001b[1mwandb\u001b[0m: Agent Starting Run: 7xf33m8r with config:\n",
            "\u001b[34m\u001b[1mwandb\u001b[0m: \tlearning_rate: 0.01\n",
            "\u001b[34m\u001b[1mwandb\u001b[0m: \tmomentum: 0.8\n",
            "\u001b[34m\u001b[1mwandb\u001b[0m: \toptimizer: sgd\n",
            "\u001b[34m\u001b[1mwandb\u001b[0m: \tscheduler: ReduceLROnPlateau\n",
            "\u001b[34m\u001b[1mwandb\u001b[0m: \tweight_decay: 0.001\n"
          ]
        },
        {
          "data": {
            "text/html": [
              "Tracking run with wandb version 0.14.2"
            ],
            "text/plain": [
              "<IPython.core.display.HTML object>"
            ]
          },
          "metadata": {},
          "output_type": "display_data"
        },
        {
          "data": {
            "text/html": [
              "Run data is saved locally in <code>/content/wandb/run-20230412_014156-7xf33m8r</code>"
            ],
            "text/plain": [
              "<IPython.core.display.HTML object>"
            ]
          },
          "metadata": {},
          "output_type": "display_data"
        },
        {
          "data": {
            "text/html": [
              "Syncing run <strong><a href='https://wandb.ai/nyu-tandon/Modified-Resnet/runs/7xf33m8r' target=\"_blank\">glad-sweep-14</a></strong> to <a href='https://wandb.ai/nyu-tandon/Modified-Resnet' target=\"_blank\">Weights & Biases</a> (<a href='https://wandb.me/run' target=\"_blank\">docs</a>)<br/>Sweep page: <a href='https://wandb.ai/nyu-tandon/Modified-Resnet/sweeps/dqtdxs3j' target=\"_blank\">https://wandb.ai/nyu-tandon/Modified-Resnet/sweeps/dqtdxs3j</a>"
            ],
            "text/plain": [
              "<IPython.core.display.HTML object>"
            ]
          },
          "metadata": {},
          "output_type": "display_data"
        },
        {
          "data": {
            "text/html": [
              " View project at <a href='https://wandb.ai/nyu-tandon/Modified-Resnet' target=\"_blank\">https://wandb.ai/nyu-tandon/Modified-Resnet</a>"
            ],
            "text/plain": [
              "<IPython.core.display.HTML object>"
            ]
          },
          "metadata": {},
          "output_type": "display_data"
        },
        {
          "data": {
            "text/html": [
              " View sweep at <a href='https://wandb.ai/nyu-tandon/Modified-Resnet/sweeps/dqtdxs3j' target=\"_blank\">https://wandb.ai/nyu-tandon/Modified-Resnet/sweeps/dqtdxs3j</a>"
            ],
            "text/plain": [
              "<IPython.core.display.HTML object>"
            ]
          },
          "metadata": {},
          "output_type": "display_data"
        },
        {
          "data": {
            "text/html": [
              " View run at <a href='https://wandb.ai/nyu-tandon/Modified-Resnet/runs/7xf33m8r' target=\"_blank\">https://wandb.ai/nyu-tandon/Modified-Resnet/runs/7xf33m8r</a>"
            ],
            "text/plain": [
              "<IPython.core.display.HTML object>"
            ]
          },
          "metadata": {},
          "output_type": "display_data"
        },
        {
          "metadata": {
            "tags": null
          },
          "name": "stderr",
          "output_type": "stream",
          "text": [
            "\u001b[34m\u001b[1mwandb\u001b[0m: \u001b[33mWARNING\u001b[0m Config item 'learning_rate' was locked by 'sweep' (ignored update).\n",
            "\u001b[34m\u001b[1mwandb\u001b[0m: \u001b[33mWARNING\u001b[0m Config item 'optimizer' was locked by 'sweep' (ignored update).\n",
            "\u001b[34m\u001b[1mwandb\u001b[0m: \u001b[33mWARNING\u001b[0m Config item 'scheduler' was locked by 'sweep' (ignored update).\n",
            "\u001b[34m\u001b[1mwandb\u001b[0m: \u001b[33mWARNING\u001b[0m Config item 'momentum' was locked by 'sweep' (ignored update).\n",
            "\u001b[34m\u001b[1mwandb\u001b[0m: \u001b[33mWARNING\u001b[0m Config item 'weight_decay' was locked by 'sweep' (ignored update).\n"
          ]
        },
        {
          "metadata": {
            "tags": null
          },
          "name": "stdout",
          "output_type": "stream",
          "text": [
            "Files already downloaded and verified\n",
            "Files already downloaded and verified\n",
            "Num Params: 4891338\n",
            "\n",
            "\n",
            "\tEpoch: 0\n",
            "\tTraining Loss: 3.5074; Training Accuracy: 35.235%\n",
            "\tValidation Loss: 1.4888; Validation Accuracy: 44.74%\n",
            "\n",
            "\tEpoch: 1\n",
            "\tTraining Loss: 2.765; Training Accuracy: 50.025%\n",
            "\tValidation Loss: 1.1885; Validation Accuracy: 57.16%\n",
            "\n",
            "\tEpoch: 2\n",
            "\tTraining Loss: 2.2662; Training Accuracy: 60.2675%\n",
            "\tValidation Loss: 1.0143; Validation Accuracy: 64.5%\n",
            "\n",
            "\tEpoch: 3\n",
            "\tTraining Loss: 1.9351; Training Accuracy: 66.25%\n",
            "\tValidation Loss: 0.9036; Validation Accuracy: 68.45%\n",
            "\n",
            "\tEpoch: 4\n",
            "\tTraining Loss: 1.7155; Training Accuracy: 70.16%\n",
            "\tValidation Loss: 0.8297; Validation Accuracy: 70.02%\n",
            "\n",
            "\tEpoch: 5\n",
            "\tTraining Loss: 1.5745; Training Accuracy: 72.7625%\n",
            "\tValidation Loss: 0.7781; Validation Accuracy: 73.3%\n",
            "\n",
            "\tEpoch: 6\n",
            "\tTraining Loss: 1.4674; Training Accuracy: 74.8375%\n",
            "\tValidation Loss: 0.7188; Validation Accuracy: 74.73%\n",
            "\n",
            "\tEpoch: 7\n",
            "\tTraining Loss: 1.3467; Training Accuracy: 76.865%\n",
            "\tValidation Loss: 0.7122; Validation Accuracy: 75.85%\n",
            "\n",
            "\tEpoch: 8\n",
            "\tTraining Loss: 1.269; Training Accuracy: 78.1%\n",
            "\tValidation Loss: 0.6142; Validation Accuracy: 78.7%\n",
            "\n",
            "\tEpoch: 9\n",
            "\tTraining Loss: 1.1987; Training Accuracy: 79.8225%\n",
            "\tValidation Loss: 0.6118; Validation Accuracy: 79.13%\n",
            "\n",
            "\tTesting Loss: 0.5991; Testing Accuracy: 79.2%\n"
          ]
        },
        {
          "data": {
            "text/html": [
              "Waiting for W&B process to finish... <strong style=\"color:green\">(success).</strong>"
            ],
            "text/plain": [
              "<IPython.core.display.HTML object>"
            ]
          },
          "metadata": {},
          "output_type": "display_data"
        },
        {
          "data": {
            "application/vnd.jupyter.widget-view+json": {
              "model_id": "31485c0693bf4414bd47ddc1a16adbbb",
              "version_major": 2,
              "version_minor": 0
            },
            "text/plain": [
              "VBox(children=(Label(value='0.001 MB of 0.001 MB uploaded (0.000 MB deduped)\\r'), FloatProgress(value=1.0, max…"
            ]
          },
          "metadata": {},
          "output_type": "display_data"
        },
        {
          "data": {
            "text/html": [
              "<style>\n",
              "    table.wandb td:nth-child(1) { padding: 0 10px; text-align: left ; width: auto;} td:nth-child(2) {text-align: left ; width: 100%}\n",
              "    .wandb-row { display: flex; flex-direction: row; flex-wrap: wrap; justify-content: flex-start; width: 100% }\n",
              "    .wandb-col { display: flex; flex-direction: column; flex-basis: 100%; flex: 1; padding: 10px; }\n",
              "    </style>\n",
              "<div class=\"wandb-row\"><div class=\"wandb-col\"><h3>Run history:</h3><br/><table class=\"wandb\"><tr><td>test_accuracy</td><td>▁</td></tr></table><br/></div><div class=\"wandb-col\"><h3>Run summary:</h3><br/><table class=\"wandb\"><tr><td>test_accuracy</td><td>0.792</td></tr></table><br/></div></div>"
            ],
            "text/plain": [
              "<IPython.core.display.HTML object>"
            ]
          },
          "metadata": {},
          "output_type": "display_data"
        },
        {
          "data": {
            "text/html": [
              " View run <strong style=\"color:#cdcd00\">glad-sweep-14</strong> at: <a href='https://wandb.ai/nyu-tandon/Modified-Resnet/runs/7xf33m8r' target=\"_blank\">https://wandb.ai/nyu-tandon/Modified-Resnet/runs/7xf33m8r</a><br/>Synced 5 W&B file(s), 0 media file(s), 0 artifact file(s) and 0 other file(s)"
            ],
            "text/plain": [
              "<IPython.core.display.HTML object>"
            ]
          },
          "metadata": {},
          "output_type": "display_data"
        },
        {
          "data": {
            "text/html": [
              "Find logs at: <code>./wandb/run-20230412_014156-7xf33m8r/logs</code>"
            ],
            "text/plain": [
              "<IPython.core.display.HTML object>"
            ]
          },
          "metadata": {},
          "output_type": "display_data"
        },
        {
          "metadata": {
            "tags": null
          },
          "name": "stderr",
          "output_type": "stream",
          "text": [
            "\u001b[34m\u001b[1mwandb\u001b[0m: Agent Starting Run: mm9jp2kh with config:\n",
            "\u001b[34m\u001b[1mwandb\u001b[0m: \tlearning_rate: 0.01\n",
            "\u001b[34m\u001b[1mwandb\u001b[0m: \tmomentum: 0.99\n",
            "\u001b[34m\u001b[1mwandb\u001b[0m: \toptimizer: sgd\n",
            "\u001b[34m\u001b[1mwandb\u001b[0m: \tscheduler: ReduceLROnPlateau\n",
            "\u001b[34m\u001b[1mwandb\u001b[0m: \tweight_decay: 0.0005\n"
          ]
        },
        {
          "data": {
            "text/html": [
              "Tracking run with wandb version 0.14.2"
            ],
            "text/plain": [
              "<IPython.core.display.HTML object>"
            ]
          },
          "metadata": {},
          "output_type": "display_data"
        },
        {
          "data": {
            "text/html": [
              "Run data is saved locally in <code>/content/wandb/run-20230412_015110-mm9jp2kh</code>"
            ],
            "text/plain": [
              "<IPython.core.display.HTML object>"
            ]
          },
          "metadata": {},
          "output_type": "display_data"
        },
        {
          "data": {
            "text/html": [
              "Syncing run <strong><a href='https://wandb.ai/nyu-tandon/Modified-Resnet/runs/mm9jp2kh' target=\"_blank\">polished-sweep-16</a></strong> to <a href='https://wandb.ai/nyu-tandon/Modified-Resnet' target=\"_blank\">Weights & Biases</a> (<a href='https://wandb.me/run' target=\"_blank\">docs</a>)<br/>Sweep page: <a href='https://wandb.ai/nyu-tandon/Modified-Resnet/sweeps/dqtdxs3j' target=\"_blank\">https://wandb.ai/nyu-tandon/Modified-Resnet/sweeps/dqtdxs3j</a>"
            ],
            "text/plain": [
              "<IPython.core.display.HTML object>"
            ]
          },
          "metadata": {},
          "output_type": "display_data"
        },
        {
          "data": {
            "text/html": [
              " View project at <a href='https://wandb.ai/nyu-tandon/Modified-Resnet' target=\"_blank\">https://wandb.ai/nyu-tandon/Modified-Resnet</a>"
            ],
            "text/plain": [
              "<IPython.core.display.HTML object>"
            ]
          },
          "metadata": {},
          "output_type": "display_data"
        },
        {
          "data": {
            "text/html": [
              " View sweep at <a href='https://wandb.ai/nyu-tandon/Modified-Resnet/sweeps/dqtdxs3j' target=\"_blank\">https://wandb.ai/nyu-tandon/Modified-Resnet/sweeps/dqtdxs3j</a>"
            ],
            "text/plain": [
              "<IPython.core.display.HTML object>"
            ]
          },
          "metadata": {},
          "output_type": "display_data"
        },
        {
          "data": {
            "text/html": [
              " View run at <a href='https://wandb.ai/nyu-tandon/Modified-Resnet/runs/mm9jp2kh' target=\"_blank\">https://wandb.ai/nyu-tandon/Modified-Resnet/runs/mm9jp2kh</a>"
            ],
            "text/plain": [
              "<IPython.core.display.HTML object>"
            ]
          },
          "metadata": {},
          "output_type": "display_data"
        },
        {
          "metadata": {
            "tags": null
          },
          "name": "stderr",
          "output_type": "stream",
          "text": [
            "\u001b[34m\u001b[1mwandb\u001b[0m: \u001b[33mWARNING\u001b[0m Config item 'learning_rate' was locked by 'sweep' (ignored update).\n",
            "\u001b[34m\u001b[1mwandb\u001b[0m: \u001b[33mWARNING\u001b[0m Config item 'optimizer' was locked by 'sweep' (ignored update).\n",
            "\u001b[34m\u001b[1mwandb\u001b[0m: \u001b[33mWARNING\u001b[0m Config item 'scheduler' was locked by 'sweep' (ignored update).\n",
            "\u001b[34m\u001b[1mwandb\u001b[0m: \u001b[33mWARNING\u001b[0m Config item 'momentum' was locked by 'sweep' (ignored update).\n",
            "\u001b[34m\u001b[1mwandb\u001b[0m: \u001b[33mWARNING\u001b[0m Config item 'weight_decay' was locked by 'sweep' (ignored update).\n"
          ]
        },
        {
          "metadata": {
            "tags": null
          },
          "name": "stdout",
          "output_type": "stream",
          "text": [
            "Files already downloaded and verified\n",
            "Files already downloaded and verified\n",
            "Num Params: 4891338\n",
            "\n",
            "\n",
            "\tEpoch: 0\n",
            "\tTraining Loss: 4.1283; Training Accuracy: 22.6125%\n",
            "\tValidation Loss: 1.8726; Validation Accuracy: 29.57%\n",
            "\n",
            "\tEpoch: 1\n",
            "\tTraining Loss: 3.643; Training Accuracy: 32.035%\n",
            "\tValidation Loss: 1.7272; Validation Accuracy: 35.79%\n",
            "\n",
            "\tEpoch: 2\n",
            "\tTraining Loss: 3.371; Training Accuracy: 37.855%\n",
            "\tValidation Loss: 1.5503; Validation Accuracy: 43.14%\n",
            "\n",
            "\tEpoch: 3\n",
            "\tTraining Loss: 3.0758; Training Accuracy: 43.785%\n",
            "\tValidation Loss: 1.4265; Validation Accuracy: 47.62%\n",
            "\n",
            "\tEpoch: 4\n",
            "\tTraining Loss: 2.7849; Training Accuracy: 50.11%\n",
            "\tValidation Loss: 1.3563; Validation Accuracy: 52.55%\n",
            "\n",
            "\tEpoch: 5\n",
            "\tTraining Loss: 2.5835; Training Accuracy: 54.4125%\n",
            "\tValidation Loss: 1.1878; Validation Accuracy: 57.34%\n",
            "\n",
            "\tEpoch: 6\n",
            "\tTraining Loss: 2.4545; Training Accuracy: 56.7825%\n",
            "\tValidation Loss: 1.2547; Validation Accuracy: 56.07%\n",
            "\n",
            "\tEpoch: 7\n",
            "\tTraining Loss: 2.0469; Training Accuracy: 64.3525%\n",
            "\tValidation Loss: 0.9388; Validation Accuracy: 66.54%\n",
            "\n",
            "\tEpoch: 8\n",
            "\tTraining Loss: 1.9698; Training Accuracy: 65.68%\n",
            "\tValidation Loss: 0.9398; Validation Accuracy: 67.52%\n",
            "\n",
            "\tEpoch: 9\n",
            "\tTraining Loss: 1.9024; Training Accuracy: 67.1475%\n",
            "\tValidation Loss: 0.9425; Validation Accuracy: 67.85%\n",
            "\n",
            "\tTesting Loss: 0.9868; Testing Accuracy: 67.34%\n"
          ]
        },
        {
          "data": {
            "text/html": [
              "Waiting for W&B process to finish... <strong style=\"color:green\">(success).</strong>"
            ],
            "text/plain": [
              "<IPython.core.display.HTML object>"
            ]
          },
          "metadata": {},
          "output_type": "display_data"
        },
        {
          "data": {
            "text/html": [
              "<style>\n",
              "    table.wandb td:nth-child(1) { padding: 0 10px; text-align: left ; width: auto;} td:nth-child(2) {text-align: left ; width: 100%}\n",
              "    .wandb-row { display: flex; flex-direction: row; flex-wrap: wrap; justify-content: flex-start; width: 100% }\n",
              "    .wandb-col { display: flex; flex-direction: column; flex-basis: 100%; flex: 1; padding: 10px; }\n",
              "    </style>\n",
              "<div class=\"wandb-row\"><div class=\"wandb-col\"><h3>Run history:</h3><br/><table class=\"wandb\"><tr><td>test_accuracy</td><td>▁</td></tr></table><br/></div><div class=\"wandb-col\"><h3>Run summary:</h3><br/><table class=\"wandb\"><tr><td>test_accuracy</td><td>0.6734</td></tr></table><br/></div></div>"
            ],
            "text/plain": [
              "<IPython.core.display.HTML object>"
            ]
          },
          "metadata": {},
          "output_type": "display_data"
        },
        {
          "data": {
            "text/html": [
              " View run <strong style=\"color:#cdcd00\">polished-sweep-16</strong> at: <a href='https://wandb.ai/nyu-tandon/Modified-Resnet/runs/mm9jp2kh' target=\"_blank\">https://wandb.ai/nyu-tandon/Modified-Resnet/runs/mm9jp2kh</a><br/>Synced 5 W&B file(s), 0 media file(s), 0 artifact file(s) and 0 other file(s)"
            ],
            "text/plain": [
              "<IPython.core.display.HTML object>"
            ]
          },
          "metadata": {},
          "output_type": "display_data"
        },
        {
          "data": {
            "text/html": [
              "Find logs at: <code>./wandb/run-20230412_015110-mm9jp2kh/logs</code>"
            ],
            "text/plain": [
              "<IPython.core.display.HTML object>"
            ]
          },
          "metadata": {},
          "output_type": "display_data"
        },
        {
          "metadata": {
            "tags": null
          },
          "name": "stderr",
          "output_type": "stream",
          "text": [
            "\u001b[34m\u001b[1mwandb\u001b[0m: Agent Starting Run: bp2h3rf6 with config:\n",
            "\u001b[34m\u001b[1mwandb\u001b[0m: \tlearning_rate: 0.01\n",
            "\u001b[34m\u001b[1mwandb\u001b[0m: \tmomentum: 0.7\n",
            "\u001b[34m\u001b[1mwandb\u001b[0m: \toptimizer: sgd\n",
            "\u001b[34m\u001b[1mwandb\u001b[0m: \tscheduler: ReduceLROnPlateau\n",
            "\u001b[34m\u001b[1mwandb\u001b[0m: \tweight_decay: 0.005\n"
          ]
        },
        {
          "data": {
            "text/html": [
              "Tracking run with wandb version 0.14.2"
            ],
            "text/plain": [
              "<IPython.core.display.HTML object>"
            ]
          },
          "metadata": {},
          "output_type": "display_data"
        },
        {
          "data": {
            "text/html": [
              "Run data is saved locally in <code>/content/wandb/run-20230412_020025-bp2h3rf6</code>"
            ],
            "text/plain": [
              "<IPython.core.display.HTML object>"
            ]
          },
          "metadata": {},
          "output_type": "display_data"
        },
        {
          "data": {
            "text/html": [
              "Syncing run <strong><a href='https://wandb.ai/nyu-tandon/Modified-Resnet/runs/bp2h3rf6' target=\"_blank\">giddy-sweep-18</a></strong> to <a href='https://wandb.ai/nyu-tandon/Modified-Resnet' target=\"_blank\">Weights & Biases</a> (<a href='https://wandb.me/run' target=\"_blank\">docs</a>)<br/>Sweep page: <a href='https://wandb.ai/nyu-tandon/Modified-Resnet/sweeps/dqtdxs3j' target=\"_blank\">https://wandb.ai/nyu-tandon/Modified-Resnet/sweeps/dqtdxs3j</a>"
            ],
            "text/plain": [
              "<IPython.core.display.HTML object>"
            ]
          },
          "metadata": {},
          "output_type": "display_data"
        },
        {
          "data": {
            "text/html": [
              " View project at <a href='https://wandb.ai/nyu-tandon/Modified-Resnet' target=\"_blank\">https://wandb.ai/nyu-tandon/Modified-Resnet</a>"
            ],
            "text/plain": [
              "<IPython.core.display.HTML object>"
            ]
          },
          "metadata": {},
          "output_type": "display_data"
        },
        {
          "data": {
            "text/html": [
              " View sweep at <a href='https://wandb.ai/nyu-tandon/Modified-Resnet/sweeps/dqtdxs3j' target=\"_blank\">https://wandb.ai/nyu-tandon/Modified-Resnet/sweeps/dqtdxs3j</a>"
            ],
            "text/plain": [
              "<IPython.core.display.HTML object>"
            ]
          },
          "metadata": {},
          "output_type": "display_data"
        },
        {
          "data": {
            "text/html": [
              " View run at <a href='https://wandb.ai/nyu-tandon/Modified-Resnet/runs/bp2h3rf6' target=\"_blank\">https://wandb.ai/nyu-tandon/Modified-Resnet/runs/bp2h3rf6</a>"
            ],
            "text/plain": [
              "<IPython.core.display.HTML object>"
            ]
          },
          "metadata": {},
          "output_type": "display_data"
        },
        {
          "metadata": {
            "tags": null
          },
          "name": "stderr",
          "output_type": "stream",
          "text": [
            "\u001b[34m\u001b[1mwandb\u001b[0m: \u001b[33mWARNING\u001b[0m Config item 'learning_rate' was locked by 'sweep' (ignored update).\n",
            "\u001b[34m\u001b[1mwandb\u001b[0m: \u001b[33mWARNING\u001b[0m Config item 'optimizer' was locked by 'sweep' (ignored update).\n",
            "\u001b[34m\u001b[1mwandb\u001b[0m: \u001b[33mWARNING\u001b[0m Config item 'scheduler' was locked by 'sweep' (ignored update).\n",
            "\u001b[34m\u001b[1mwandb\u001b[0m: \u001b[33mWARNING\u001b[0m Config item 'momentum' was locked by 'sweep' (ignored update).\n",
            "\u001b[34m\u001b[1mwandb\u001b[0m: \u001b[33mWARNING\u001b[0m Config item 'weight_decay' was locked by 'sweep' (ignored update).\n"
          ]
        },
        {
          "metadata": {
            "tags": null
          },
          "name": "stdout",
          "output_type": "stream",
          "text": [
            "Files already downloaded and verified\n",
            "Files already downloaded and verified\n",
            "Num Params: 4891338\n",
            "\n",
            "\n",
            "\tEpoch: 0\n",
            "\tTraining Loss: 3.4451; Training Accuracy: 36.1575%\n",
            "\tValidation Loss: 1.482; Validation Accuracy: 45.6%\n",
            "\n",
            "\tEpoch: 1\n",
            "\tTraining Loss: 2.6759; Training Accuracy: 51.7275%\n",
            "\tValidation Loss: 1.2275; Validation Accuracy: 56.9%\n",
            "\n",
            "\tEpoch: 2\n",
            "\tTraining Loss: 2.198; Training Accuracy: 61.2325%\n",
            "\tValidation Loss: 1.0909; Validation Accuracy: 61.78%\n",
            "\n",
            "\tEpoch: 3\n",
            "\tTraining Loss: 1.9345; Training Accuracy: 66.3325%\n",
            "\tValidation Loss: 0.9238; Validation Accuracy: 67.34%\n",
            "\n",
            "\tEpoch: 4\n",
            "\tTraining Loss: 1.7777; Training Accuracy: 69.205%\n",
            "\tValidation Loss: 0.9295; Validation Accuracy: 68.26%\n",
            "\n",
            "\tEpoch: 5\n",
            "\tTraining Loss: 1.6705; Training Accuracy: 71.5975%\n",
            "\tValidation Loss: 0.8399; Validation Accuracy: 71.35%\n",
            "\n",
            "\tEpoch: 6\n",
            "\tTraining Loss: 1.5706; Training Accuracy: 73.435%\n",
            "\tValidation Loss: 0.8104; Validation Accuracy: 72.86%\n",
            "\n",
            "\tEpoch: 7\n",
            "\tTraining Loss: 1.5139; Training Accuracy: 74.435%\n",
            "\tValidation Loss: 0.8009; Validation Accuracy: 72.99%\n",
            "\n",
            "\tEpoch: 8\n",
            "\tTraining Loss: 1.4468; Training Accuracy: 76.0675%\n",
            "\tValidation Loss: 0.7409; Validation Accuracy: 75.34%\n",
            "\n",
            "\tEpoch: 9\n",
            "\tTraining Loss: 1.3963; Training Accuracy: 76.8425%\n",
            "\tValidation Loss: 0.6915; Validation Accuracy: 76.73%\n",
            "\n",
            "\tTesting Loss: 0.6917; Testing Accuracy: 76.56%\n"
          ]
        },
        {
          "data": {
            "text/html": [
              "Waiting for W&B process to finish... <strong style=\"color:green\">(success).</strong>"
            ],
            "text/plain": [
              "<IPython.core.display.HTML object>"
            ]
          },
          "metadata": {},
          "output_type": "display_data"
        },
        {
          "data": {
            "application/vnd.jupyter.widget-view+json": {
              "model_id": "4821e38431d94dd88fa0c011a45acf7b",
              "version_major": 2,
              "version_minor": 0
            },
            "text/plain": [
              "VBox(children=(Label(value='0.001 MB of 0.001 MB uploaded (0.000 MB deduped)\\r'), FloatProgress(value=1.0, max…"
            ]
          },
          "metadata": {},
          "output_type": "display_data"
        },
        {
          "data": {
            "text/html": [
              "<style>\n",
              "    table.wandb td:nth-child(1) { padding: 0 10px; text-align: left ; width: auto;} td:nth-child(2) {text-align: left ; width: 100%}\n",
              "    .wandb-row { display: flex; flex-direction: row; flex-wrap: wrap; justify-content: flex-start; width: 100% }\n",
              "    .wandb-col { display: flex; flex-direction: column; flex-basis: 100%; flex: 1; padding: 10px; }\n",
              "    </style>\n",
              "<div class=\"wandb-row\"><div class=\"wandb-col\"><h3>Run history:</h3><br/><table class=\"wandb\"><tr><td>test_accuracy</td><td>▁</td></tr></table><br/></div><div class=\"wandb-col\"><h3>Run summary:</h3><br/><table class=\"wandb\"><tr><td>test_accuracy</td><td>0.7656</td></tr></table><br/></div></div>"
            ],
            "text/plain": [
              "<IPython.core.display.HTML object>"
            ]
          },
          "metadata": {},
          "output_type": "display_data"
        },
        {
          "data": {
            "text/html": [
              " View run <strong style=\"color:#cdcd00\">giddy-sweep-18</strong> at: <a href='https://wandb.ai/nyu-tandon/Modified-Resnet/runs/bp2h3rf6' target=\"_blank\">https://wandb.ai/nyu-tandon/Modified-Resnet/runs/bp2h3rf6</a><br/>Synced 5 W&B file(s), 0 media file(s), 0 artifact file(s) and 0 other file(s)"
            ],
            "text/plain": [
              "<IPython.core.display.HTML object>"
            ]
          },
          "metadata": {},
          "output_type": "display_data"
        },
        {
          "data": {
            "text/html": [
              "Find logs at: <code>./wandb/run-20230412_020025-bp2h3rf6/logs</code>"
            ],
            "text/plain": [
              "<IPython.core.display.HTML object>"
            ]
          },
          "metadata": {},
          "output_type": "display_data"
        },
        {
          "metadata": {
            "tags": null
          },
          "name": "stderr",
          "output_type": "stream",
          "text": [
            "\u001b[34m\u001b[1mwandb\u001b[0m: Agent Starting Run: lwoy37ba with config:\n",
            "\u001b[34m\u001b[1mwandb\u001b[0m: \tlearning_rate: 0.01\n",
            "\u001b[34m\u001b[1mwandb\u001b[0m: \tmomentum: 0.99\n",
            "\u001b[34m\u001b[1mwandb\u001b[0m: \toptimizer: sgd\n",
            "\u001b[34m\u001b[1mwandb\u001b[0m: \tscheduler: ReduceLROnPlateau\n",
            "\u001b[34m\u001b[1mwandb\u001b[0m: \tweight_decay: 0.005\n"
          ]
        },
        {
          "data": {
            "text/html": [
              "Tracking run with wandb version 0.14.2"
            ],
            "text/plain": [
              "<IPython.core.display.HTML object>"
            ]
          },
          "metadata": {},
          "output_type": "display_data"
        },
        {
          "data": {
            "text/html": [
              "Run data is saved locally in <code>/content/wandb/run-20230412_020958-lwoy37ba</code>"
            ],
            "text/plain": [
              "<IPython.core.display.HTML object>"
            ]
          },
          "metadata": {},
          "output_type": "display_data"
        },
        {
          "data": {
            "text/html": [
              "Syncing run <strong><a href='https://wandb.ai/nyu-tandon/Modified-Resnet/runs/lwoy37ba' target=\"_blank\">young-sweep-20</a></strong> to <a href='https://wandb.ai/nyu-tandon/Modified-Resnet' target=\"_blank\">Weights & Biases</a> (<a href='https://wandb.me/run' target=\"_blank\">docs</a>)<br/>Sweep page: <a href='https://wandb.ai/nyu-tandon/Modified-Resnet/sweeps/dqtdxs3j' target=\"_blank\">https://wandb.ai/nyu-tandon/Modified-Resnet/sweeps/dqtdxs3j</a>"
            ],
            "text/plain": [
              "<IPython.core.display.HTML object>"
            ]
          },
          "metadata": {},
          "output_type": "display_data"
        },
        {
          "data": {
            "text/html": [
              " View project at <a href='https://wandb.ai/nyu-tandon/Modified-Resnet' target=\"_blank\">https://wandb.ai/nyu-tandon/Modified-Resnet</a>"
            ],
            "text/plain": [
              "<IPython.core.display.HTML object>"
            ]
          },
          "metadata": {},
          "output_type": "display_data"
        },
        {
          "data": {
            "text/html": [
              " View sweep at <a href='https://wandb.ai/nyu-tandon/Modified-Resnet/sweeps/dqtdxs3j' target=\"_blank\">https://wandb.ai/nyu-tandon/Modified-Resnet/sweeps/dqtdxs3j</a>"
            ],
            "text/plain": [
              "<IPython.core.display.HTML object>"
            ]
          },
          "metadata": {},
          "output_type": "display_data"
        },
        {
          "data": {
            "text/html": [
              " View run at <a href='https://wandb.ai/nyu-tandon/Modified-Resnet/runs/lwoy37ba' target=\"_blank\">https://wandb.ai/nyu-tandon/Modified-Resnet/runs/lwoy37ba</a>"
            ],
            "text/plain": [
              "<IPython.core.display.HTML object>"
            ]
          },
          "metadata": {},
          "output_type": "display_data"
        },
        {
          "metadata": {
            "tags": null
          },
          "name": "stderr",
          "output_type": "stream",
          "text": [
            "\u001b[34m\u001b[1mwandb\u001b[0m: \u001b[33mWARNING\u001b[0m Config item 'learning_rate' was locked by 'sweep' (ignored update).\n",
            "\u001b[34m\u001b[1mwandb\u001b[0m: \u001b[33mWARNING\u001b[0m Config item 'optimizer' was locked by 'sweep' (ignored update).\n",
            "\u001b[34m\u001b[1mwandb\u001b[0m: \u001b[33mWARNING\u001b[0m Config item 'scheduler' was locked by 'sweep' (ignored update).\n",
            "\u001b[34m\u001b[1mwandb\u001b[0m: \u001b[33mWARNING\u001b[0m Config item 'momentum' was locked by 'sweep' (ignored update).\n",
            "\u001b[34m\u001b[1mwandb\u001b[0m: \u001b[33mWARNING\u001b[0m Config item 'weight_decay' was locked by 'sweep' (ignored update).\n"
          ]
        },
        {
          "metadata": {
            "tags": null
          },
          "name": "stdout",
          "output_type": "stream",
          "text": [
            "Files already downloaded and verified\n",
            "Files already downloaded and verified\n",
            "Num Params: 4891338\n",
            "\n",
            "\n",
            "\tEpoch: 0\n",
            "\tTraining Loss: 4.062; Training Accuracy: 22.185%\n",
            "\tValidation Loss: 2.1545; Validation Accuracy: 19.97%\n",
            "\n",
            "\tEpoch: 1\n",
            "\tTraining Loss: 3.8615; Training Accuracy: 25.165%\n",
            "\tValidation Loss: 2.0824; Validation Accuracy: 22.1%\n",
            "\n",
            "\tEpoch: 2\n",
            "\tTraining Loss: 3.8515; Training Accuracy: 25.4525%\n",
            "\tValidation Loss: 2.1018; Validation Accuracy: 19.61%\n",
            "\n",
            "\tEpoch: 3\n",
            "\tTraining Loss: 3.7875; Training Accuracy: 26.755%\n",
            "\tValidation Loss: 1.9676; Validation Accuracy: 25.94%\n",
            "\n",
            "\tEpoch: 4\n",
            "\tTraining Loss: 3.7592; Training Accuracy: 27.875%\n",
            "\tValidation Loss: 1.8853; Validation Accuracy: 28.53%\n",
            "\n",
            "\tEpoch: 5\n",
            "\tTraining Loss: 3.7328; Training Accuracy: 28.6775%\n",
            "\tValidation Loss: 1.8733; Validation Accuracy: 29.13%\n",
            "\n",
            "\tEpoch: 6\n",
            "\tTraining Loss: 3.7584; Training Accuracy: 27.68%\n",
            "\tValidation Loss: 1.9799; Validation Accuracy: 25.69%\n",
            "\n",
            "\tEpoch: 7\n",
            "\tTraining Loss: 3.6363; Training Accuracy: 30.9475%\n",
            "\tValidation Loss: 1.7912; Validation Accuracy: 31.62%\n",
            "\n",
            "\tEpoch: 8\n",
            "\tTraining Loss: 3.5191; Training Accuracy: 33.635%\n",
            "\tValidation Loss: 1.854; Validation Accuracy: 31.53%\n",
            "\n",
            "\tEpoch: 9\n",
            "\tTraining Loss: 3.3388; Training Accuracy: 37.1175%\n",
            "\tValidation Loss: 1.7184; Validation Accuracy: 36.07%\n",
            "\n",
            "\tTesting Loss: 1.6635; Testing Accuracy: 37.11%\n"
          ]
        },
        {
          "data": {
            "text/html": [
              "Waiting for W&B process to finish... <strong style=\"color:green\">(success).</strong>"
            ],
            "text/plain": [
              "<IPython.core.display.HTML object>"
            ]
          },
          "metadata": {},
          "output_type": "display_data"
        },
        {
          "data": {
            "text/html": [
              "<style>\n",
              "    table.wandb td:nth-child(1) { padding: 0 10px; text-align: left ; width: auto;} td:nth-child(2) {text-align: left ; width: 100%}\n",
              "    .wandb-row { display: flex; flex-direction: row; flex-wrap: wrap; justify-content: flex-start; width: 100% }\n",
              "    .wandb-col { display: flex; flex-direction: column; flex-basis: 100%; flex: 1; padding: 10px; }\n",
              "    </style>\n",
              "<div class=\"wandb-row\"><div class=\"wandb-col\"><h3>Run history:</h3><br/><table class=\"wandb\"><tr><td>test_accuracy</td><td>▁</td></tr></table><br/></div><div class=\"wandb-col\"><h3>Run summary:</h3><br/><table class=\"wandb\"><tr><td>test_accuracy</td><td>0.3711</td></tr></table><br/></div></div>"
            ],
            "text/plain": [
              "<IPython.core.display.HTML object>"
            ]
          },
          "metadata": {},
          "output_type": "display_data"
        },
        {
          "data": {
            "text/html": [
              " View run <strong style=\"color:#cdcd00\">young-sweep-20</strong> at: <a href='https://wandb.ai/nyu-tandon/Modified-Resnet/runs/lwoy37ba' target=\"_blank\">https://wandb.ai/nyu-tandon/Modified-Resnet/runs/lwoy37ba</a><br/>Synced 5 W&B file(s), 0 media file(s), 0 artifact file(s) and 0 other file(s)"
            ],
            "text/plain": [
              "<IPython.core.display.HTML object>"
            ]
          },
          "metadata": {},
          "output_type": "display_data"
        },
        {
          "data": {
            "text/html": [
              "Find logs at: <code>./wandb/run-20230412_020958-lwoy37ba/logs</code>"
            ],
            "text/plain": [
              "<IPython.core.display.HTML object>"
            ]
          },
          "metadata": {},
          "output_type": "display_data"
        },
        {
          "metadata": {
            "tags": null
          },
          "name": "stderr",
          "output_type": "stream",
          "text": [
            "\u001b[34m\u001b[1mwandb\u001b[0m: Agent Starting Run: tmsyszf2 with config:\n",
            "\u001b[34m\u001b[1mwandb\u001b[0m: \tlearning_rate: 0.01\n",
            "\u001b[34m\u001b[1mwandb\u001b[0m: \tmomentum: 0.7\n",
            "\u001b[34m\u001b[1mwandb\u001b[0m: \toptimizer: sgd\n",
            "\u001b[34m\u001b[1mwandb\u001b[0m: \tscheduler: ReduceLROnPlateau\n",
            "\u001b[34m\u001b[1mwandb\u001b[0m: \tweight_decay: 0.005\n"
          ]
        },
        {
          "data": {
            "text/html": [
              "Tracking run with wandb version 0.14.2"
            ],
            "text/plain": [
              "<IPython.core.display.HTML object>"
            ]
          },
          "metadata": {},
          "output_type": "display_data"
        },
        {
          "data": {
            "text/html": [
              "Run data is saved locally in <code>/content/wandb/run-20230412_021911-tmsyszf2</code>"
            ],
            "text/plain": [
              "<IPython.core.display.HTML object>"
            ]
          },
          "metadata": {},
          "output_type": "display_data"
        },
        {
          "data": {
            "text/html": [
              "Syncing run <strong><a href='https://wandb.ai/nyu-tandon/Modified-Resnet/runs/tmsyszf2' target=\"_blank\">happy-sweep-22</a></strong> to <a href='https://wandb.ai/nyu-tandon/Modified-Resnet' target=\"_blank\">Weights & Biases</a> (<a href='https://wandb.me/run' target=\"_blank\">docs</a>)<br/>Sweep page: <a href='https://wandb.ai/nyu-tandon/Modified-Resnet/sweeps/dqtdxs3j' target=\"_blank\">https://wandb.ai/nyu-tandon/Modified-Resnet/sweeps/dqtdxs3j</a>"
            ],
            "text/plain": [
              "<IPython.core.display.HTML object>"
            ]
          },
          "metadata": {},
          "output_type": "display_data"
        },
        {
          "data": {
            "text/html": [
              " View project at <a href='https://wandb.ai/nyu-tandon/Modified-Resnet' target=\"_blank\">https://wandb.ai/nyu-tandon/Modified-Resnet</a>"
            ],
            "text/plain": [
              "<IPython.core.display.HTML object>"
            ]
          },
          "metadata": {},
          "output_type": "display_data"
        },
        {
          "data": {
            "text/html": [
              " View sweep at <a href='https://wandb.ai/nyu-tandon/Modified-Resnet/sweeps/dqtdxs3j' target=\"_blank\">https://wandb.ai/nyu-tandon/Modified-Resnet/sweeps/dqtdxs3j</a>"
            ],
            "text/plain": [
              "<IPython.core.display.HTML object>"
            ]
          },
          "metadata": {},
          "output_type": "display_data"
        },
        {
          "data": {
            "text/html": [
              " View run at <a href='https://wandb.ai/nyu-tandon/Modified-Resnet/runs/tmsyszf2' target=\"_blank\">https://wandb.ai/nyu-tandon/Modified-Resnet/runs/tmsyszf2</a>"
            ],
            "text/plain": [
              "<IPython.core.display.HTML object>"
            ]
          },
          "metadata": {},
          "output_type": "display_data"
        },
        {
          "metadata": {
            "tags": null
          },
          "name": "stderr",
          "output_type": "stream",
          "text": [
            "\u001b[34m\u001b[1mwandb\u001b[0m: \u001b[33mWARNING\u001b[0m Config item 'learning_rate' was locked by 'sweep' (ignored update).\n",
            "\u001b[34m\u001b[1mwandb\u001b[0m: \u001b[33mWARNING\u001b[0m Config item 'optimizer' was locked by 'sweep' (ignored update).\n",
            "\u001b[34m\u001b[1mwandb\u001b[0m: \u001b[33mWARNING\u001b[0m Config item 'scheduler' was locked by 'sweep' (ignored update).\n",
            "\u001b[34m\u001b[1mwandb\u001b[0m: \u001b[33mWARNING\u001b[0m Config item 'momentum' was locked by 'sweep' (ignored update).\n",
            "\u001b[34m\u001b[1mwandb\u001b[0m: \u001b[33mWARNING\u001b[0m Config item 'weight_decay' was locked by 'sweep' (ignored update).\n"
          ]
        },
        {
          "metadata": {
            "tags": null
          },
          "name": "stdout",
          "output_type": "stream",
          "text": [
            "Files already downloaded and verified\n",
            "Files already downloaded and verified\n",
            "Num Params: 4891338\n",
            "\n",
            "\n",
            "\tEpoch: 0\n",
            "\tTraining Loss: 3.4806; Training Accuracy: 35.7525%\n",
            "\tValidation Loss: 1.4884; Validation Accuracy: 45.0%\n",
            "\n",
            "\tEpoch: 1\n",
            "\tTraining Loss: 2.7778; Training Accuracy: 49.8175%\n",
            "\tValidation Loss: 1.2465; Validation Accuracy: 56.0%\n",
            "\n",
            "\tEpoch: 2\n",
            "\tTraining Loss: 2.2845; Training Accuracy: 59.55%\n",
            "\tValidation Loss: 1.144; Validation Accuracy: 59.49%\n",
            "\n",
            "\tEpoch: 3\n",
            "\tTraining Loss: 1.9858; Training Accuracy: 65.415%\n",
            "\tValidation Loss: 1.1117; Validation Accuracy: 60.43%\n",
            "\n",
            "\tEpoch: 4\n",
            "\tTraining Loss: 1.8031; Training Accuracy: 68.925%\n",
            "\tValidation Loss: 0.9208; Validation Accuracy: 68.54%\n",
            "\n",
            "\tEpoch: 5\n",
            "\tTraining Loss: 1.6703; Training Accuracy: 71.46%\n",
            "\tValidation Loss: 0.8344; Validation Accuracy: 71.29%\n",
            "\n",
            "\tEpoch: 6\n",
            "\tTraining Loss: 1.5718; Training Accuracy: 73.265%\n",
            "\tValidation Loss: 0.812; Validation Accuracy: 72.28%\n",
            "\n",
            "\tEpoch: 7\n",
            "\tTraining Loss: 1.5072; Training Accuracy: 74.625%\n",
            "\tValidation Loss: 0.7493; Validation Accuracy: 73.91%\n",
            "\n",
            "\tEpoch: 8\n",
            "\tTraining Loss: 1.4408; Training Accuracy: 76.0625%\n",
            "\tValidation Loss: 0.7299; Validation Accuracy: 76.05%\n",
            "\n",
            "\tEpoch: 9\n",
            "\tTraining Loss: 1.4024; Training Accuracy: 76.7025%\n",
            "\tValidation Loss: 0.7957; Validation Accuracy: 73.5%\n",
            "\n",
            "\tTesting Loss: 0.8484; Testing Accuracy: 72.27%\n"
          ]
        },
        {
          "data": {
            "text/html": [
              "Waiting for W&B process to finish... <strong style=\"color:green\">(success).</strong>"
            ],
            "text/plain": [
              "<IPython.core.display.HTML object>"
            ]
          },
          "metadata": {},
          "output_type": "display_data"
        },
        {
          "data": {
            "application/vnd.jupyter.widget-view+json": {
              "model_id": "b2a3ec049e1744e39f93d98ba9a24512",
              "version_major": 2,
              "version_minor": 0
            },
            "text/plain": [
              "VBox(children=(Label(value='0.001 MB of 0.001 MB uploaded (0.000 MB deduped)\\r'), FloatProgress(value=1.0, max…"
            ]
          },
          "metadata": {},
          "output_type": "display_data"
        },
        {
          "data": {
            "text/html": [
              "<style>\n",
              "    table.wandb td:nth-child(1) { padding: 0 10px; text-align: left ; width: auto;} td:nth-child(2) {text-align: left ; width: 100%}\n",
              "    .wandb-row { display: flex; flex-direction: row; flex-wrap: wrap; justify-content: flex-start; width: 100% }\n",
              "    .wandb-col { display: flex; flex-direction: column; flex-basis: 100%; flex: 1; padding: 10px; }\n",
              "    </style>\n",
              "<div class=\"wandb-row\"><div class=\"wandb-col\"><h3>Run history:</h3><br/><table class=\"wandb\"><tr><td>test_accuracy</td><td>▁</td></tr></table><br/></div><div class=\"wandb-col\"><h3>Run summary:</h3><br/><table class=\"wandb\"><tr><td>test_accuracy</td><td>0.7227</td></tr></table><br/></div></div>"
            ],
            "text/plain": [
              "<IPython.core.display.HTML object>"
            ]
          },
          "metadata": {},
          "output_type": "display_data"
        },
        {
          "data": {
            "text/html": [
              " View run <strong style=\"color:#cdcd00\">happy-sweep-22</strong> at: <a href='https://wandb.ai/nyu-tandon/Modified-Resnet/runs/tmsyszf2' target=\"_blank\">https://wandb.ai/nyu-tandon/Modified-Resnet/runs/tmsyszf2</a><br/>Synced 5 W&B file(s), 0 media file(s), 0 artifact file(s) and 0 other file(s)"
            ],
            "text/plain": [
              "<IPython.core.display.HTML object>"
            ]
          },
          "metadata": {},
          "output_type": "display_data"
        },
        {
          "data": {
            "text/html": [
              "Find logs at: <code>./wandb/run-20230412_021911-tmsyszf2/logs</code>"
            ],
            "text/plain": [
              "<IPython.core.display.HTML object>"
            ]
          },
          "metadata": {},
          "output_type": "display_data"
        },
        {
          "metadata": {
            "tags": null
          },
          "name": "stderr",
          "output_type": "stream",
          "text": [
            "\u001b[34m\u001b[1mwandb\u001b[0m: Agent Starting Run: y9s57qsy with config:\n",
            "\u001b[34m\u001b[1mwandb\u001b[0m: \tlearning_rate: 0.01\n",
            "\u001b[34m\u001b[1mwandb\u001b[0m: \tmomentum: 0.9\n",
            "\u001b[34m\u001b[1mwandb\u001b[0m: \toptimizer: sgd\n",
            "\u001b[34m\u001b[1mwandb\u001b[0m: \tscheduler: ReduceLROnPlateau\n",
            "\u001b[34m\u001b[1mwandb\u001b[0m: \tweight_decay: 0.0005\n"
          ]
        },
        {
          "data": {
            "text/html": [
              "Tracking run with wandb version 0.14.2"
            ],
            "text/plain": [
              "<IPython.core.display.HTML object>"
            ]
          },
          "metadata": {},
          "output_type": "display_data"
        },
        {
          "data": {
            "text/html": [
              "Run data is saved locally in <code>/content/wandb/run-20230412_022814-y9s57qsy</code>"
            ],
            "text/plain": [
              "<IPython.core.display.HTML object>"
            ]
          },
          "metadata": {},
          "output_type": "display_data"
        },
        {
          "data": {
            "text/html": [
              "Syncing run <strong><a href='https://wandb.ai/nyu-tandon/Modified-Resnet/runs/y9s57qsy' target=\"_blank\">vivid-sweep-24</a></strong> to <a href='https://wandb.ai/nyu-tandon/Modified-Resnet' target=\"_blank\">Weights & Biases</a> (<a href='https://wandb.me/run' target=\"_blank\">docs</a>)<br/>Sweep page: <a href='https://wandb.ai/nyu-tandon/Modified-Resnet/sweeps/dqtdxs3j' target=\"_blank\">https://wandb.ai/nyu-tandon/Modified-Resnet/sweeps/dqtdxs3j</a>"
            ],
            "text/plain": [
              "<IPython.core.display.HTML object>"
            ]
          },
          "metadata": {},
          "output_type": "display_data"
        },
        {
          "data": {
            "text/html": [
              " View project at <a href='https://wandb.ai/nyu-tandon/Modified-Resnet' target=\"_blank\">https://wandb.ai/nyu-tandon/Modified-Resnet</a>"
            ],
            "text/plain": [
              "<IPython.core.display.HTML object>"
            ]
          },
          "metadata": {},
          "output_type": "display_data"
        },
        {
          "data": {
            "text/html": [
              " View sweep at <a href='https://wandb.ai/nyu-tandon/Modified-Resnet/sweeps/dqtdxs3j' target=\"_blank\">https://wandb.ai/nyu-tandon/Modified-Resnet/sweeps/dqtdxs3j</a>"
            ],
            "text/plain": [
              "<IPython.core.display.HTML object>"
            ]
          },
          "metadata": {},
          "output_type": "display_data"
        },
        {
          "data": {
            "text/html": [
              " View run at <a href='https://wandb.ai/nyu-tandon/Modified-Resnet/runs/y9s57qsy' target=\"_blank\">https://wandb.ai/nyu-tandon/Modified-Resnet/runs/y9s57qsy</a>"
            ],
            "text/plain": [
              "<IPython.core.display.HTML object>"
            ]
          },
          "metadata": {},
          "output_type": "display_data"
        },
        {
          "metadata": {
            "tags": null
          },
          "name": "stderr",
          "output_type": "stream",
          "text": [
            "\u001b[34m\u001b[1mwandb\u001b[0m: \u001b[33mWARNING\u001b[0m Config item 'learning_rate' was locked by 'sweep' (ignored update).\n",
            "\u001b[34m\u001b[1mwandb\u001b[0m: \u001b[33mWARNING\u001b[0m Config item 'optimizer' was locked by 'sweep' (ignored update).\n",
            "\u001b[34m\u001b[1mwandb\u001b[0m: \u001b[33mWARNING\u001b[0m Config item 'scheduler' was locked by 'sweep' (ignored update).\n",
            "\u001b[34m\u001b[1mwandb\u001b[0m: \u001b[33mWARNING\u001b[0m Config item 'momentum' was locked by 'sweep' (ignored update).\n",
            "\u001b[34m\u001b[1mwandb\u001b[0m: \u001b[33mWARNING\u001b[0m Config item 'weight_decay' was locked by 'sweep' (ignored update).\n"
          ]
        },
        {
          "metadata": {
            "tags": null
          },
          "name": "stdout",
          "output_type": "stream",
          "text": [
            "Files already downloaded and verified\n",
            "Files already downloaded and verified\n",
            "Num Params: 4891338\n",
            "\n",
            "\n",
            "\tEpoch: 0\n",
            "\tTraining Loss: 3.6377; Training Accuracy: 32.785%\n",
            "\tValidation Loss: 1.5984; Validation Accuracy: 40.95%\n",
            "\n",
            "\tEpoch: 1\n",
            "\tTraining Loss: 3.025; Training Accuracy: 44.64%\n",
            "\tValidation Loss: 1.3501; Validation Accuracy: 50.8%\n",
            "\n",
            "\tEpoch: 2\n",
            "\tTraining Loss: 2.6078; Training Accuracy: 53.195%\n",
            "\tValidation Loss: 1.115; Validation Accuracy: 59.65%\n",
            "\n",
            "\tEpoch: 3\n",
            "\tTraining Loss: 2.1957; Training Accuracy: 60.7725%\n",
            "\tValidation Loss: 0.968; Validation Accuracy: 65.8%\n",
            "\n",
            "\tEpoch: 4\n",
            "\tTraining Loss: 1.9261; Training Accuracy: 66.0075%\n",
            "\tValidation Loss: 0.9734; Validation Accuracy: 65.8%\n",
            "\n",
            "\tEpoch: 5\n",
            "\tTraining Loss: 1.5543; Training Accuracy: 72.8725%\n",
            "\tValidation Loss: 0.7589; Validation Accuracy: 73.2%\n",
            "\n",
            "\tEpoch: 6\n",
            "\tTraining Loss: 1.4428; Training Accuracy: 75.0125%\n",
            "\tValidation Loss: 0.7193; Validation Accuracy: 74.51%\n",
            "\n",
            "\tEpoch: 7\n",
            "\tTraining Loss: 1.3564; Training Accuracy: 76.52%\n",
            "\tValidation Loss: 0.6794; Validation Accuracy: 76.41%\n",
            "\n",
            "\tEpoch: 8\n",
            "\tTraining Loss: 1.2832; Training Accuracy: 77.58%\n",
            "\tValidation Loss: 0.6347; Validation Accuracy: 77.98%\n",
            "\n",
            "\tEpoch: 9\n",
            "\tTraining Loss: 1.2095; Training Accuracy: 79.1875%\n",
            "\tValidation Loss: 0.6096; Validation Accuracy: 78.61%\n",
            "\n",
            "\tTesting Loss: 0.6007; Testing Accuracy: 79.19%\n"
          ]
        },
        {
          "data": {
            "text/html": [
              "Waiting for W&B process to finish... <strong style=\"color:green\">(success).</strong>"
            ],
            "text/plain": [
              "<IPython.core.display.HTML object>"
            ]
          },
          "metadata": {},
          "output_type": "display_data"
        },
        {
          "data": {
            "application/vnd.jupyter.widget-view+json": {
              "model_id": "74ac18038a7c465591332ecce87bed8d",
              "version_major": 2,
              "version_minor": 0
            },
            "text/plain": [
              "VBox(children=(Label(value='0.001 MB of 0.001 MB uploaded (0.000 MB deduped)\\r'), FloatProgress(value=1.0, max…"
            ]
          },
          "metadata": {},
          "output_type": "display_data"
        },
        {
          "data": {
            "text/html": [
              "<style>\n",
              "    table.wandb td:nth-child(1) { padding: 0 10px; text-align: left ; width: auto;} td:nth-child(2) {text-align: left ; width: 100%}\n",
              "    .wandb-row { display: flex; flex-direction: row; flex-wrap: wrap; justify-content: flex-start; width: 100% }\n",
              "    .wandb-col { display: flex; flex-direction: column; flex-basis: 100%; flex: 1; padding: 10px; }\n",
              "    </style>\n",
              "<div class=\"wandb-row\"><div class=\"wandb-col\"><h3>Run history:</h3><br/><table class=\"wandb\"><tr><td>test_accuracy</td><td>▁</td></tr></table><br/></div><div class=\"wandb-col\"><h3>Run summary:</h3><br/><table class=\"wandb\"><tr><td>test_accuracy</td><td>0.7919</td></tr></table><br/></div></div>"
            ],
            "text/plain": [
              "<IPython.core.display.HTML object>"
            ]
          },
          "metadata": {},
          "output_type": "display_data"
        },
        {
          "data": {
            "text/html": [
              " View run <strong style=\"color:#cdcd00\">vivid-sweep-24</strong> at: <a href='https://wandb.ai/nyu-tandon/Modified-Resnet/runs/y9s57qsy' target=\"_blank\">https://wandb.ai/nyu-tandon/Modified-Resnet/runs/y9s57qsy</a><br/>Synced 5 W&B file(s), 0 media file(s), 0 artifact file(s) and 0 other file(s)"
            ],
            "text/plain": [
              "<IPython.core.display.HTML object>"
            ]
          },
          "metadata": {},
          "output_type": "display_data"
        },
        {
          "data": {
            "text/html": [
              "Find logs at: <code>./wandb/run-20230412_022814-y9s57qsy/logs</code>"
            ],
            "text/plain": [
              "<IPython.core.display.HTML object>"
            ]
          },
          "metadata": {},
          "output_type": "display_data"
        },
        {
          "metadata": {
            "tags": null
          },
          "name": "stderr",
          "output_type": "stream",
          "text": [
            "\u001b[34m\u001b[1mwandb\u001b[0m: Sweep Agent: Waiting for job.\n",
            "\u001b[34m\u001b[1mwandb\u001b[0m: Job received.\n",
            "\u001b[34m\u001b[1mwandb\u001b[0m: Agent Starting Run: qieie64z with config:\n",
            "\u001b[34m\u001b[1mwandb\u001b[0m: \tlearning_rate: 0.01\n",
            "\u001b[34m\u001b[1mwandb\u001b[0m: \tmomentum: 0.7\n",
            "\u001b[34m\u001b[1mwandb\u001b[0m: \toptimizer: sgd\n",
            "\u001b[34m\u001b[1mwandb\u001b[0m: \tscheduler: ReduceLROnPlateau\n",
            "\u001b[34m\u001b[1mwandb\u001b[0m: \tweight_decay: 0.005\n"
          ]
        },
        {
          "data": {
            "text/html": [
              "Tracking run with wandb version 0.14.2"
            ],
            "text/plain": [
              "<IPython.core.display.HTML object>"
            ]
          },
          "metadata": {},
          "output_type": "display_data"
        },
        {
          "data": {
            "text/html": [
              "Run data is saved locally in <code>/content/wandb/run-20230412_023720-qieie64z</code>"
            ],
            "text/plain": [
              "<IPython.core.display.HTML object>"
            ]
          },
          "metadata": {},
          "output_type": "display_data"
        },
        {
          "data": {
            "text/html": [
              "Syncing run <strong><a href='https://wandb.ai/nyu-tandon/Modified-Resnet/runs/qieie64z' target=\"_blank\">clear-sweep-26</a></strong> to <a href='https://wandb.ai/nyu-tandon/Modified-Resnet' target=\"_blank\">Weights & Biases</a> (<a href='https://wandb.me/run' target=\"_blank\">docs</a>)<br/>Sweep page: <a href='https://wandb.ai/nyu-tandon/Modified-Resnet/sweeps/dqtdxs3j' target=\"_blank\">https://wandb.ai/nyu-tandon/Modified-Resnet/sweeps/dqtdxs3j</a>"
            ],
            "text/plain": [
              "<IPython.core.display.HTML object>"
            ]
          },
          "metadata": {},
          "output_type": "display_data"
        },
        {
          "data": {
            "text/html": [
              " View project at <a href='https://wandb.ai/nyu-tandon/Modified-Resnet' target=\"_blank\">https://wandb.ai/nyu-tandon/Modified-Resnet</a>"
            ],
            "text/plain": [
              "<IPython.core.display.HTML object>"
            ]
          },
          "metadata": {},
          "output_type": "display_data"
        },
        {
          "data": {
            "text/html": [
              " View sweep at <a href='https://wandb.ai/nyu-tandon/Modified-Resnet/sweeps/dqtdxs3j' target=\"_blank\">https://wandb.ai/nyu-tandon/Modified-Resnet/sweeps/dqtdxs3j</a>"
            ],
            "text/plain": [
              "<IPython.core.display.HTML object>"
            ]
          },
          "metadata": {},
          "output_type": "display_data"
        },
        {
          "data": {
            "text/html": [
              " View run at <a href='https://wandb.ai/nyu-tandon/Modified-Resnet/runs/qieie64z' target=\"_blank\">https://wandb.ai/nyu-tandon/Modified-Resnet/runs/qieie64z</a>"
            ],
            "text/plain": [
              "<IPython.core.display.HTML object>"
            ]
          },
          "metadata": {},
          "output_type": "display_data"
        },
        {
          "metadata": {
            "tags": null
          },
          "name": "stderr",
          "output_type": "stream",
          "text": [
            "\u001b[34m\u001b[1mwandb\u001b[0m: \u001b[33mWARNING\u001b[0m Config item 'learning_rate' was locked by 'sweep' (ignored update).\n",
            "\u001b[34m\u001b[1mwandb\u001b[0m: \u001b[33mWARNING\u001b[0m Config item 'optimizer' was locked by 'sweep' (ignored update).\n",
            "\u001b[34m\u001b[1mwandb\u001b[0m: \u001b[33mWARNING\u001b[0m Config item 'scheduler' was locked by 'sweep' (ignored update).\n",
            "\u001b[34m\u001b[1mwandb\u001b[0m: \u001b[33mWARNING\u001b[0m Config item 'momentum' was locked by 'sweep' (ignored update).\n",
            "\u001b[34m\u001b[1mwandb\u001b[0m: \u001b[33mWARNING\u001b[0m Config item 'weight_decay' was locked by 'sweep' (ignored update).\n"
          ]
        },
        {
          "metadata": {
            "tags": null
          },
          "name": "stdout",
          "output_type": "stream",
          "text": [
            "Files already downloaded and verified\n",
            "Files already downloaded and verified\n",
            "Num Params: 4891338\n",
            "\n",
            "\n",
            "\tEpoch: 0\n",
            "\tTraining Loss: 3.4475; Training Accuracy: 36.35%\n",
            "\tValidation Loss: 1.5173; Validation Accuracy: 44.78%\n",
            "\n",
            "\tEpoch: 1\n",
            "\tTraining Loss: 2.7286; Training Accuracy: 51.1775%\n",
            "\tValidation Loss: 1.2208; Validation Accuracy: 55.29%\n",
            "\n",
            "\tEpoch: 2\n",
            "\tTraining Loss: 2.2257; Training Accuracy: 61.255%\n",
            "\tValidation Loss: 1.1033; Validation Accuracy: 61.01%\n",
            "\n",
            "\tEpoch: 3\n",
            "\tTraining Loss: 1.9425; Training Accuracy: 66.52%\n",
            "\tValidation Loss: 1.0329; Validation Accuracy: 64.8%\n",
            "\n",
            "\tEpoch: 4\n",
            "\tTraining Loss: 1.7813; Training Accuracy: 69.5175%\n",
            "\tValidation Loss: 0.956; Validation Accuracy: 67.71%\n",
            "\n",
            "\tEpoch: 5\n",
            "\tTraining Loss: 1.679; Training Accuracy: 71.6475%\n",
            "\tValidation Loss: 0.8442; Validation Accuracy: 71.31%\n",
            "\n",
            "\tEpoch: 6\n",
            "\tTraining Loss: 1.5684; Training Accuracy: 73.325%\n",
            "\tValidation Loss: 0.7976; Validation Accuracy: 72.93%\n",
            "\n",
            "\tEpoch: 7\n"
          ]
        }
      ]
    }
  ]
}